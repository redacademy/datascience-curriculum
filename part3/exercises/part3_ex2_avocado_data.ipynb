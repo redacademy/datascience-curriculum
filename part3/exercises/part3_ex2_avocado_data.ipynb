{
 "cells": [
  {
   "cell_type": "markdown",
   "metadata": {},
   "source": [
    "# Exercise 2: Exploring the Avocado Dataset\n",
    "\n",
    "We're going to do some exploratory data analysis on an avocado retail dataset. \n",
    "\n",
    "### Importing Dependencies \n",
    "\n",
    "Before we start, we'll need to import `pandas`, `seaborn`, and `matplotlib` which are important tools for performing data exploration in Python. "
   ]
  },
  {
   "cell_type": "code",
   "execution_count": null,
   "metadata": {},
   "outputs": [],
   "source": [
    "import pandas as pd\n",
    "import seaborn as sns\n",
    "import matplotlib.pyplot as plt"
   ]
  },
  {
   "cell_type": "markdown",
   "metadata": {},
   "source": [
    "### Loading the Data\n",
    "\n",
    "We'll look at the [Avocado Dataset](https://www.kaggle.com/neuromusic/avocado-prices/data) published on Kaggle. The data was retrieved in 2018 and comes from the Hass Avocado Board. The data dictionary below will give us a better idea of what each column represents:\n",
    "\n",
    "|column|description|\n",
    "|------|-----------|\n",
    "|date |Date of the observation|\n",
    "|average_price|Average price of a single avocado|\n",
    "|type |Type of avocado. Can be either conventional or organic|\n",
    "|year | Year of observation|\n",
    "|region | City or region of the observation|\n",
    "|Total Volume | Total number of avocados sold|\n",
    "|4046|Total number of avocados with PLU 4046 sold|\n",
    "|4225|Total number of avocados with PLU 4225 sold|\n",
    "|4770|Total number of avocados with PLU 4770 sold|"
   ]
  },
  {
   "cell_type": "code",
   "execution_count": null,
   "metadata": {},
   "outputs": [],
   "source": [
    "avocados = pd.read_csv(\"https://s3.us-east-2.amazonaws.com/explore.datasets/rbi/avocado.csv\", index_col=0)\n",
    "avocados.head()"
   ]
  },
  {
   "cell_type": "markdown",
   "metadata": {},
   "source": [
    "How many columns and rows are we dealing with?"
   ]
  },
  {
   "cell_type": "code",
   "execution_count": null,
   "metadata": {},
   "outputs": [],
   "source": [
    "avocados.____"
   ]
  },
  {
   "cell_type": "markdown",
   "metadata": {},
   "source": [
    "What is the datatype of each column?"
   ]
  },
  {
   "cell_type": "code",
   "execution_count": null,
   "metadata": {},
   "outputs": [],
   "source": [
    "avocados.____"
   ]
  },
  {
   "cell_type": "markdown",
   "metadata": {},
   "source": [
    "How many missing values are in our dataset?"
   ]
  },
  {
   "cell_type": "code",
   "execution_count": null,
   "metadata": {},
   "outputs": [],
   "source": [
    "avocados.____().sum()"
   ]
  },
  {
   "cell_type": "markdown",
   "metadata": {},
   "source": [
    "What is the mean price of an avocado? What are the lowest and highest prices? Use the `mean`, `min`, and `max` functions to calculate these values."
   ]
  },
  {
   "cell_type": "code",
   "execution_count": null,
   "metadata": {},
   "outputs": [],
   "source": [
    "mean_price = avocados['average_price']._____\n",
    "min_price = avocados['average_price']._____\n",
    "max_price = avocados['average_price']._____\n",
    "\n",
    "print(f\"The mean price of an avocado is {mean_price}, with a min of {min_price} and max of {max_price}\")"
   ]
  },
  {
   "cell_type": "markdown",
   "metadata": {},
   "source": [
    "What is the distribution of price? Use Seaborn's [distplot](https://seaborn.pydata.org/generated/seaborn.distplot.html) to plot the distribution. You can also add another line representing the mean price using Matplotlib's `axvline`."
   ]
  },
  {
   "cell_type": "code",
   "execution_count": null,
   "metadata": {},
   "outputs": [],
   "source": [
    "sns._____(avocados['____'])\n",
    "plt.axvline(mean_price)"
   ]
  },
  {
   "cell_type": "markdown",
   "metadata": {},
   "source": [
    "What proporition of avocaods are conventional vs. organic? Check the value_counts of the `type` column and pass in `normalize=True`. "
   ]
  },
  {
   "cell_type": "code",
   "execution_count": null,
   "metadata": {},
   "outputs": [],
   "source": [
    "avocados['type'].______(_____)"
   ]
  },
  {
   "cell_type": "markdown",
   "metadata": {},
   "source": [
    "Is there a difference in price between avocado types? You can groupby `type` and calculate the mean price for each avocado type."
   ]
  },
  {
   "cell_type": "code",
   "execution_count": null,
   "metadata": {},
   "outputs": [],
   "source": [
    "avocados.groupby('____')['average_price'].mean()"
   ]
  },
  {
   "cell_type": "markdown",
   "metadata": {},
   "source": [
    "We have a `date` column that represents the date at which avocado retail information was collected. Let's extract the month from this column. We first need to convert the `date` column to datetime. Use `pd.to_datetime` to make this conversion."
   ]
  },
  {
   "cell_type": "code",
   "execution_count": null,
   "metadata": {},
   "outputs": [],
   "source": [
    "avocados['date'] = pd.to_datetime()"
   ]
  },
  {
   "cell_type": "markdown",
   "metadata": {},
   "source": [
    "To extract the month, we can simply apply `dt.month`. If you want the full name month name, yo you can use `dt.month_name`."
   ]
  },
  {
   "cell_type": "code",
   "execution_count": null,
   "metadata": {},
   "outputs": [],
   "source": [
    "avocados['month'] = avocados['date'].dt____"
   ]
  },
  {
   "cell_type": "markdown",
   "metadata": {},
   "source": [
    "Let's look at avocados from the year 2017. We can create a new dataframe that gets avocados exclusively from 2017."
   ]
  },
  {
   "cell_type": "code",
   "execution_count": null,
   "metadata": {},
   "outputs": [],
   "source": [
    "avocados_2017 = avocados[avocados['year']== ____]"
   ]
  },
  {
   "cell_type": "markdown",
   "metadata": {},
   "source": [
    "Now that we have our `month` column, let's plot the average price of avocados for each month in 2017. We can do this using Seaborn's [barplot](https://seaborn.pydata.org/generated/seaborn.barplot.html)."
   ]
  },
  {
   "cell_type": "code",
   "execution_count": null,
   "metadata": {},
   "outputs": [],
   "source": [
    "sns.barplot(x='_____', y='average_price', data=avocados_2017)"
   ]
  },
  {
   "cell_type": "markdown",
   "metadata": {},
   "source": [
    "We can add another element to our barplot. Let's look at differences in price by `type` for each month. We just need to assign `type` to the `hue` parameter. Try playing around with the palette too. "
   ]
  },
  {
   "cell_type": "code",
   "execution_count": null,
   "metadata": {},
   "outputs": [],
   "source": [
    "sns.barplot(x='_____', y='average_price', hue='_____', data=avocados_2017, palette='viridis')"
   ]
  },
  {
   "cell_type": "markdown",
   "metadata": {},
   "source": [
    "Let's now take a look at `month` and `total_bags`. Let's group our `avocados_2017` dataset by month and calculate the mean number of bags. "
   ]
  },
  {
   "cell_type": "code",
   "execution_count": null,
   "metadata": {},
   "outputs": [],
   "source": [
    "avocados_2017.groupby(['month'])['_______'].mean()"
   ]
  },
  {
   "cell_type": "markdown",
   "metadata": {},
   "source": [
    "Let's repeat this but this time we'll look at the number of `xlarge_bags`. "
   ]
  },
  {
   "cell_type": "code",
   "execution_count": null,
   "metadata": {},
   "outputs": [],
   "source": [
    "avocados_2017.groupby(['month'])['_______'].mean()"
   ]
  },
  {
   "cell_type": "markdown",
   "metadata": {},
   "source": [
    "Which `region` produced the most avocados in 2017? Let's look at the `total_volume` of avocados."
   ]
  },
  {
   "cell_type": "code",
   "execution_count": null,
   "metadata": {},
   "outputs": [],
   "source": [
    "volumn_by_region = avocados_2017.groupby('region')['_____'].mean().reset_index()"
   ]
  },
  {
   "cell_type": "markdown",
   "metadata": {},
   "source": [
    "To see which regions produced the greatest volume of avocaods, we'll need to sort `volumn_by_region` by `total_volume`. Make sure to set `ascending` to be False. "
   ]
  },
  {
   "cell_type": "code",
   "execution_count": null,
   "metadata": {},
   "outputs": [],
   "source": [
    "volumn_by_region.sort_values(by='___', ______).head()"
   ]
  }
 ],
 "metadata": {
  "kernelspec": {
   "display_name": "Python 3",
   "language": "python",
   "name": "python3"
  },
  "language_info": {
   "codemirror_mode": {
    "name": "ipython",
    "version": 3
   },
   "file_extension": ".py",
   "mimetype": "text/x-python",
   "name": "python",
   "nbconvert_exporter": "python",
   "pygments_lexer": "ipython3",
   "version": "3.6.5"
  }
 },
 "nbformat": 4,
 "nbformat_minor": 2
}
