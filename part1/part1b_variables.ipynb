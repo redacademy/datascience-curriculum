{
 "cells": [
  {
   "cell_type": "markdown",
   "metadata": {},
   "source": [
    "# Part 1b: Variables\n",
    "\n",
    "A variable by definition is a \"reserved memory location to store values\". In this tutorial, we'll cover:\n",
    "\n",
    "- how to create a variable\n",
    "- how to assign one varaible to another variable\n",
    "- the difference between local and global variables\n",
    "\n",
    "A fill-in-the-blank version of this notebook is available on [Google Colab](https://colab.research.google.com/drive/1XBPRdeuJD5uLnOozpD6Zr8ufdVj8WDyT)."
   ]
  },
  {
   "cell_type": "markdown",
   "metadata": {},
   "source": [
    "### Creating a Variable\n",
    "\n",
    "We can create a variable by assigning it a value. "
   ]
  },
  {
   "cell_type": "code",
   "execution_count": 1,
   "metadata": {},
   "outputs": [
    {
     "name": "stdout",
     "output_type": "stream",
     "text": [
      "10\n"
     ]
    }
   ],
   "source": [
    "x = 10\n",
    "print(x)"
   ]
  },
  {
   "cell_type": "markdown",
   "metadata": {},
   "source": [
    "In the example above, variable `x` is assigned the value 10. We can treat `x` as if it were 10 and apply arithmetic operations to it. "
   ]
  },
  {
   "cell_type": "code",
   "execution_count": 4,
   "metadata": {},
   "outputs": [
    {
     "name": "stdout",
     "output_type": "stream",
     "text": [
      "20\n",
      "110\n"
     ]
    }
   ],
   "source": [
    "print(x*2)\n",
    "print(x+100)"
   ]
  },
  {
   "cell_type": "markdown",
   "metadata": {},
   "source": [
    "We can re-assign a variable to another value even after it's already been assigned once. When we use the variable after re-assignment, the new value will referenced. The initial value is no longer stored. "
   ]
  },
  {
   "cell_type": "code",
   "execution_count": 7,
   "metadata": {},
   "outputs": [
    {
     "name": "stdout",
     "output_type": "stream",
     "text": [
      "1\n",
      "2\n",
      "101\n"
     ]
    }
   ],
   "source": [
    "x = 1\n",
    "print(x)\n",
    "print(x*2)\n",
    "print(x+100)"
   ]
  },
  {
   "cell_type": "markdown",
   "metadata": {},
   "source": [
    "We can also re-assign a variable to a value of another datatype. In doing so, we are changing the datatype of the variable."
   ]
  },
  {
   "cell_type": "code",
   "execution_count": 25,
   "metadata": {},
   "outputs": [
    {
     "name": "stdout",
     "output_type": "stream",
     "text": [
      "Datatype of 10: <class 'int'>\n",
      "Datatype of helloworld: <class 'str'>\n"
     ]
    }
   ],
   "source": [
    "a = 10\n",
    "print(f\"Datatype of {a}: {type(a)}\")\n",
    "\n",
    "a = \"helloworld\"\n",
    "print(f\"Datatype of {a}: {type(a)}\")"
   ]
  },
  {
   "cell_type": "markdown",
   "metadata": {},
   "source": [
    "### Chain Assignment\n",
    "\n",
    "With chain assignment, you can assign the same value to several variables simultaneously. Let's assign `a`, `b`, and `c` to 100. "
   ]
  },
  {
   "cell_type": "code",
   "execution_count": 21,
   "metadata": {},
   "outputs": [],
   "source": [
    "a = b = c = 100"
   ]
  },
  {
   "cell_type": "code",
   "execution_count": 22,
   "metadata": {},
   "outputs": [
    {
     "name": "stdout",
     "output_type": "stream",
     "text": [
      "100 100 100\n"
     ]
    }
   ],
   "source": [
    "print(a, b, c)"
   ]
  },
  {
   "cell_type": "markdown",
   "metadata": {},
   "source": [
    "`a`, `b`, and `c` are 3 variables that all have the same value 100. "
   ]
  },
  {
   "cell_type": "markdown",
   "metadata": {},
   "source": [
    "### Variable Assignment and Objects in Python\n",
    "\n",
    "In Python, it's important to note that everything is an \"object\". Integers, strings, and floats are treated as objects. So a variable is a symbolic name that is a reference to an object (value). Once an object (value) is assigned to a variable, you can refer to the object by that name. Let's look at an example."
   ]
  },
  {
   "cell_type": "code",
   "execution_count": 26,
   "metadata": {},
   "outputs": [],
   "source": [
    "x = 500"
   ]
  },
  {
   "cell_type": "markdown",
   "metadata": {},
   "source": [
    "This assignment creates an integer object with the value 500 and assigns the variable `x` to point to that object.\n",
    "\n",
    "Now, let's say we want to create a new variable `y` that points to `x`. "
   ]
  },
  {
   "cell_type": "code",
   "execution_count": 28,
   "metadata": {},
   "outputs": [
    {
     "data": {
      "text/plain": [
       "500"
      ]
     },
     "execution_count": 28,
     "metadata": {},
     "output_type": "execute_result"
    }
   ],
   "source": [
    "y = x \n",
    "y"
   ]
  },
  {
   "cell_type": "markdown",
   "metadata": {},
   "source": [
    "Assigning one variable to another does not create a new object. Instead, it creates a new symbolic reference, `y`, which points to the same object that `x` points to. What happens when we re-assign `x` to another value?"
   ]
  },
  {
   "cell_type": "code",
   "execution_count": 29,
   "metadata": {},
   "outputs": [],
   "source": [
    "x = 111"
   ]
  },
  {
   "cell_type": "markdown",
   "metadata": {},
   "source": [
    "A new integer object gets created with the value 111 and `x` becomes a reference to it. The value of `y` is still referencing the original value that `x` was assigned to. "
   ]
  },
  {
   "cell_type": "code",
   "execution_count": 30,
   "metadata": {},
   "outputs": [
    {
     "data": {
      "text/plain": [
       "500"
      ]
     },
     "execution_count": 30,
     "metadata": {},
     "output_type": "execute_result"
    }
   ],
   "source": [
    "y"
   ]
  },
  {
   "cell_type": "markdown",
   "metadata": {},
   "source": [
    "### Global and Local Variables\n",
    "\n",
    "A global variable is defined outside a function and can be accessed inside any function within your Python environment. Let's create a variable called `w`. It's a global variable because it's defined outside of a function.  "
   ]
  },
  {
   "cell_type": "code",
   "execution_count": 31,
   "metadata": {},
   "outputs": [
    {
     "data": {
      "text/plain": [
       "'hi!'"
      ]
     },
     "execution_count": 31,
     "metadata": {},
     "output_type": "execute_result"
    }
   ],
   "source": [
    "w = 'hi!'\n",
    "w"
   ]
  },
  {
   "cell_type": "markdown",
   "metadata": {},
   "source": [
    "We can access `w` inside a function. Let's create a function that prints `w`."
   ]
  },
  {
   "cell_type": "code",
   "execution_count": 33,
   "metadata": {},
   "outputs": [
    {
     "name": "stdout",
     "output_type": "stream",
     "text": [
      "hi!\n"
     ]
    }
   ],
   "source": [
    "def print_greetings():\n",
    "    print(w)\n",
    "    \n",
    "print_greetings()"
   ]
  },
  {
   "cell_type": "markdown",
   "metadata": {},
   "source": [
    "If a variable is defined inside a function, it's called a local variable and can only be accessed inside that function. "
   ]
  },
  {
   "cell_type": "code",
   "execution_count": 35,
   "metadata": {},
   "outputs": [
    {
     "name": "stdout",
     "output_type": "stream",
     "text": [
      "hola!\n"
     ]
    }
   ],
   "source": [
    "def print_greetings():\n",
    "    w = 'hola!'\n",
    "    print(w)\n",
    "\n",
    "print_greetings()"
   ]
  },
  {
   "cell_type": "markdown",
   "metadata": {},
   "source": [
    "We created a local `w` variable inside our function `print_greetings`. This takes priority over the outside global variable. That's why the value of local variable `w` gets printed (\"hola!\") instead of the global variable value (\"hi!\").\n",
    "\n",
    "That being said, if we were to print `w` on its own, it will refer to the global variable rather than the local variable. This is because the local variable cannot be accessed outside of the function that it's defined in."
   ]
  },
  {
   "cell_type": "code",
   "execution_count": 39,
   "metadata": {},
   "outputs": [
    {
     "name": "stdout",
     "output_type": "stream",
     "text": [
      "hi!\n"
     ]
    }
   ],
   "source": [
    "print(w)"
   ]
  },
  {
   "cell_type": "markdown",
   "metadata": {},
   "source": [
    "### Variable Naming\n",
    "\n",
    "When writing a Python script or application, it's important to give your variable a descriptive name. This is especially true for data science projects where the name of your variable can give more information on its purpose at first glance. \n",
    "\n",
    "Here are some general rules about variable naming in Python: \n",
    "\n",
    "- In Javascript, variables tend to follow the `camelCase` convention. In Python, we use `snake_case` where every word is separated with an underscore.\n",
    "- Variables can contain digits but the first character of a variable name cannot be a digit. For example, `a2` is a legitimate variable name but `2a` would raise an error. \n",
    "- Variable names are case-sensitive so you can create two variables with the same spelling but if they have different lower-case/upper-case letters, they will be treated as two separate variables. The general trend is to keep your variable names lower-case (i.e., use `age` instead of `Age`)."
   ]
  },
  {
   "cell_type": "code",
   "execution_count": 41,
   "metadata": {},
   "outputs": [
    {
     "name": "stdout",
     "output_type": "stream",
     "text": [
      "age: 10, Age: 50\n"
     ]
    }
   ],
   "source": [
    "age = 10\n",
    "Age = 50\n",
    "\n",
    "print(f\"age: {age}, Age: {Age}\")"
   ]
  },
  {
   "cell_type": "markdown",
   "metadata": {},
   "source": [
    "In Python, there are several keywords that are restricted from being used as variable names. These should never be used as variable names. You can check out the reserved keywords below:"
   ]
  },
  {
   "cell_type": "code",
   "execution_count": 42,
   "metadata": {},
   "outputs": [
    {
     "name": "stdout",
     "output_type": "stream",
     "text": [
      "\n",
      "Here is a list of the Python keywords.  Enter any keyword to get more help.\n",
      "\n",
      "False               class               from                or\n",
      "None                continue            global              pass\n",
      "True                def                 if                  raise\n",
      "and                 del                 import              return\n",
      "as                  elif                in                  try\n",
      "assert              else                is                  while\n",
      "async               except              lambda              with\n",
      "await               finally             nonlocal            yield\n",
      "break               for                 not                 \n",
      "\n"
     ]
    }
   ],
   "source": [
    "help(\"keywords\")"
   ]
  },
  {
   "cell_type": "markdown",
   "metadata": {},
   "source": [
    "Variable naming is partly a style preference, but there are suggested guidelines to follow in Python's official Style Guide. You can check out the suggestions [here](https://www.python.org/dev/peps/pep-0008/#naming-conventions). "
   ]
  }
 ],
 "metadata": {
  "kernelspec": {
   "display_name": "Python 3",
   "language": "python",
   "name": "python3"
  },
  "language_info": {
   "codemirror_mode": {
    "name": "ipython",
    "version": 3
   },
   "file_extension": ".py",
   "mimetype": "text/x-python",
   "name": "python",
   "nbconvert_exporter": "python",
   "pygments_lexer": "ipython3",
   "version": "3.7.6"
  }
 },
 "nbformat": 4,
 "nbformat_minor": 2
}
