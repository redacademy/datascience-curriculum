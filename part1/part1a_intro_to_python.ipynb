{
 "cells": [
  {
   "cell_type": "markdown",
   "metadata": {},
   "source": [
    "# Part 1a: An Introduction to Python\n",
    "\n",
    "Let's get started with some Python fundamentals. A fill-in-the-blank version of this notebook is available on [Google Colab](https://colab.research.google.com/drive/1eoKBDSuBBIuroIhSChXZnAhHNmccPi-Z).\n",
    "\n",
    "### Some Fun Facts\n",
    "\n",
    "<img src=\"https://cms.qz.com/wp-content/uploads/2019/05/Guido-van-Rossum-e1558635088256.jpg?quality=75&strip=all&w=410&h=231\" align=\"right\" width=\"20%\"/>\n",
    "\n",
    "- created by a guy named Guido Van Rossum from the Netherlands\n",
    "- officially released in 1991\n",
    "- Guido named the language \"Python\" after the British comedy group Monty Python\n",
    "- companies that use Python on its backend: Instagram, Netflix, Dropbox, Reddit, Pinterest, and many more\n",
    "\n",
    "### Main Features\n",
    "\n",
    "- general purpose, the \"swiss army knife\" of programming languages\n",
    "- relies heavily on whitespacing (unlike Javascript, it doesn't use semi-colons)\n",
    "- open source and free to use\n",
    "- contains packages (e.g., pandas, numpy, etc.) that make it easier to write code\n",
    "\n",
    "### Python 2 vs. 3\n",
    "\n",
    "- Python 2 has been discounting as of January 1, 2020\n",
    "- Python 3.7 is currently the gold standard\n",
    "\n",
    "\n",
    "\n"
   ]
  },
  {
   "cell_type": "markdown",
   "metadata": {},
   "source": [
    "## Data Types\n",
    "\n",
    "In this tutorial, we're going to walk through the most commonly used data types in Python:\n",
    "\n",
    "- integers\n",
    "- floats\n",
    "- booleans\n",
    "- strings\n",
    "\n",
    "If you're interested in learning more about Python's built-in data types, check out the official Python 3 documentation [here](https://docs.python.org/3/library/stdtypes.html)."
   ]
  },
  {
   "cell_type": "markdown",
   "metadata": {},
   "source": [
    "### 1. Numeric Types\n",
    "\n",
    "The most common numeric types in Python are `int` (integers) and `float` (floating point numbers). Integers are numbers without a fractional component. "
   ]
  },
  {
   "cell_type": "code",
   "execution_count": 1,
   "metadata": {},
   "outputs": [
    {
     "data": {
      "text/plain": [
       "int"
      ]
     },
     "execution_count": 1,
     "metadata": {},
     "output_type": "execute_result"
    }
   ],
   "source": [
    "x = 10\n",
    "\n",
    "type(x)"
   ]
  },
  {
   "cell_type": "markdown",
   "metadata": {},
   "source": [
    "Floats are real numbers written in scientific notation with decimals. This is useful when more precision is needed. "
   ]
  },
  {
   "cell_type": "code",
   "execution_count": 2,
   "metadata": {},
   "outputs": [
    {
     "data": {
      "text/plain": [
       "float"
      ]
     },
     "execution_count": 2,
     "metadata": {},
     "output_type": "execute_result"
    }
   ],
   "source": [
    "y = 3.14159\n",
    "\n",
    "type(y)"
   ]
  },
  {
   "cell_type": "markdown",
   "metadata": {},
   "source": [
    "Let's create two variables, `n_apples` and `cost`, and assign different numeric values to each variable name."
   ]
  },
  {
   "cell_type": "code",
   "execution_count": 3,
   "metadata": {},
   "outputs": [],
   "source": [
    "n_apples = 10\n",
    "\n",
    "assert type(n_apples) == int"
   ]
  },
  {
   "cell_type": "code",
   "execution_count": 4,
   "metadata": {},
   "outputs": [],
   "source": [
    "cost_per_apple = 3.55\n",
    "\n",
    "assert type(cost_per_apple) == float"
   ]
  },
  {
   "cell_type": "markdown",
   "metadata": {},
   "source": [
    "Now, let's print the value of these variables, along with their data type. We can get the data type of a value by wrapping it inside Python's built-in `type()`."
   ]
  },
  {
   "cell_type": "code",
   "execution_count": 5,
   "metadata": {},
   "outputs": [
    {
     "name": "stdout",
     "output_type": "stream",
     "text": [
      "n_apples, 10, is type <class 'int'>\n",
      "cost_per_apple, 3.55, is type <class 'float'>\n"
     ]
    }
   ],
   "source": [
    "print(f\"n_apples, {n_apples}, is type {type(n_apples)}\")\n",
    "print(f\"cost_per_apple, {cost_per_apple}, is type {type(cost_per_apple)}\")"
   ]
  },
  {
   "cell_type": "markdown",
   "metadata": {},
   "source": [
    "As expected, variable `n_apples` is an `int` while `cost_per_apple` is a `float`. \n",
    "\n",
    "The print statements above use something called f-strings. Why is it called f-string? If you notice in the code above, the string inside the print statement is preceded by an `f` - this puts it in \"f-string mode\". To embed an expression in your string, you need to wrap it inside squiggly brackets `{ }`. The f-string is only available in Python 3.6 or greater. It lets you embed Python expressions inside string literals in a readable way. Before Python 3.6, you would have to use `%-formatting` or `.format()` to embed expressions inside strings, which was much more verbose and prone to error. If you want to learn more about f-strings, check out this [link](https://realpython.com/python-f-strings/). "
   ]
  },
  {
   "cell_type": "markdown",
   "metadata": {},
   "source": [
    "If we want to convert a float to an integer (or vice versa), we can easily do so by wrapping the variable in `int()` or `float()`. Let's try this out:"
   ]
  },
  {
   "cell_type": "code",
   "execution_count": 6,
   "metadata": {},
   "outputs": [
    {
     "name": "stdout",
     "output_type": "stream",
     "text": [
      "3.55 --> 3\n",
      "10 --> 10.0\n"
     ]
    }
   ],
   "source": [
    "print(f\"{cost_per_apple} --> {int(cost_per_apple)}\")\n",
    "print(f\"{n_apples} --> {float(n_apples)}\")"
   ]
  },
  {
   "cell_type": "markdown",
   "metadata": {},
   "source": [
    "In Python, it's possible to mix integers and floats in an arithmetic operation. So you don't need to worry about converting these numeric types into a common format. Let's test it out with our variables `n_apples` (an integer) and `cost_per_apple` (a float)."
   ]
  },
  {
   "cell_type": "code",
   "execution_count": 7,
   "metadata": {},
   "outputs": [
    {
     "data": {
      "text/plain": [
       "35.5"
      ]
     },
     "execution_count": 7,
     "metadata": {},
     "output_type": "execute_result"
    }
   ],
   "source": [
    "total_cost = n_apples*cost_per_apple\n",
    "total_cost"
   ]
  },
  {
   "cell_type": "markdown",
   "metadata": {},
   "source": [
    "We can see that the output of `n_apples * cost_per_apple` is a float. This is because `n_apples`, which was originally an integer, gets converted to a `float` when it gets multiplied with `cost_per_apple`. "
   ]
  },
  {
   "cell_type": "markdown",
   "metadata": {},
   "source": [
    "Here's a complete list of arithmetic operations in Python:\n",
    "\n",
    "- **Addition:** gets the sum of the operands\n",
    "\n",
    "```\n",
    "x + y\n",
    "```\n",
    "\n",
    "- **Subtraction:** gets the difference of the operands\n",
    "\n",
    "```\n",
    "x - y\n",
    "```\n",
    "\n",
    "- **Multiplication:** gets the product of the operands\n",
    "\n",
    "```\n",
    "x * y\n",
    "```\n",
    "\n",
    "- **Division:** produces the quotient of the operands and returns a float\n",
    "\n",
    "```\n",
    "x / y\n",
    "```\n",
    "\n",
    "- **Division with floor:** produces the quotient of the operands and returns an integer (rounds down)\n",
    "\n",
    "```\n",
    "x // y\n",
    "```\n",
    "\n",
    "- **Exponent:** raises the first operand to the power of the second operand\n",
    "\n",
    "```\n",
    "x ** y\n",
    "```"
   ]
  },
  {
   "cell_type": "markdown",
   "metadata": {},
   "source": [
    "### 2. Boolean Type"
   ]
  },
  {
   "cell_type": "markdown",
   "metadata": {},
   "source": [
    "Python's boolean (`bool`) can have one of two values: `True` and `False`. "
   ]
  },
  {
   "cell_type": "code",
   "execution_count": 8,
   "metadata": {},
   "outputs": [
    {
     "data": {
      "text/plain": [
       "bool"
      ]
     },
     "execution_count": 8,
     "metadata": {},
     "output_type": "execute_result"
    }
   ],
   "source": [
    "is_vegetarian = True \n",
    "\n",
    "type(is_vegetarian)"
   ]
  },
  {
   "cell_type": "code",
   "execution_count": 9,
   "metadata": {},
   "outputs": [
    {
     "data": {
      "text/plain": [
       "bool"
      ]
     },
     "execution_count": 9,
     "metadata": {},
     "output_type": "execute_result"
    }
   ],
   "source": [
    "is_vegan = False\n",
    "\n",
    "type(is_vegan)"
   ]
  },
  {
   "cell_type": "markdown",
   "metadata": {},
   "source": [
    "#### Comparing Values with Boolean Expressions"
   ]
  },
  {
   "cell_type": "markdown",
   "metadata": {},
   "source": [
    "A `boolean` expression evaluates a statement and results in a boolean value. For example, the operator `==` tests if two values are equal."
   ]
  },
  {
   "cell_type": "code",
   "execution_count": 10,
   "metadata": {},
   "outputs": [
    {
     "data": {
      "text/plain": [
       "False"
      ]
     },
     "execution_count": 10,
     "metadata": {},
     "output_type": "execute_result"
    }
   ],
   "source": [
    "is_vegetarian == is_vegan"
   ]
  },
  {
   "cell_type": "markdown",
   "metadata": {},
   "source": [
    "The `!=` operator tests if two values are **not** equal."
   ]
  },
  {
   "cell_type": "code",
   "execution_count": 11,
   "metadata": {},
   "outputs": [
    {
     "data": {
      "text/plain": [
       "True"
      ]
     },
     "execution_count": 11,
     "metadata": {},
     "output_type": "execute_result"
    }
   ],
   "source": [
    "is_vegetarian != is_vegan"
   ]
  },
  {
   "cell_type": "markdown",
   "metadata": {},
   "source": [
    "You can also compare two numeric values using:\n",
    " - `>` (greater than)\n",
    " - `<` (less than)\n",
    " - `>=` (greater than or equal to)\n",
    " - `<=` (less than or equal to)"
   ]
  },
  {
   "cell_type": "code",
   "execution_count": 12,
   "metadata": {},
   "outputs": [],
   "source": [
    "n_donuts = 10\n",
    "n_muffins = 5"
   ]
  },
  {
   "cell_type": "code",
   "execution_count": 13,
   "metadata": {},
   "outputs": [
    {
     "data": {
      "text/plain": [
       "True"
      ]
     },
     "execution_count": 13,
     "metadata": {},
     "output_type": "execute_result"
    }
   ],
   "source": [
    "n_donuts >= n_muffins"
   ]
  },
  {
   "cell_type": "code",
   "execution_count": 14,
   "metadata": {},
   "outputs": [
    {
     "data": {
      "text/plain": [
       "False"
      ]
     },
     "execution_count": 14,
     "metadata": {},
     "output_type": "execute_result"
    }
   ],
   "source": [
    "n_donuts < n_muffins"
   ]
  },
  {
   "cell_type": "markdown",
   "metadata": {},
   "source": [
    "#### Comparing Strings with Boolean Expressions"
   ]
  },
  {
   "cell_type": "markdown",
   "metadata": {},
   "source": [
    "Interestingly, you can also compare two strings. The evaluation goes by alphabetical order so the \"larger\" item would be higher up in the alphabet."
   ]
  },
  {
   "cell_type": "code",
   "execution_count": 15,
   "metadata": {},
   "outputs": [],
   "source": [
    "server = 'Anne'\n",
    "host = 'Jim'"
   ]
  },
  {
   "cell_type": "code",
   "execution_count": 16,
   "metadata": {},
   "outputs": [
    {
     "data": {
      "text/plain": [
       "False"
      ]
     },
     "execution_count": 16,
     "metadata": {},
     "output_type": "execute_result"
    }
   ],
   "source": [
    "server > host"
   ]
  },
  {
   "cell_type": "code",
   "execution_count": 17,
   "metadata": {},
   "outputs": [
    {
     "data": {
      "text/plain": [
       "True"
      ]
     },
     "execution_count": 17,
     "metadata": {},
     "output_type": "execute_result"
    }
   ],
   "source": [
    "server < host"
   ]
  },
  {
   "cell_type": "markdown",
   "metadata": {},
   "source": [
    "### 3. Strings\n",
    "\n",
    "Text is stored as type str (string). We think of a string as a sequence of characters. We write strings as characters enclosed with single or double quotes."
   ]
  },
  {
   "cell_type": "code",
   "execution_count": 18,
   "metadata": {},
   "outputs": [],
   "source": [
    "his_name = \"John Doe\""
   ]
  },
  {
   "cell_type": "code",
   "execution_count": 19,
   "metadata": {},
   "outputs": [],
   "source": [
    "her_name = 'Jane Smith'"
   ]
  },
  {
   "cell_type": "code",
   "execution_count": 20,
   "metadata": {},
   "outputs": [
    {
     "name": "stdout",
     "output_type": "stream",
     "text": [
      "John Doe and Jane Smith are friends.\n",
      "<class 'str'> <class 'str'>\n"
     ]
    }
   ],
   "source": [
    "print(f\"{his_name} and {her_name} are friends.\")\n",
    "print(type(his_name), type(her_name))"
   ]
  },
  {
   "cell_type": "markdown",
   "metadata": {},
   "source": [
    "If a string contains an apostrophe, we can use double quotes to define the string and use a single quote character in the string."
   ]
  },
  {
   "cell_type": "code",
   "execution_count": 21,
   "metadata": {},
   "outputs": [
    {
     "name": "stdout",
     "output_type": "stream",
     "text": [
      "It's snowing outside\n"
     ]
    }
   ],
   "source": [
    "phrase = \"It's snowing outside\"\n",
    "print(phrase)"
   ]
  },
  {
   "cell_type": "markdown",
   "metadata": {},
   "source": [
    "#### Adding Strings"
   ]
  },
  {
   "cell_type": "markdown",
   "metadata": {},
   "source": [
    "We can also join strings together by \"adding\" them."
   ]
  },
  {
   "cell_type": "code",
   "execution_count": 22,
   "metadata": {},
   "outputs": [
    {
     "data": {
      "text/plain": [
       "'abcd'"
      ]
     },
     "execution_count": 22,
     "metadata": {},
     "output_type": "execute_result"
    }
   ],
   "source": [
    "'ab' + 'cd'"
   ]
  },
  {
   "cell_type": "markdown",
   "metadata": {},
   "source": [
    "#### Multiplying Strings"
   ]
  },
  {
   "cell_type": "markdown",
   "metadata": {},
   "source": [
    "We can also create multiple copies of a string by \"multiplying\" them by an integer."
   ]
  },
  {
   "cell_type": "code",
   "execution_count": 23,
   "metadata": {},
   "outputs": [
    {
     "data": {
      "text/plain": [
       "'HelloHelloHello'"
      ]
     },
     "execution_count": 23,
     "metadata": {},
     "output_type": "execute_result"
    }
   ],
   "source": [
    "'Hello'*3"
   ]
  },
  {
   "cell_type": "markdown",
   "metadata": {},
   "source": [
    "#### Strings within Strings"
   ]
  },
  {
   "cell_type": "markdown",
   "metadata": {},
   "source": [
    "If we want to see if a shorter string is inside a longer string, we can use the `in` operator."
   ]
  },
  {
   "cell_type": "code",
   "execution_count": 24,
   "metadata": {},
   "outputs": [
    {
     "data": {
      "text/plain": [
       "True"
      ]
     },
     "execution_count": 24,
     "metadata": {},
     "output_type": "execute_result"
    }
   ],
   "source": [
    "'el' in 'Hello'"
   ]
  },
  {
   "cell_type": "code",
   "execution_count": 25,
   "metadata": {},
   "outputs": [
    {
     "data": {
      "text/plain": [
       "False"
      ]
     },
     "execution_count": 25,
     "metadata": {},
     "output_type": "execute_result"
    }
   ],
   "source": [
    "'le' in 'Hello'"
   ]
  },
  {
   "cell_type": "markdown",
   "metadata": {},
   "source": [
    "We can also see if something is `not in` a string."
   ]
  },
  {
   "cell_type": "code",
   "execution_count": 26,
   "metadata": {},
   "outputs": [
    {
     "data": {
      "text/plain": [
       "True"
      ]
     },
     "execution_count": 26,
     "metadata": {},
     "output_type": "execute_result"
    }
   ],
   "source": [
    "'test' not in 'Python is cool'"
   ]
  },
  {
   "cell_type": "markdown",
   "metadata": {},
   "source": [
    "#### Strings as Lists"
   ]
  },
  {
   "cell_type": "markdown",
   "metadata": {},
   "source": [
    "Strings can sometimes be treated as lists. Similar to lists, you can get the length of a string which counts the number of characters in the string."
   ]
  },
  {
   "cell_type": "code",
   "execution_count": 27,
   "metadata": {},
   "outputs": [
    {
     "data": {
      "text/plain": [
       "19"
      ]
     },
     "execution_count": 27,
     "metadata": {},
     "output_type": "execute_result"
    }
   ],
   "source": [
    "text = 'I like Monty Python'\n",
    "len(text)"
   ]
  },
  {
   "cell_type": "markdown",
   "metadata": {},
   "source": [
    "You can also iterate over a string, which treats each character as a separate element of a list."
   ]
  },
  {
   "cell_type": "code",
   "execution_count": 28,
   "metadata": {},
   "outputs": [
    {
     "name": "stdout",
     "output_type": "stream",
     "text": [
      "s :)\n",
      "t :)\n",
      "r :)\n",
      "i :)\n",
      "n :)\n",
      "g :)\n"
     ]
    }
   ],
   "source": [
    "for c in 'string':\n",
    "    print(c + ' :)')"
   ]
  },
  {
   "cell_type": "markdown",
   "metadata": {},
   "source": [
    "#### Built-in String Functions"
   ]
  },
  {
   "cell_type": "markdown",
   "metadata": {},
   "source": [
    "Strings also have some built-in functions that are useful when you're analyzing text.\n",
    "\n",
    "You can replace a string with another string."
   ]
  },
  {
   "cell_type": "code",
   "execution_count": 29,
   "metadata": {},
   "outputs": [
    {
     "data": {
      "text/plain": [
       "'I love Monty Python'"
      ]
     },
     "execution_count": 29,
     "metadata": {},
     "output_type": "execute_result"
    }
   ],
   "source": [
    "text = 'I like Monty Python'\n",
    "text.replace('like', 'love')"
   ]
  },
  {
   "cell_type": "markdown",
   "metadata": {},
   "source": [
    "You can convert a string to all upper case."
   ]
  },
  {
   "cell_type": "code",
   "execution_count": 30,
   "metadata": {},
   "outputs": [
    {
     "data": {
      "text/plain": [
       "'I LIKE MONTY PYTHON'"
      ]
     },
     "execution_count": 30,
     "metadata": {},
     "output_type": "execute_result"
    }
   ],
   "source": [
    "text.upper()"
   ]
  },
  {
   "cell_type": "markdown",
   "metadata": {},
   "source": [
    "You can also convert it to all lower case."
   ]
  },
  {
   "cell_type": "code",
   "execution_count": 31,
   "metadata": {},
   "outputs": [
    {
     "data": {
      "text/plain": [
       "'i like monty python'"
      ]
     },
     "execution_count": 31,
     "metadata": {},
     "output_type": "execute_result"
    }
   ],
   "source": [
    "text.lower()"
   ]
  },
  {
   "cell_type": "markdown",
   "metadata": {},
   "source": [
    "If your string has trailing whitespace, it can clean this up using `strip`. "
   ]
  },
  {
   "cell_type": "code",
   "execution_count": 32,
   "metadata": {},
   "outputs": [
    {
     "data": {
      "text/plain": [
       "'hello  .'"
      ]
     },
     "execution_count": 32,
     "metadata": {},
     "output_type": "execute_result"
    }
   ],
   "source": [
    "whitespace_string = '    hello  .  '\n",
    "whitespace_string.strip()"
   ]
  },
  {
   "cell_type": "markdown",
   "metadata": {},
   "source": [
    "Want to learn more about Python strings? Check out this [article](https://realpython.com/python-strings/). "
   ]
  },
  {
   "cell_type": "markdown",
   "metadata": {},
   "source": [
    "## Sequence Types\n",
    "\n",
    "The standard seuqence types in Python are lists, tuples, and sets."
   ]
  },
  {
   "cell_type": "markdown",
   "metadata": {},
   "source": [
    "### 1. Lists\n",
    "\n",
    "Lists are constructed with square brackets, separating items with commas. "
   ]
  },
  {
   "cell_type": "code",
   "execution_count": 33,
   "metadata": {},
   "outputs": [],
   "source": [
    "tally = [10,12,5,17]"
   ]
  },
  {
   "cell_type": "markdown",
   "metadata": {},
   "source": [
    "To get the length of a list, you can use `len()`."
   ]
  },
  {
   "cell_type": "code",
   "execution_count": 34,
   "metadata": {},
   "outputs": [
    {
     "data": {
      "text/plain": [
       "4"
      ]
     },
     "execution_count": 34,
     "metadata": {},
     "output_type": "execute_result"
    }
   ],
   "source": [
    "len(tally)"
   ]
  },
  {
   "cell_type": "markdown",
   "metadata": {},
   "source": [
    "You can get the max and min values of a list using `max()` and `min()`."
   ]
  },
  {
   "cell_type": "code",
   "execution_count": 35,
   "metadata": {},
   "outputs": [
    {
     "name": "stdout",
     "output_type": "stream",
     "text": [
      "Max value: 17, Min value: 5\n"
     ]
    }
   ],
   "source": [
    "print(f\"Max value: {max(tally)}, Min value: {min(tally)}\")"
   ]
  },
  {
   "cell_type": "markdown",
   "metadata": {},
   "source": [
    "You can also sort elements within a list using the `sorted()` function."
   ]
  },
  {
   "cell_type": "code",
   "execution_count": 36,
   "metadata": {},
   "outputs": [
    {
     "data": {
      "text/plain": [
       "[5, 10, 12, 17]"
      ]
     },
     "execution_count": 36,
     "metadata": {},
     "output_type": "execute_result"
    }
   ],
   "source": [
    "sorted(tally)"
   ]
  },
  {
   "cell_type": "markdown",
   "metadata": {},
   "source": [
    "#### LIsts are Ordered"
   ]
  },
  {
   "cell_type": "markdown",
   "metadata": {},
   "source": [
    "Lists are ordered which means that the order of elements within a list is part of a list's identity. You can have two lists with the exact same elements but if the order of elements are different, these lists are not the same. Let's demonstrate this with an example."
   ]
  },
  {
   "cell_type": "code",
   "execution_count": 37,
   "metadata": {},
   "outputs": [
    {
     "data": {
      "text/plain": [
       "False"
      ]
     },
     "execution_count": 37,
     "metadata": {},
     "output_type": "execute_result"
    }
   ],
   "source": [
    "list1 = [1,2,3,4]\n",
    "list2 = [4,3,2,1]\n",
    "\n",
    "list1 == list2"
   ]
  },
  {
   "cell_type": "markdown",
   "metadata": {},
   "source": [
    "`list1` and `list2` are not equal to one another since the order of their elements are different. "
   ]
  },
  {
   "cell_type": "markdown",
   "metadata": {},
   "source": [
    "#### Accessing Elements within a List"
   ]
  },
  {
   "cell_type": "markdown",
   "metadata": {},
   "source": [
    "You can access elements in a list by referencing its index. The index of a list starts at 0, which is probably different from what you're use to if you come from an R or Matlab background."
   ]
  },
  {
   "cell_type": "code",
   "execution_count": 38,
   "metadata": {},
   "outputs": [
    {
     "name": "stdout",
     "output_type": "stream",
     "text": [
      "index 0: apple\n",
      "index 2: milk\n"
     ]
    }
   ],
   "source": [
    "shopping_bag = ['apple', 'carrots', 'milk', 'berries', 'grapes']\n",
    "\n",
    "print(f\"index 0: {shopping_bag[0]}\")\n",
    "print(f\"index 2: {shopping_bag[2]}\")"
   ]
  },
  {
   "cell_type": "markdown",
   "metadata": {},
   "source": [
    "A list can have negative indices too. A negative list index counts from the end of a list. The figure below shows the default positive list indices on the bottom and the negative list indices on the top. \n",
    "\n",
    "<img src=\"assets/imgs/indexing_list.png\" width=\"65%\"/>"
   ]
  },
  {
   "cell_type": "markdown",
   "metadata": {},
   "source": [
    "You can slice a list using list indices. If `shopping_bag` is a list, the expression `[m:n]` returns the portion of `shopping_bag` from the index `m` to BUT not including index `n`. Let's try this out. "
   ]
  },
  {
   "cell_type": "code",
   "execution_count": 39,
   "metadata": {},
   "outputs": [
    {
     "data": {
      "text/plain": [
       "['carrots', 'milk']"
      ]
     },
     "execution_count": 39,
     "metadata": {},
     "output_type": "execute_result"
    }
   ],
   "source": [
    "shopping_bag[1:3]"
   ]
  },
  {
   "cell_type": "markdown",
   "metadata": {},
   "source": [
    "The code above returns 'carrots' and 'milk', which are represented by indices 1 and 2. It didn't return index 3 because the second number of the slice is non-inclusive. To include index 3, we would have to update the slice to `[1:4]`:"
   ]
  },
  {
   "cell_type": "code",
   "execution_count": 40,
   "metadata": {},
   "outputs": [
    {
     "data": {
      "text/plain": [
       "['carrots', 'milk', 'berries']"
      ]
     },
     "execution_count": 40,
     "metadata": {},
     "output_type": "execute_result"
    }
   ],
   "source": [
    "shopping_bag[1:4]"
   ]
  },
  {
   "cell_type": "markdown",
   "metadata": {},
   "source": [
    "#### Finding Elements in a List"
   ]
  },
  {
   "cell_type": "markdown",
   "metadata": {},
   "source": [
    "You can check to see if an element exists inside a list using the `in` operator."
   ]
  },
  {
   "cell_type": "code",
   "execution_count": 41,
   "metadata": {},
   "outputs": [
    {
     "data": {
      "text/plain": [
       "True"
      ]
     },
     "execution_count": 41,
     "metadata": {},
     "output_type": "execute_result"
    }
   ],
   "source": [
    "'carrots' in shopping_bag"
   ]
  },
  {
   "cell_type": "code",
   "execution_count": 42,
   "metadata": {},
   "outputs": [
    {
     "data": {
      "text/plain": [
       "False"
      ]
     },
     "execution_count": 42,
     "metadata": {},
     "output_type": "execute_result"
    }
   ],
   "source": [
    "'c' in shopping_bag"
   ]
  },
  {
   "cell_type": "markdown",
   "metadata": {},
   "source": [
    "Tuples are constructed by the comma operator (not within square brackets), with or without enclosing parentheses, but an empty tuple must have the enclosing parentheses, e.g., a, b, c or (). "
   ]
  },
  {
   "cell_type": "markdown",
   "metadata": {},
   "source": [
    "#### Iterating Over Lists\n",
    "\n",
    "There are several ways to iterate over a list. The traditional approach is to use a for loop."
   ]
  },
  {
   "cell_type": "code",
   "execution_count": 43,
   "metadata": {},
   "outputs": [
    {
     "name": "stdout",
     "output_type": "stream",
     "text": [
      "-apple\n",
      "-carrots\n",
      "-milk\n",
      "-berries\n",
      "-grapes\n"
     ]
    }
   ],
   "source": [
    "for item in shopping_bag:\n",
    "    print(f\"-{item}\")"
   ]
  },
  {
   "cell_type": "markdown",
   "metadata": {},
   "source": [
    "If you also need the element's index in your for loop, you can access it using `enumerate`."
   ]
  },
  {
   "cell_type": "code",
   "execution_count": 44,
   "metadata": {},
   "outputs": [
    {
     "name": "stdout",
     "output_type": "stream",
     "text": [
      "1) apple\n",
      "2) carrots\n",
      "3) milk\n",
      "4) berries\n",
      "5) grapes\n"
     ]
    }
   ],
   "source": [
    "for i, item in enumerate(shopping_bag):\n",
    "    print(f\"{i+1}) {item}\")"
   ]
  },
  {
   "cell_type": "markdown",
   "metadata": {},
   "source": [
    "Another way to iterate over a list is to use list comprehension. This is a one liner that is useful when you're applying a simple operation to each element in your list. For example, let's make all elements inside `shopping_bag` upper case."
   ]
  },
  {
   "cell_type": "code",
   "execution_count": 45,
   "metadata": {},
   "outputs": [
    {
     "data": {
      "text/plain": [
       "['APPLE', 'CARROTS', 'MILK', 'BERRIES', 'GRAPES']"
      ]
     },
     "execution_count": 45,
     "metadata": {},
     "output_type": "execute_result"
    }
   ],
   "source": [
    "[item.upper() for item in shopping_bag]"
   ]
  },
  {
   "cell_type": "markdown",
   "metadata": {},
   "source": [
    "#### Lists are Mutable\n",
    "\n",
    "An important feature of a list is that it's mutable. This means that elements within a list can be added, deleted, or changed after being defined.  "
   ]
  },
  {
   "cell_type": "code",
   "execution_count": 46,
   "metadata": {},
   "outputs": [],
   "source": [
    "friends = ['Max', 'Mike', 'Mindy', 'Moore']"
   ]
  },
  {
   "cell_type": "code",
   "execution_count": 47,
   "metadata": {},
   "outputs": [
    {
     "data": {
      "text/plain": [
       "['Wayne', 'Mike', 'Mindy', 'Moore']"
      ]
     },
     "execution_count": 47,
     "metadata": {},
     "output_type": "execute_result"
    }
   ],
   "source": [
    "friends[0] = 'Wayne'\n",
    "friends"
   ]
  },
  {
   "cell_type": "markdown",
   "metadata": {},
   "source": [
    "To remove the last element of a list, you can \"pop\" it:"
   ]
  },
  {
   "cell_type": "code",
   "execution_count": 48,
   "metadata": {},
   "outputs": [
    {
     "data": {
      "text/plain": [
       "'Moore'"
      ]
     },
     "execution_count": 48,
     "metadata": {},
     "output_type": "execute_result"
    }
   ],
   "source": [
    "friends.pop()"
   ]
  },
  {
   "cell_type": "code",
   "execution_count": 49,
   "metadata": {},
   "outputs": [
    {
     "data": {
      "text/plain": [
       "['Wayne', 'Mike', 'Mindy']"
      ]
     },
     "execution_count": 49,
     "metadata": {},
     "output_type": "execute_result"
    }
   ],
   "source": [
    "friends"
   ]
  },
  {
   "cell_type": "markdown",
   "metadata": {},
   "source": [
    "If you wanted to remove a specific element from your list, you can use the `remove()` method. "
   ]
  },
  {
   "cell_type": "code",
   "execution_count": 50,
   "metadata": {},
   "outputs": [
    {
     "data": {
      "text/plain": [
       "['Wayne', 'Mindy']"
      ]
     },
     "execution_count": 50,
     "metadata": {},
     "output_type": "execute_result"
    }
   ],
   "source": [
    "friends.remove('Mike')\n",
    "friends"
   ]
  },
  {
   "cell_type": "markdown",
   "metadata": {},
   "source": [
    "You can also insert a new element using `insert`. The first parameter is the index where you want the new element to be inserted. The second parameer is the element to be inserted."
   ]
  },
  {
   "cell_type": "code",
   "execution_count": 51,
   "metadata": {},
   "outputs": [],
   "source": [
    "friends.insert(0, 'Cindy')"
   ]
  },
  {
   "cell_type": "code",
   "execution_count": 52,
   "metadata": {},
   "outputs": [
    {
     "data": {
      "text/plain": [
       "['Cindy', 'Wayne', 'Mindy']"
      ]
     },
     "execution_count": 52,
     "metadata": {},
     "output_type": "execute_result"
    }
   ],
   "source": [
    "friends"
   ]
  },
  {
   "cell_type": "markdown",
   "metadata": {},
   "source": [
    "You can append another list to your list using the notation below."
   ]
  },
  {
   "cell_type": "code",
   "execution_count": 53,
   "metadata": {},
   "outputs": [],
   "source": [
    "more_friends = ['Lanny', 'Manny']"
   ]
  },
  {
   "cell_type": "code",
   "execution_count": 54,
   "metadata": {},
   "outputs": [],
   "source": [
    "friends += more_friends"
   ]
  },
  {
   "cell_type": "code",
   "execution_count": 55,
   "metadata": {},
   "outputs": [
    {
     "data": {
      "text/plain": [
       "['Cindy', 'Wayne', 'Mindy', 'Lanny', 'Manny']"
      ]
     },
     "execution_count": 55,
     "metadata": {},
     "output_type": "execute_result"
    }
   ],
   "source": [
    "friends"
   ]
  },
  {
   "cell_type": "markdown",
   "metadata": {},
   "source": [
    "### 2. Tuples\n",
    "\n",
    "Tuples are another sequence type in Python which are constructed with round brackets (unlike square brackets for lists)."
   ]
  },
  {
   "cell_type": "code",
   "execution_count": 56,
   "metadata": {},
   "outputs": [],
   "source": [
    "t = (10,12,13)"
   ]
  },
  {
   "cell_type": "markdown",
   "metadata": {},
   "source": [
    "The main difference between a list and tuple is that a tuple is immutable. This means that you can't change elements within a tuple after it's defined. Let's look at the first element of our tuple."
   ]
  },
  {
   "cell_type": "code",
   "execution_count": 57,
   "metadata": {},
   "outputs": [
    {
     "data": {
      "text/plain": [
       "10"
      ]
     },
     "execution_count": 57,
     "metadata": {},
     "output_type": "execute_result"
    }
   ],
   "source": [
    "t[0]"
   ]
  },
  {
   "cell_type": "markdown",
   "metadata": {},
   "source": [
    "If we try to assign it another number, we'll get an error:"
   ]
  },
  {
   "cell_type": "code",
   "execution_count": 58,
   "metadata": {},
   "outputs": [
    {
     "ename": "TypeError",
     "evalue": "'tuple' object does not support item assignment",
     "output_type": "error",
     "traceback": [
      "\u001b[0;31m---------------------------------------------------------------------------\u001b[0m",
      "\u001b[0;31mTypeError\u001b[0m                                 Traceback (most recent call last)",
      "\u001b[0;32m<ipython-input-58-724a2335dedd>\u001b[0m in \u001b[0;36m<module>\u001b[0;34m\u001b[0m\n\u001b[0;32m----> 1\u001b[0;31m \u001b[0mt\u001b[0m\u001b[0;34m[\u001b[0m\u001b[0;36m0\u001b[0m\u001b[0;34m]\u001b[0m \u001b[0;34m=\u001b[0m \u001b[0;36m3\u001b[0m\u001b[0;34m\u001b[0m\u001b[0;34m\u001b[0m\u001b[0m\n\u001b[0m",
      "\u001b[0;31mTypeError\u001b[0m: 'tuple' object does not support item assignment"
     ]
    }
   ],
   "source": [
    "t[0] = 3"
   ]
  },
  {
   "cell_type": "markdown",
   "metadata": {},
   "source": [
    "#### Tuple Assignment\n",
    "\n",
    "One cool feature of tuples is that you can assign a tuple of variables to a tuple of values. If we have a tuple containing several pieces of information, we can assign each one to a different variable."
   ]
  },
  {
   "cell_type": "code",
   "execution_count": 59,
   "metadata": {},
   "outputs": [],
   "source": [
    "(patient_id, last_name, birth_year, heart_rate, has_flu) = (2103, \"Taylor\", 1952, 120, True)"
   ]
  },
  {
   "cell_type": "code",
   "execution_count": 60,
   "metadata": {},
   "outputs": [
    {
     "name": "stdout",
     "output_type": "stream",
     "text": [
      "Patient 2103 was born in 1952 and has a heart rate of 120.\n"
     ]
    }
   ],
   "source": [
    "print(f\"Patient {patient_id} was born in {birth_year} and has a heart rate of {heart_rate}.\")"
   ]
  },
  {
   "cell_type": "markdown",
   "metadata": {},
   "source": [
    "This type of multiple variable assignment is called \"tuple unpacking\". This only works if we have the same number of values and variables. If we try to unpacker a larger tuple of values into a smaller number of variables, we'll get an error. We'll also get an error when we try to unpack a smaller tuple of values into a larger number of variables.\n",
    "\n",
    "Tuple unpacking is especially useful when we write a function that returns more than one value. Check out how it works in the example below."
   ]
  },
  {
   "cell_type": "code",
   "execution_count": 61,
   "metadata": {},
   "outputs": [
    {
     "name": "stdout",
     "output_type": "stream",
     "text": [
      "Temperature in Toronto is -10C, 263.15K, 14.0F.\n"
     ]
    }
   ],
   "source": [
    "def calculate_temperature(celcius):\n",
    "    \"\"\"Converts temperature measured in Celcius\n",
    "    and returns the Kelvin and Fahrenheit equivalents. \n",
    "    \"\"\"\n",
    "    kelvin = celcius + 273.15\n",
    "    fahrenheit = celcius*9/5 + 32\n",
    "    return kelvin, fahrenheit\n",
    "\n",
    "toronto_temp = -10\n",
    "\n",
    "temp_k, temp_f = calculate_temperature(toronto_temp)\n",
    "print(f\"Temperature in Toronto is {toronto_temp}C, {temp_k}K, {temp_f}F.\")"
   ]
  },
  {
   "cell_type": "markdown",
   "metadata": {},
   "source": [
    "### 3. Sets\n",
    "\n",
    "A set is a special sequence type which is constructed with curly brackets. Unlike lists and tuples, elements in a set must be unique. There cannot be two of the same element. Also, elements in a set will always be rearranged from lowest value to highest value. Let's try it out here."
   ]
  },
  {
   "cell_type": "code",
   "execution_count": 62,
   "metadata": {},
   "outputs": [
    {
     "data": {
      "text/plain": [
       "{2, 3, 4, 9}"
      ]
     },
     "execution_count": 62,
     "metadata": {},
     "output_type": "execute_result"
    }
   ],
   "source": [
    "numbers = {3,9,2,4,3}\n",
    "numbers"
   ]
  },
  {
   "cell_type": "markdown",
   "metadata": {},
   "source": [
    "Sets are unordered which means that the order in which the elements are arranged does not matter. If the elements in two sets are identical, then we can say that Set A is equivalent to Set B. "
   ]
  },
  {
   "cell_type": "code",
   "execution_count": 63,
   "metadata": {},
   "outputs": [
    {
     "data": {
      "text/plain": [
       "True"
      ]
     },
     "execution_count": 63,
     "metadata": {},
     "output_type": "execute_result"
    }
   ],
   "source": [
    "set_a = {3,2,4,3,9}\n",
    "set_b = {4,9,4,3,2}\n",
    "set_a == set_b"
   ]
  },
  {
   "cell_type": "markdown",
   "metadata": {},
   "source": [
    "Sets are great for finding the number of unique elements in a sequence. Let's say you have a list of beverage orders."
   ]
  },
  {
   "cell_type": "code",
   "execution_count": 64,
   "metadata": {},
   "outputs": [],
   "source": [
    "beverages = ['coffee', 'tea', 'tea', 'coffee', 'espresso', \n",
    "             'latte', 'latte', 'latte', 'latte', 'coffee']"
   ]
  },
  {
   "cell_type": "markdown",
   "metadata": {},
   "source": [
    "But you only want the unique beverages in the list. You can easily convert the list to a set to filter out the repeated beverages. "
   ]
  },
  {
   "cell_type": "code",
   "execution_count": 65,
   "metadata": {},
   "outputs": [
    {
     "data": {
      "text/plain": [
       "{'coffee', 'espresso', 'latte', 'tea'}"
      ]
     },
     "execution_count": 65,
     "metadata": {},
     "output_type": "execute_result"
    }
   ],
   "source": [
    "unique_beverages = set(beverages)\n",
    "unique_beverages"
   ]
  },
  {
   "cell_type": "code",
   "execution_count": 66,
   "metadata": {},
   "outputs": [
    {
     "name": "stdout",
     "output_type": "stream",
     "text": [
      "There are 4 unique beverages.\n"
     ]
    }
   ],
   "source": [
    "print(f\"There are {len(unique_beverages)} unique beverages.\")"
   ]
  },
  {
   "cell_type": "markdown",
   "metadata": {},
   "source": [
    "#### Unions and Intersections"
   ]
  },
  {
   "cell_type": "markdown",
   "metadata": {},
   "source": [
    "Let's say we're working with two sets. One contains beverages from `Office A` while the other is from `Office B`."
   ]
  },
  {
   "cell_type": "code",
   "execution_count": 67,
   "metadata": {},
   "outputs": [],
   "source": [
    "office_a = {'coffee', 'latte', 'espresso', 'iced tea'}\n",
    "office_b = {'coffee', 'cappucino', 'frappucino', 'chai tea', 'latte'}"
   ]
  },
  {
   "cell_type": "markdown",
   "metadata": {},
   "source": [
    "There is some overlap in beverages between the two sets. If we want to combine these sets and look at all unique beverages between the two offices, we can use the [union](https://docs.python.org/2/library/stdtypes.html#frozenset.union) operation. "
   ]
  },
  {
   "cell_type": "code",
   "execution_count": 68,
   "metadata": {},
   "outputs": [
    {
     "data": {
      "text/plain": [
       "{'cappucino',\n",
       " 'chai tea',\n",
       " 'coffee',\n",
       " 'espresso',\n",
       " 'frappucino',\n",
       " 'iced tea',\n",
       " 'latte'}"
      ]
     },
     "execution_count": 68,
     "metadata": {},
     "output_type": "execute_result"
    }
   ],
   "source": [
    "office_a.union(office_b)"
   ]
  },
  {
   "cell_type": "markdown",
   "metadata": {},
   "source": [
    "Which beverages were ordered by both `Office A` and `Office B`? We can get the answer to this using the [intersection](https://docs.python.org/2/library/stdtypes.html#frozenset.intersection) operation.  "
   ]
  },
  {
   "cell_type": "code",
   "execution_count": 69,
   "metadata": {},
   "outputs": [
    {
     "data": {
      "text/plain": [
       "{'coffee', 'latte'}"
      ]
     },
     "execution_count": 69,
     "metadata": {},
     "output_type": "execute_result"
    }
   ],
   "source": [
    "office_a.intersection(office_b)"
   ]
  },
  {
   "cell_type": "markdown",
   "metadata": {},
   "source": [
    "Both offices ordered coffee and a latte."
   ]
  },
  {
   "cell_type": "markdown",
   "metadata": {},
   "source": [
    "Which beverages were ordered by `Office A` but not `Office B`? "
   ]
  },
  {
   "cell_type": "code",
   "execution_count": 70,
   "metadata": {},
   "outputs": [
    {
     "data": {
      "text/plain": [
       "{'espresso', 'iced tea'}"
      ]
     },
     "execution_count": 70,
     "metadata": {},
     "output_type": "execute_result"
    }
   ],
   "source": [
    "office_a - office_b"
   ]
  },
  {
   "cell_type": "markdown",
   "metadata": {},
   "source": [
    "How about beverages that were ordered by `Office B` but not `Office A`?"
   ]
  },
  {
   "cell_type": "code",
   "execution_count": 71,
   "metadata": {},
   "outputs": [
    {
     "data": {
      "text/plain": [
       "{'cappucino', 'chai tea', 'frappucino'}"
      ]
     },
     "execution_count": 71,
     "metadata": {},
     "output_type": "execute_result"
    }
   ],
   "source": [
    "office_b - office_a"
   ]
  }
 ],
 "metadata": {
  "kernelspec": {
   "display_name": "Python 3",
   "language": "python",
   "name": "python3"
  },
  "language_info": {
   "codemirror_mode": {
    "name": "ipython",
    "version": 3
   },
   "file_extension": ".py",
   "mimetype": "text/x-python",
   "name": "python",
   "nbconvert_exporter": "python",
   "pygments_lexer": "ipython3",
   "version": "3.7.6"
  }
 },
 "nbformat": 4,
 "nbformat_minor": 2
}
