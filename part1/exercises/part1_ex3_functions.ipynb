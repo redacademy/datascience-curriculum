{
 "cells": [
  {
   "cell_type": "markdown",
   "metadata": {},
   "source": [
    "# Exercise 3: Functions\n",
    "\n",
    "This exercise focuses on creating functions in Python. This notebook is also available on [Google Colab](https://colab.research.google.com/drive/1fTKSOgKvwYuhkODOTd1upOYSOeZnBUfs). \n",
    "\n",
    "Let's start by writing a function that calculates the total cost of a hotel stay. Our inputs are:\n",
    "\n",
    "- `num_nights`\n",
    "- `cost_per_night`\n",
    "- `extra_bed`\n",
    "\n",
    "Adding the extra bed costs an additional $50. To make things easier, here's an outline of what the function might look like. "
   ]
  },
  {
   "cell_type": "code",
   "execution_count": null,
   "metadata": {},
   "outputs": [],
   "source": [
    "def calculate_hotel_cost(num_nights, cost_per_night, extra_bed=False):\n",
    "    \"\"\"Calculates the total cost of a hotel stay. \n",
    "    \n",
    "    Args:\n",
    "        num_nights (int): Number of nights spent in hotel\n",
    "        cost_per_night (float): Cost of room per night\n",
    "        extra_bed (bool): Whether an extra bed was added to the room\n",
    "    \n",
    "    Returns:\n",
    "        float: Total cost of hotel stay\n",
    "    \"\"\"\n",
    "    total_cost = \n",
    "    \n",
    "    if extra_bed is True:\n",
    "        total_cost\n",
    "    \n",
    "    return total_cost"
   ]
  },
  {
   "cell_type": "markdown",
   "metadata": {},
   "source": [
    "We can test out the function and make sure it returns an appropriate value:"
   ]
  },
  {
   "cell_type": "code",
   "execution_count": null,
   "metadata": {},
   "outputs": [],
   "source": [
    "total_cost = calculate_hotel_cost(num_nights=5, cost_per_night=157.60, extra_bed=True)\n",
    "\n",
    "assert total_cost == 838"
   ]
  },
  {
   "cell_type": "markdown",
   "metadata": {},
   "source": [
    "We used the `assert` statement above to make sure that the function returned 838 given the inputs above."
   ]
  },
  {
   "cell_type": "markdown",
   "metadata": {},
   "source": [
    "Ok, let's build another function that calculates your airfare. Airfare is defined as such:\n",
    "\n",
    "```\n",
    "flight_cost * flight_tax + num_bags * 60\n",
    "```\n",
    "\n",
    "The default value for `flight_tax` is 15% but this can be changed if you're working with another airline company. Cost per checked bag is always $60. Try writing a function that calculates this."
   ]
  },
  {
   "cell_type": "code",
   "execution_count": null,
   "metadata": {},
   "outputs": [],
   "source": [
    "def calculate_airfare():\n",
    "    \"\"\"Calculates total cost of airfare. \n",
    "    \n",
    "    Args:\n",
    "        flight_cost (float): Base cost of flight\n",
    "        flight_tax (float): Percentage of tax applied to flight cost. \n",
    "            Defaults to 0.15.\n",
    "        num_bags (int): Number of bags checked in. \n",
    "        \n",
    "    Returns:\n",
    "        float: Total cost of airfare. \n",
    "    \"\"\"\n",
    "    \n",
    "    "
   ]
  },
  {
   "cell_type": "markdown",
   "metadata": {},
   "source": [
    "Write your own assert statement that makes sure the function returns what you're expecting."
   ]
  },
  {
   "cell_type": "code",
   "execution_count": null,
   "metadata": {},
   "outputs": [],
   "source": [
    "output = calculated_airfare(flight_cost=____, flight_tax=___, num_bags=____)\n",
    "expected_output = ____\n",
    "\n",
    "assert output == expected_output"
   ]
  },
  {
   "cell_type": "markdown",
   "metadata": {},
   "source": [
    "Ok, the last function that we need to write for this trip is car rental costs. \n",
    "\n",
    "A car rental is calculated by day and costs 5 cents per kilometer driven. If the car is an SUV, it's 80 dollars per day. If it's a sedan, it's 50 dollars per day and if it's a compact car, it's 30 dollars per day. "
   ]
  },
  {
   "cell_type": "code",
   "execution_count": null,
   "metadata": {},
   "outputs": [],
   "source": [
    "def calculate_car_rental_cost(num_days, total_km, car_type):\n",
    "    \"\"\" \n",
    "    \"\"\"\n",
    "    \n",
    "    \n",
    "    if car_type == 80:\n",
    "        \n",
    "    if car_type == 50:\n",
    "        \n",
    "    if car_type == 30:\n",
    "        \n",
    "    return"
   ]
  },
  {
   "cell_type": "markdown",
   "metadata": {},
   "source": [
    "### Returning More than One Item"
   ]
  },
  {
   "cell_type": "markdown",
   "metadata": {},
   "source": [
    "Let's write a new function that takes in a list of values and outputs the sum and mean. "
   ]
  },
  {
   "cell_type": "code",
   "execution_count": null,
   "metadata": {},
   "outputs": [],
   "source": [
    "def compute_list_statistics(x):"
   ]
  }
 ],
 "metadata": {
  "kernelspec": {
   "display_name": "Python 3",
   "language": "python",
   "name": "python3"
  },
  "language_info": {
   "codemirror_mode": {
    "name": "ipython",
    "version": 3
   },
   "file_extension": ".py",
   "mimetype": "text/x-python",
   "name": "python",
   "nbconvert_exporter": "python",
   "pygments_lexer": "ipython3",
   "version": "3.7.4"
  }
 },
 "nbformat": 4,
 "nbformat_minor": 2
}
