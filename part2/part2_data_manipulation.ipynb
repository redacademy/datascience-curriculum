{
 "cells": [
  {
   "cell_type": "markdown",
   "metadata": {},
   "source": [
    "# Part 2: Data Manipulation\n",
    "\n",
    "In this tutorial, we're going to be using the [Starbucks menu nutrional facts](https://www.kaggle.com/starbucks/starbucks-menu/data) dataset which consists of two files - one for beverages and one for food. This dataset is located in the `data/` folder of this repository. You can download the original dataset via [Kaggle](https://www.kaggle.com/), which is an online community of data scientists and machine learning practitioners. Within Kaggle, you can find a wide variety of open-source datasets and public machine learning competitions. \n",
    "\n",
    "A fill-in-the-blank version of this notebook can be accessed on [Google Colab](https://colab.research.google.com/drive/1-de8UlYtOMilR8pFvSJvn4uApXOs4mzC)."
   ]
  },
  {
   "cell_type": "markdown",
   "metadata": {},
   "source": [
    "### Importing Dependencies\n",
    "\n",
    "We'll be using the following packages:\n",
    "\n",
    "- [pandas](https://pandas.pydata.org/) - good for data manipulation and analysis\n",
    "- [numpy](https://numpy.org/) - good for scientific computing \n",
    "- [matplotlib](https://matplotlib.org/) - plotting package\n",
    "- [seaborn](https://seaborn.pydata.org/) - plotting package (an extension of matplotlib)"
   ]
  },
  {
   "cell_type": "code",
   "execution_count": 1,
   "metadata": {},
   "outputs": [
    {
     "name": "stderr",
     "output_type": "stream",
     "text": [
      "/usr/local/lib/python3.7/site-packages/matplotlib/__init__.py:886: MatplotlibDeprecationWarning: \n",
      "examples.directory is deprecated; in the future, examples will be found relative to the 'datapath' directory.\n",
      "  \"found relative to the 'datapath' directory.\".format(key))\n"
     ]
    }
   ],
   "source": [
    "import pandas as pd\n",
    "import numpy as np\n",
    "import seaborn as sns\n",
    "import matplotlib.pyplot as plt\n",
    "\n",
    "pd.options.mode.chained_assignment = None"
   ]
  },
  {
   "cell_type": "markdown",
   "metadata": {},
   "source": [
    "### Loading the Data\n",
    "\n",
    "Our Starbucks dataset consists of two files: \n",
    "\n",
    "1. nutritional facts about Starbucks beverages\n",
    "2. nutritional facts about Starbucks food items \n",
    "\n",
    "We'll be loading these files in as two separate dataframes. "
   ]
  },
  {
   "cell_type": "markdown",
   "metadata": {},
   "source": [
    "### What is a dataframe?\n",
    "\n",
    "<img src=\"assets/imgs/dataframe_anatomy.png\" width=\"50%\" align=\"right\">\n",
    "\n",
    "A Pandas DataFrame is a two-dimensional data structure. It consists of three components: \n",
    "\n",
    "1. rows: represents separate entries/samples of the dataset\n",
    "2. columns: represents features\n",
    "3. data: populates the cells of the dataframe\n",
    "\n",
    "\n",
    "You can create a dataframe from scratch:\n",
    "\n",
    "```\n",
    "pd.DataFrame({\n",
    "    'drink': ['coffee', 'tea', 'latte'], \n",
    "    'price': [1.50, 2, 3.50]\n",
    "})\n",
    "```\n",
    "\n",
    "You can also create a dataframe by loading in a csv file, excel spreadsheet, or table from a SQL database: \n",
    "\n",
    "```\n",
    "pd.read_csv('dataset.csv')\n",
    "```\n",
    "\n",
    "```\n",
    "pd.read_excel('dataset.xls')\n",
    "```\n",
    "\n",
    "Let's start by loading our Starbucks drink menu. It's a csv file so we'll be using `read_csv()`."
   ]
  },
  {
   "cell_type": "code",
   "execution_count": 2,
   "metadata": {},
   "outputs": [],
   "source": [
    "starbucks_drink = pd.read_csv(\"data/starbucks_drink_menu.csv\")"
   ]
  },
  {
   "cell_type": "markdown",
   "metadata": {},
   "source": [
    "Before we start analyzing our dataset, let's first take a look at how many rows and columns we're dealing with. You can get this information by applying `.shape` to your dataframe. This will return a tuple of (`n_rows`, `n_cols`)."
   ]
  },
  {
   "cell_type": "code",
   "execution_count": 3,
   "metadata": {},
   "outputs": [
    {
     "data": {
      "text/plain": [
       "(240, 19)"
      ]
     },
     "execution_count": 3,
     "metadata": {},
     "output_type": "execute_result"
    }
   ],
   "source": [
    "starbucks_drink.shape"
   ]
  },
  {
   "cell_type": "markdown",
   "metadata": {},
   "source": [
    "Let's also take a peek at the first 5 rows of our dataset. We do this using the `.head()` method."
   ]
  },
  {
   "cell_type": "code",
   "execution_count": 4,
   "metadata": {},
   "outputs": [
    {
     "data": {
      "text/html": [
       "<div>\n",
       "<style scoped>\n",
       "    .dataframe tbody tr th:only-of-type {\n",
       "        vertical-align: middle;\n",
       "    }\n",
       "\n",
       "    .dataframe tbody tr th {\n",
       "        vertical-align: top;\n",
       "    }\n",
       "\n",
       "    .dataframe thead th {\n",
       "        text-align: right;\n",
       "    }\n",
       "</style>\n",
       "<table border=\"1\" class=\"dataframe\">\n",
       "  <thead>\n",
       "    <tr style=\"text-align: right;\">\n",
       "      <th></th>\n",
       "      <th>beverage</th>\n",
       "      <th>beverage_category</th>\n",
       "      <th>drink_size</th>\n",
       "      <th>milk_type</th>\n",
       "      <th>calories</th>\n",
       "      <th>caffeine_in_mg</th>\n",
       "      <th>carbs_in_g</th>\n",
       "      <th>sugars_in_g</th>\n",
       "      <th>protein_in_g</th>\n",
       "      <th>fat_in_g</th>\n",
       "      <th>fibre_in_g</th>\n",
       "      <th>cholesterol_in_mg</th>\n",
       "      <th>saturated_fat_in_g</th>\n",
       "      <th>sodium_in_mg</th>\n",
       "      <th>trans_fat_in_g</th>\n",
       "      <th>vit_a_dv</th>\n",
       "      <th>vit_c_dv</th>\n",
       "      <th>iron_dv</th>\n",
       "      <th>calcium_dv</th>\n",
       "    </tr>\n",
       "  </thead>\n",
       "  <tbody>\n",
       "    <tr>\n",
       "      <th>0</th>\n",
       "      <td>Brewed Coffee</td>\n",
       "      <td>Coffee</td>\n",
       "      <td>Short</td>\n",
       "      <td>NaN</td>\n",
       "      <td>3</td>\n",
       "      <td>175</td>\n",
       "      <td>5</td>\n",
       "      <td>0</td>\n",
       "      <td>0.3</td>\n",
       "      <td>0.1</td>\n",
       "      <td>0</td>\n",
       "      <td>0</td>\n",
       "      <td>0.0</td>\n",
       "      <td>0</td>\n",
       "      <td>0.0</td>\n",
       "      <td>0%</td>\n",
       "      <td>0%</td>\n",
       "      <td>0%</td>\n",
       "      <td>0%</td>\n",
       "    </tr>\n",
       "    <tr>\n",
       "      <th>1</th>\n",
       "      <td>Brewed Coffee</td>\n",
       "      <td>Coffee</td>\n",
       "      <td>Tall</td>\n",
       "      <td>NaN</td>\n",
       "      <td>4</td>\n",
       "      <td>260</td>\n",
       "      <td>10</td>\n",
       "      <td>0</td>\n",
       "      <td>0.5</td>\n",
       "      <td>0.1</td>\n",
       "      <td>0</td>\n",
       "      <td>0</td>\n",
       "      <td>0.0</td>\n",
       "      <td>0</td>\n",
       "      <td>0.0</td>\n",
       "      <td>0%</td>\n",
       "      <td>0%</td>\n",
       "      <td>0%</td>\n",
       "      <td>0%</td>\n",
       "    </tr>\n",
       "    <tr>\n",
       "      <th>2</th>\n",
       "      <td>Brewed Coffee</td>\n",
       "      <td>Coffee</td>\n",
       "      <td>Grande</td>\n",
       "      <td>NaN</td>\n",
       "      <td>5</td>\n",
       "      <td>330</td>\n",
       "      <td>10</td>\n",
       "      <td>0</td>\n",
       "      <td>1.0</td>\n",
       "      <td>0.1</td>\n",
       "      <td>0</td>\n",
       "      <td>0</td>\n",
       "      <td>0.0</td>\n",
       "      <td>0</td>\n",
       "      <td>0.0</td>\n",
       "      <td>0%</td>\n",
       "      <td>0%</td>\n",
       "      <td>0%</td>\n",
       "      <td>0%</td>\n",
       "    </tr>\n",
       "    <tr>\n",
       "      <th>3</th>\n",
       "      <td>Brewed Coffee</td>\n",
       "      <td>Coffee</td>\n",
       "      <td>Venti</td>\n",
       "      <td>NaN</td>\n",
       "      <td>5</td>\n",
       "      <td>410</td>\n",
       "      <td>10</td>\n",
       "      <td>0</td>\n",
       "      <td>1.0</td>\n",
       "      <td>0.1</td>\n",
       "      <td>0</td>\n",
       "      <td>0</td>\n",
       "      <td>0.0</td>\n",
       "      <td>0</td>\n",
       "      <td>0.0</td>\n",
       "      <td>0%</td>\n",
       "      <td>0%</td>\n",
       "      <td>0%</td>\n",
       "      <td>2%</td>\n",
       "    </tr>\n",
       "    <tr>\n",
       "      <th>4</th>\n",
       "      <td>Caffè Americano</td>\n",
       "      <td>Classic Espresso Drinks</td>\n",
       "      <td>Short</td>\n",
       "      <td>NaN</td>\n",
       "      <td>5</td>\n",
       "      <td>75</td>\n",
       "      <td>5</td>\n",
       "      <td>0</td>\n",
       "      <td>0.4</td>\n",
       "      <td>0.0</td>\n",
       "      <td>0</td>\n",
       "      <td>1</td>\n",
       "      <td>0.0</td>\n",
       "      <td>0</td>\n",
       "      <td>0.0</td>\n",
       "      <td>0%</td>\n",
       "      <td>0%</td>\n",
       "      <td>0%</td>\n",
       "      <td>0%</td>\n",
       "    </tr>\n",
       "  </tbody>\n",
       "</table>\n",
       "</div>"
      ],
      "text/plain": [
       "          beverage        beverage_category drink_size milk_type  calories  \\\n",
       "0    Brewed Coffee                   Coffee      Short       NaN         3   \n",
       "1    Brewed Coffee                   Coffee       Tall       NaN         4   \n",
       "2    Brewed Coffee                   Coffee     Grande       NaN         5   \n",
       "3    Brewed Coffee                   Coffee      Venti       NaN         5   \n",
       "4  Caffè Americano  Classic Espresso Drinks      Short       NaN         5   \n",
       "\n",
       "  caffeine_in_mg  carbs_in_g  sugars_in_g  protein_in_g  fat_in_g  fibre_in_g  \\\n",
       "0            175           5            0           0.3       0.1           0   \n",
       "1            260          10            0           0.5       0.1           0   \n",
       "2            330          10            0           1.0       0.1           0   \n",
       "3            410          10            0           1.0       0.1           0   \n",
       "4             75           5            0           0.4       0.0           0   \n",
       "\n",
       "   cholesterol_in_mg  saturated_fat_in_g  sodium_in_mg  trans_fat_in_g  \\\n",
       "0                  0                 0.0             0             0.0   \n",
       "1                  0                 0.0             0             0.0   \n",
       "2                  0                 0.0             0             0.0   \n",
       "3                  0                 0.0             0             0.0   \n",
       "4                  1                 0.0             0             0.0   \n",
       "\n",
       "  vit_a_dv vit_c_dv iron_dv calcium_dv  \n",
       "0       0%       0%      0%         0%  \n",
       "1       0%       0%      0%         0%  \n",
       "2       0%       0%      0%         0%  \n",
       "3       0%       0%      0%         2%  \n",
       "4       0%       0%      0%         0%  "
      ]
     },
     "execution_count": 4,
     "metadata": {},
     "output_type": "execute_result"
    }
   ],
   "source": [
    "starbucks_drink.head()"
   ]
  },
  {
   "cell_type": "markdown",
   "metadata": {},
   "source": [
    "If we wanted to randomly sample rows, we can use a method called `.sample()`. You can decide how many rows you want to sample by adjusting `n`."
   ]
  },
  {
   "cell_type": "code",
   "execution_count": 5,
   "metadata": {},
   "outputs": [
    {
     "data": {
      "text/html": [
       "<div>\n",
       "<style scoped>\n",
       "    .dataframe tbody tr th:only-of-type {\n",
       "        vertical-align: middle;\n",
       "    }\n",
       "\n",
       "    .dataframe tbody tr th {\n",
       "        vertical-align: top;\n",
       "    }\n",
       "\n",
       "    .dataframe thead th {\n",
       "        text-align: right;\n",
       "    }\n",
       "</style>\n",
       "<table border=\"1\" class=\"dataframe\">\n",
       "  <thead>\n",
       "    <tr style=\"text-align: right;\">\n",
       "      <th></th>\n",
       "      <th>beverage</th>\n",
       "      <th>beverage_category</th>\n",
       "      <th>drink_size</th>\n",
       "      <th>milk_type</th>\n",
       "      <th>calories</th>\n",
       "      <th>caffeine_in_mg</th>\n",
       "      <th>carbs_in_g</th>\n",
       "      <th>sugars_in_g</th>\n",
       "      <th>protein_in_g</th>\n",
       "      <th>fat_in_g</th>\n",
       "      <th>fibre_in_g</th>\n",
       "      <th>cholesterol_in_mg</th>\n",
       "      <th>saturated_fat_in_g</th>\n",
       "      <th>sodium_in_mg</th>\n",
       "      <th>trans_fat_in_g</th>\n",
       "      <th>vit_a_dv</th>\n",
       "      <th>vit_c_dv</th>\n",
       "      <th>iron_dv</th>\n",
       "      <th>calcium_dv</th>\n",
       "    </tr>\n",
       "  </thead>\n",
       "  <tbody>\n",
       "    <tr>\n",
       "      <th>124</th>\n",
       "      <td>Iced Brewed Coffee (With Milk &amp; Classic Syrup)</td>\n",
       "      <td>Shaken Iced Beverages</td>\n",
       "      <td>short</td>\n",
       "      <td>2% Milk</td>\n",
       "      <td>90</td>\n",
       "      <td>NaN</td>\n",
       "      <td>25</td>\n",
       "      <td>18</td>\n",
       "      <td>2.0</td>\n",
       "      <td>1.0</td>\n",
       "      <td>0</td>\n",
       "      <td>18</td>\n",
       "      <td>0.0</td>\n",
       "      <td>5</td>\n",
       "      <td>0.5</td>\n",
       "      <td>2%</td>\n",
       "      <td>0%</td>\n",
       "      <td>0.00%</td>\n",
       "      <td>6%</td>\n",
       "    </tr>\n",
       "    <tr>\n",
       "      <th>226</th>\n",
       "      <td>Tazo® Chai Tea Latte</td>\n",
       "      <td>Tazo® Tea Drinks</td>\n",
       "      <td>grande</td>\n",
       "      <td>Soymilk</td>\n",
       "      <td>220</td>\n",
       "      <td>95</td>\n",
       "      <td>90</td>\n",
       "      <td>37</td>\n",
       "      <td>6.0</td>\n",
       "      <td>3.5</td>\n",
       "      <td>1</td>\n",
       "      <td>41</td>\n",
       "      <td>0.0</td>\n",
       "      <td>0</td>\n",
       "      <td>0.4</td>\n",
       "      <td>8%</td>\n",
       "      <td>0%</td>\n",
       "      <td>10%</td>\n",
       "      <td>25%</td>\n",
       "    </tr>\n",
       "    <tr>\n",
       "      <th>2</th>\n",
       "      <td>Brewed Coffee</td>\n",
       "      <td>Coffee</td>\n",
       "      <td>Grande</td>\n",
       "      <td>NaN</td>\n",
       "      <td>5</td>\n",
       "      <td>330</td>\n",
       "      <td>10</td>\n",
       "      <td>0</td>\n",
       "      <td>1.0</td>\n",
       "      <td>0.1</td>\n",
       "      <td>0</td>\n",
       "      <td>0</td>\n",
       "      <td>0.0</td>\n",
       "      <td>0</td>\n",
       "      <td>0.0</td>\n",
       "      <td>0%</td>\n",
       "      <td>0%</td>\n",
       "      <td>0%</td>\n",
       "      <td>0%</td>\n",
       "    </tr>\n",
       "  </tbody>\n",
       "</table>\n",
       "</div>"
      ],
      "text/plain": [
       "                                           beverage      beverage_category  \\\n",
       "124  Iced Brewed Coffee (With Milk & Classic Syrup)  Shaken Iced Beverages   \n",
       "226                            Tazo® Chai Tea Latte       Tazo® Tea Drinks   \n",
       "2                                     Brewed Coffee                 Coffee   \n",
       "\n",
       "    drink_size milk_type  calories caffeine_in_mg  carbs_in_g  sugars_in_g  \\\n",
       "124      short   2% Milk        90            NaN          25           18   \n",
       "226     grande   Soymilk       220             95          90           37   \n",
       "2       Grande       NaN         5            330          10            0   \n",
       "\n",
       "     protein_in_g  fat_in_g  fibre_in_g  cholesterol_in_mg  \\\n",
       "124           2.0       1.0           0                 18   \n",
       "226           6.0       3.5           1                 41   \n",
       "2             1.0       0.1           0                  0   \n",
       "\n",
       "     saturated_fat_in_g  sodium_in_mg  trans_fat_in_g vit_a_dv vit_c_dv  \\\n",
       "124                 0.0             5             0.5       2%       0%   \n",
       "226                 0.0             0             0.4       8%       0%   \n",
       "2                   0.0             0             0.0       0%       0%   \n",
       "\n",
       "    iron_dv calcium_dv  \n",
       "124   0.00%         6%  \n",
       "226     10%        25%  \n",
       "2        0%         0%  "
      ]
     },
     "execution_count": 5,
     "metadata": {},
     "output_type": "execute_result"
    }
   ],
   "source": [
    "starbucks_drink.sample(n=3)"
   ]
  },
  {
   "cell_type": "markdown",
   "metadata": {},
   "source": [
    "### Which columns are in our dataset?\n",
    "\n",
    "We can see which columns are in our dataset, and look at their datatypes using `dtypes`. "
   ]
  },
  {
   "cell_type": "code",
   "execution_count": 6,
   "metadata": {},
   "outputs": [
    {
     "data": {
      "text/plain": [
       "beverage               object\n",
       "beverage_category      object\n",
       "drink_size             object\n",
       "milk_type              object\n",
       "calories                int64\n",
       "caffeine_in_mg         object\n",
       "carbs_in_g              int64\n",
       "sugars_in_g             int64\n",
       "protein_in_g          float64\n",
       "fat_in_g              float64\n",
       "fibre_in_g              int64\n",
       "cholesterol_in_mg       int64\n",
       "saturated_fat_in_g    float64\n",
       "sodium_in_mg            int64\n",
       "trans_fat_in_g        float64\n",
       "vit_a_dv               object\n",
       "vit_c_dv               object\n",
       "iron_dv                object\n",
       "calcium_dv             object\n",
       "dtype: object"
      ]
     },
     "execution_count": 6,
     "metadata": {},
     "output_type": "execute_result"
    }
   ],
   "source": [
    "starbucks_drink.dtypes"
   ]
  },
  {
   "cell_type": "markdown",
   "metadata": {},
   "source": [
    "We can see that our dataset has a combination of `int64`, `float64` and `object` datatypes. The `object` datatype  suggests that the column is either a string type (categorical) or mixed (e.g., mixture of floats and NaNs). A NaN is a \"none\" type, which means that the value is missing.   "
   ]
  },
  {
   "cell_type": "markdown",
   "metadata": {},
   "source": [
    "### Selecting a Column From a Pandas DataFrame"
   ]
  },
  {
   "cell_type": "markdown",
   "metadata": {},
   "source": [
    "Let's get a single column from our dataframe. We can do this by identifying the column name in square brackets:\n",
    "\n",
    "```\n",
    "data['col_name']\n",
    "```\n",
    "The output is a [Pandas Series](https://pandas.pydata.org/pandas-docs/stable/reference/api/pandas.Series.html) which comes with its own special functions. "
   ]
  },
  {
   "cell_type": "code",
   "execution_count": 7,
   "metadata": {},
   "outputs": [
    {
     "data": {
      "text/plain": [
       "0    3\n",
       "1    4\n",
       "2    5\n",
       "3    5\n",
       "4    5\n",
       "Name: calories, dtype: int64"
      ]
     },
     "execution_count": 7,
     "metadata": {},
     "output_type": "execute_result"
    }
   ],
   "source": [
    "sample_data = starbucks_drink.head()\n",
    "sample_data['calories']"
   ]
  },
  {
   "cell_type": "markdown",
   "metadata": {},
   "source": [
    "Some useful Pandas Series methods include: `.mean()`, `.max()`, `.min()`, `.describe()`, `.value_counts()`. Try these out in the cell below. "
   ]
  },
  {
   "cell_type": "code",
   "execution_count": 8,
   "metadata": {},
   "outputs": [
    {
     "data": {
      "text/plain": [
       "4.4"
      ]
     },
     "execution_count": 8,
     "metadata": {},
     "output_type": "execute_result"
    }
   ],
   "source": [
    "sample_data['calories'].mean()"
   ]
  },
  {
   "cell_type": "code",
   "execution_count": 9,
   "metadata": {},
   "outputs": [
    {
     "data": {
      "text/plain": [
       "count    5.000000\n",
       "mean     4.400000\n",
       "std      0.894427\n",
       "min      3.000000\n",
       "25%      4.000000\n",
       "50%      5.000000\n",
       "75%      5.000000\n",
       "max      5.000000\n",
       "Name: calories, dtype: float64"
      ]
     },
     "execution_count": 9,
     "metadata": {},
     "output_type": "execute_result"
    }
   ],
   "source": [
    "sample_data['calories'].describe()"
   ]
  },
  {
   "cell_type": "markdown",
   "metadata": {},
   "source": [
    "### Selecting a Row From a Pandas DataFrame"
   ]
  },
  {
   "cell_type": "markdown",
   "metadata": {},
   "source": [
    "What if we wanted to look at one row in our dataframe? Rows can be accessed by their index. A dataframe's index typically starts at 0 and increments with each row. We can access a dataframe's row using `.iloc[index_number]` where index_number represents the index of the row of interest.\n",
    "\n",
    "Let's get the first row of our sample dataframe. In this case, the index will be 0. "
   ]
  },
  {
   "cell_type": "code",
   "execution_count": 10,
   "metadata": {},
   "outputs": [
    {
     "data": {
      "text/plain": [
       "beverage              Brewed Coffee\n",
       "beverage_category            Coffee\n",
       "drink_size                    Short\n",
       "milk_type                       NaN\n",
       "calories                          3\n",
       "caffeine_in_mg                  175\n",
       "carbs_in_g                        5\n",
       "sugars_in_g                       0\n",
       "protein_in_g                    0.3\n",
       "fat_in_g                        0.1\n",
       "fibre_in_g                        0\n",
       "cholesterol_in_mg                 0\n",
       "saturated_fat_in_g                0\n",
       "sodium_in_mg                      0\n",
       "trans_fat_in_g                    0\n",
       "vit_a_dv                         0%\n",
       "vit_c_dv                         0%\n",
       "iron_dv                          0%\n",
       "calcium_dv                       0%\n",
       "Name: 0, dtype: object"
      ]
     },
     "execution_count": 10,
     "metadata": {},
     "output_type": "execute_result"
    }
   ],
   "source": [
    "sample_data.iloc[0]"
   ]
  },
  {
   "cell_type": "markdown",
   "metadata": {},
   "source": [
    "With `.iloc[]`, you can also access specific elements in the dataframe. You can do this by passing in a list of length 2. The first element represents the row position, while the second element represents the column position."
   ]
  },
  {
   "cell_type": "code",
   "execution_count": 11,
   "metadata": {},
   "outputs": [
    {
     "data": {
      "text/plain": [
       "'Brewed Coffee'"
      ]
     },
     "execution_count": 11,
     "metadata": {},
     "output_type": "execute_result"
    }
   ],
   "source": [
    "sample_data.iloc[0,0]"
   ]
  },
  {
   "cell_type": "markdown",
   "metadata": {},
   "source": [
    "Let's get `drink_size`. Remember, index positions starts at 0. The column `drink_size` is the 3rd column in our dataframe, so its position will be 2."
   ]
  },
  {
   "cell_type": "code",
   "execution_count": 12,
   "metadata": {},
   "outputs": [
    {
     "data": {
      "text/plain": [
       "'Short'"
      ]
     },
     "execution_count": 12,
     "metadata": {},
     "output_type": "execute_result"
    }
   ],
   "source": [
    "sample_data.iloc[0,2]"
   ]
  },
  {
   "cell_type": "markdown",
   "metadata": {},
   "source": [
    "### Adding Columns to a Pandas DataFrame"
   ]
  },
  {
   "cell_type": "markdown",
   "metadata": {},
   "source": [
    "We can create a new column in our dataframe by declaring a new list as a column. The length of the list must be equal to the number of rows in the dataframe. In our `sample_data`, we have 5 rows so our list must be of length 5. Let's take a look at the example below, where we create a new column indicating whether a Starbucks beverage is in stock."
   ]
  },
  {
   "cell_type": "code",
   "execution_count": 13,
   "metadata": {},
   "outputs": [],
   "source": [
    "in_stock = [True, False, True, False, True]\n",
    "\n",
    "sample_data['in_stock'] = in_stock"
   ]
  },
  {
   "cell_type": "markdown",
   "metadata": {},
   "source": [
    "What if all rows in our new column have the same value? We can do this simply declaring a single value as a column."
   ]
  },
  {
   "cell_type": "code",
   "execution_count": 14,
   "metadata": {},
   "outputs": [],
   "source": [
    "sample_data['available_in_canada'] = True "
   ]
  },
  {
   "cell_type": "markdown",
   "metadata": {},
   "source": [
    "Let's take a look at our new columns. Scroll right."
   ]
  },
  {
   "cell_type": "code",
   "execution_count": 15,
   "metadata": {},
   "outputs": [
    {
     "data": {
      "text/html": [
       "<div>\n",
       "<style scoped>\n",
       "    .dataframe tbody tr th:only-of-type {\n",
       "        vertical-align: middle;\n",
       "    }\n",
       "\n",
       "    .dataframe tbody tr th {\n",
       "        vertical-align: top;\n",
       "    }\n",
       "\n",
       "    .dataframe thead th {\n",
       "        text-align: right;\n",
       "    }\n",
       "</style>\n",
       "<table border=\"1\" class=\"dataframe\">\n",
       "  <thead>\n",
       "    <tr style=\"text-align: right;\">\n",
       "      <th></th>\n",
       "      <th>beverage</th>\n",
       "      <th>beverage_category</th>\n",
       "      <th>drink_size</th>\n",
       "      <th>milk_type</th>\n",
       "      <th>calories</th>\n",
       "      <th>caffeine_in_mg</th>\n",
       "      <th>carbs_in_g</th>\n",
       "      <th>sugars_in_g</th>\n",
       "      <th>protein_in_g</th>\n",
       "      <th>fat_in_g</th>\n",
       "      <th>...</th>\n",
       "      <th>cholesterol_in_mg</th>\n",
       "      <th>saturated_fat_in_g</th>\n",
       "      <th>sodium_in_mg</th>\n",
       "      <th>trans_fat_in_g</th>\n",
       "      <th>vit_a_dv</th>\n",
       "      <th>vit_c_dv</th>\n",
       "      <th>iron_dv</th>\n",
       "      <th>calcium_dv</th>\n",
       "      <th>in_stock</th>\n",
       "      <th>available_in_canada</th>\n",
       "    </tr>\n",
       "  </thead>\n",
       "  <tbody>\n",
       "    <tr>\n",
       "      <th>0</th>\n",
       "      <td>Brewed Coffee</td>\n",
       "      <td>Coffee</td>\n",
       "      <td>Short</td>\n",
       "      <td>NaN</td>\n",
       "      <td>3</td>\n",
       "      <td>175</td>\n",
       "      <td>5</td>\n",
       "      <td>0</td>\n",
       "      <td>0.3</td>\n",
       "      <td>0.1</td>\n",
       "      <td>...</td>\n",
       "      <td>0</td>\n",
       "      <td>0.0</td>\n",
       "      <td>0</td>\n",
       "      <td>0.0</td>\n",
       "      <td>0%</td>\n",
       "      <td>0%</td>\n",
       "      <td>0%</td>\n",
       "      <td>0%</td>\n",
       "      <td>True</td>\n",
       "      <td>True</td>\n",
       "    </tr>\n",
       "    <tr>\n",
       "      <th>1</th>\n",
       "      <td>Brewed Coffee</td>\n",
       "      <td>Coffee</td>\n",
       "      <td>Tall</td>\n",
       "      <td>NaN</td>\n",
       "      <td>4</td>\n",
       "      <td>260</td>\n",
       "      <td>10</td>\n",
       "      <td>0</td>\n",
       "      <td>0.5</td>\n",
       "      <td>0.1</td>\n",
       "      <td>...</td>\n",
       "      <td>0</td>\n",
       "      <td>0.0</td>\n",
       "      <td>0</td>\n",
       "      <td>0.0</td>\n",
       "      <td>0%</td>\n",
       "      <td>0%</td>\n",
       "      <td>0%</td>\n",
       "      <td>0%</td>\n",
       "      <td>False</td>\n",
       "      <td>True</td>\n",
       "    </tr>\n",
       "    <tr>\n",
       "      <th>2</th>\n",
       "      <td>Brewed Coffee</td>\n",
       "      <td>Coffee</td>\n",
       "      <td>Grande</td>\n",
       "      <td>NaN</td>\n",
       "      <td>5</td>\n",
       "      <td>330</td>\n",
       "      <td>10</td>\n",
       "      <td>0</td>\n",
       "      <td>1.0</td>\n",
       "      <td>0.1</td>\n",
       "      <td>...</td>\n",
       "      <td>0</td>\n",
       "      <td>0.0</td>\n",
       "      <td>0</td>\n",
       "      <td>0.0</td>\n",
       "      <td>0%</td>\n",
       "      <td>0%</td>\n",
       "      <td>0%</td>\n",
       "      <td>0%</td>\n",
       "      <td>True</td>\n",
       "      <td>True</td>\n",
       "    </tr>\n",
       "    <tr>\n",
       "      <th>3</th>\n",
       "      <td>Brewed Coffee</td>\n",
       "      <td>Coffee</td>\n",
       "      <td>Venti</td>\n",
       "      <td>NaN</td>\n",
       "      <td>5</td>\n",
       "      <td>410</td>\n",
       "      <td>10</td>\n",
       "      <td>0</td>\n",
       "      <td>1.0</td>\n",
       "      <td>0.1</td>\n",
       "      <td>...</td>\n",
       "      <td>0</td>\n",
       "      <td>0.0</td>\n",
       "      <td>0</td>\n",
       "      <td>0.0</td>\n",
       "      <td>0%</td>\n",
       "      <td>0%</td>\n",
       "      <td>0%</td>\n",
       "      <td>2%</td>\n",
       "      <td>False</td>\n",
       "      <td>True</td>\n",
       "    </tr>\n",
       "    <tr>\n",
       "      <th>4</th>\n",
       "      <td>Caffè Americano</td>\n",
       "      <td>Classic Espresso Drinks</td>\n",
       "      <td>Short</td>\n",
       "      <td>NaN</td>\n",
       "      <td>5</td>\n",
       "      <td>75</td>\n",
       "      <td>5</td>\n",
       "      <td>0</td>\n",
       "      <td>0.4</td>\n",
       "      <td>0.0</td>\n",
       "      <td>...</td>\n",
       "      <td>1</td>\n",
       "      <td>0.0</td>\n",
       "      <td>0</td>\n",
       "      <td>0.0</td>\n",
       "      <td>0%</td>\n",
       "      <td>0%</td>\n",
       "      <td>0%</td>\n",
       "      <td>0%</td>\n",
       "      <td>True</td>\n",
       "      <td>True</td>\n",
       "    </tr>\n",
       "  </tbody>\n",
       "</table>\n",
       "<p>5 rows × 21 columns</p>\n",
       "</div>"
      ],
      "text/plain": [
       "          beverage        beverage_category drink_size milk_type  calories  \\\n",
       "0    Brewed Coffee                   Coffee      Short       NaN         3   \n",
       "1    Brewed Coffee                   Coffee       Tall       NaN         4   \n",
       "2    Brewed Coffee                   Coffee     Grande       NaN         5   \n",
       "3    Brewed Coffee                   Coffee      Venti       NaN         5   \n",
       "4  Caffè Americano  Classic Espresso Drinks      Short       NaN         5   \n",
       "\n",
       "  caffeine_in_mg  carbs_in_g  sugars_in_g  protein_in_g  fat_in_g  \\\n",
       "0            175           5            0           0.3       0.1   \n",
       "1            260          10            0           0.5       0.1   \n",
       "2            330          10            0           1.0       0.1   \n",
       "3            410          10            0           1.0       0.1   \n",
       "4             75           5            0           0.4       0.0   \n",
       "\n",
       "          ...           cholesterol_in_mg  saturated_fat_in_g  sodium_in_mg  \\\n",
       "0         ...                           0                 0.0             0   \n",
       "1         ...                           0                 0.0             0   \n",
       "2         ...                           0                 0.0             0   \n",
       "3         ...                           0                 0.0             0   \n",
       "4         ...                           1                 0.0             0   \n",
       "\n",
       "   trans_fat_in_g  vit_a_dv vit_c_dv iron_dv calcium_dv in_stock  \\\n",
       "0             0.0        0%       0%      0%         0%     True   \n",
       "1             0.0        0%       0%      0%         0%    False   \n",
       "2             0.0        0%       0%      0%         0%     True   \n",
       "3             0.0        0%       0%      0%         2%    False   \n",
       "4             0.0        0%       0%      0%         0%     True   \n",
       "\n",
       "   available_in_canada  \n",
       "0                 True  \n",
       "1                 True  \n",
       "2                 True  \n",
       "3                 True  \n",
       "4                 True  \n",
       "\n",
       "[5 rows x 21 columns]"
      ]
     },
     "execution_count": 15,
     "metadata": {},
     "output_type": "execute_result"
    }
   ],
   "source": [
    "sample_data"
   ]
  },
  {
   "cell_type": "markdown",
   "metadata": {},
   "source": [
    "### Removing Columns from a Pandas DataFrame\n",
    "\n",
    "To remove a column from our dataframe, we can use the [drop()](https://pandas.pydata.org/pandas-docs/stable/reference/api/pandas.DataFrame.drop.html) method. Inside `drop()`, we can specify either a single column or a list of columns that we want to remove. Let's try removing `beverage`, `beverage_category`, and `drink_size`. "
   ]
  },
  {
   "cell_type": "code",
   "execution_count": 16,
   "metadata": {},
   "outputs": [
    {
     "data": {
      "text/html": [
       "<div>\n",
       "<style scoped>\n",
       "    .dataframe tbody tr th:only-of-type {\n",
       "        vertical-align: middle;\n",
       "    }\n",
       "\n",
       "    .dataframe tbody tr th {\n",
       "        vertical-align: top;\n",
       "    }\n",
       "\n",
       "    .dataframe thead th {\n",
       "        text-align: right;\n",
       "    }\n",
       "</style>\n",
       "<table border=\"1\" class=\"dataframe\">\n",
       "  <thead>\n",
       "    <tr style=\"text-align: right;\">\n",
       "      <th></th>\n",
       "      <th>milk_type</th>\n",
       "      <th>calories</th>\n",
       "      <th>caffeine_in_mg</th>\n",
       "      <th>carbs_in_g</th>\n",
       "      <th>sugars_in_g</th>\n",
       "      <th>protein_in_g</th>\n",
       "      <th>fat_in_g</th>\n",
       "      <th>fibre_in_g</th>\n",
       "      <th>cholesterol_in_mg</th>\n",
       "      <th>saturated_fat_in_g</th>\n",
       "      <th>sodium_in_mg</th>\n",
       "      <th>trans_fat_in_g</th>\n",
       "      <th>vit_a_dv</th>\n",
       "      <th>vit_c_dv</th>\n",
       "      <th>iron_dv</th>\n",
       "      <th>calcium_dv</th>\n",
       "      <th>in_stock</th>\n",
       "      <th>available_in_canada</th>\n",
       "    </tr>\n",
       "  </thead>\n",
       "  <tbody>\n",
       "    <tr>\n",
       "      <th>0</th>\n",
       "      <td>NaN</td>\n",
       "      <td>3</td>\n",
       "      <td>175</td>\n",
       "      <td>5</td>\n",
       "      <td>0</td>\n",
       "      <td>0.3</td>\n",
       "      <td>0.1</td>\n",
       "      <td>0</td>\n",
       "      <td>0</td>\n",
       "      <td>0.0</td>\n",
       "      <td>0</td>\n",
       "      <td>0.0</td>\n",
       "      <td>0%</td>\n",
       "      <td>0%</td>\n",
       "      <td>0%</td>\n",
       "      <td>0%</td>\n",
       "      <td>True</td>\n",
       "      <td>True</td>\n",
       "    </tr>\n",
       "    <tr>\n",
       "      <th>1</th>\n",
       "      <td>NaN</td>\n",
       "      <td>4</td>\n",
       "      <td>260</td>\n",
       "      <td>10</td>\n",
       "      <td>0</td>\n",
       "      <td>0.5</td>\n",
       "      <td>0.1</td>\n",
       "      <td>0</td>\n",
       "      <td>0</td>\n",
       "      <td>0.0</td>\n",
       "      <td>0</td>\n",
       "      <td>0.0</td>\n",
       "      <td>0%</td>\n",
       "      <td>0%</td>\n",
       "      <td>0%</td>\n",
       "      <td>0%</td>\n",
       "      <td>False</td>\n",
       "      <td>True</td>\n",
       "    </tr>\n",
       "    <tr>\n",
       "      <th>2</th>\n",
       "      <td>NaN</td>\n",
       "      <td>5</td>\n",
       "      <td>330</td>\n",
       "      <td>10</td>\n",
       "      <td>0</td>\n",
       "      <td>1.0</td>\n",
       "      <td>0.1</td>\n",
       "      <td>0</td>\n",
       "      <td>0</td>\n",
       "      <td>0.0</td>\n",
       "      <td>0</td>\n",
       "      <td>0.0</td>\n",
       "      <td>0%</td>\n",
       "      <td>0%</td>\n",
       "      <td>0%</td>\n",
       "      <td>0%</td>\n",
       "      <td>True</td>\n",
       "      <td>True</td>\n",
       "    </tr>\n",
       "    <tr>\n",
       "      <th>3</th>\n",
       "      <td>NaN</td>\n",
       "      <td>5</td>\n",
       "      <td>410</td>\n",
       "      <td>10</td>\n",
       "      <td>0</td>\n",
       "      <td>1.0</td>\n",
       "      <td>0.1</td>\n",
       "      <td>0</td>\n",
       "      <td>0</td>\n",
       "      <td>0.0</td>\n",
       "      <td>0</td>\n",
       "      <td>0.0</td>\n",
       "      <td>0%</td>\n",
       "      <td>0%</td>\n",
       "      <td>0%</td>\n",
       "      <td>2%</td>\n",
       "      <td>False</td>\n",
       "      <td>True</td>\n",
       "    </tr>\n",
       "    <tr>\n",
       "      <th>4</th>\n",
       "      <td>NaN</td>\n",
       "      <td>5</td>\n",
       "      <td>75</td>\n",
       "      <td>5</td>\n",
       "      <td>0</td>\n",
       "      <td>0.4</td>\n",
       "      <td>0.0</td>\n",
       "      <td>0</td>\n",
       "      <td>1</td>\n",
       "      <td>0.0</td>\n",
       "      <td>0</td>\n",
       "      <td>0.0</td>\n",
       "      <td>0%</td>\n",
       "      <td>0%</td>\n",
       "      <td>0%</td>\n",
       "      <td>0%</td>\n",
       "      <td>True</td>\n",
       "      <td>True</td>\n",
       "    </tr>\n",
       "  </tbody>\n",
       "</table>\n",
       "</div>"
      ],
      "text/plain": [
       "  milk_type  calories caffeine_in_mg  carbs_in_g  sugars_in_g  protein_in_g  \\\n",
       "0       NaN         3            175           5            0           0.3   \n",
       "1       NaN         4            260          10            0           0.5   \n",
       "2       NaN         5            330          10            0           1.0   \n",
       "3       NaN         5            410          10            0           1.0   \n",
       "4       NaN         5             75           5            0           0.4   \n",
       "\n",
       "   fat_in_g  fibre_in_g  cholesterol_in_mg  saturated_fat_in_g  sodium_in_mg  \\\n",
       "0       0.1           0                  0                 0.0             0   \n",
       "1       0.1           0                  0                 0.0             0   \n",
       "2       0.1           0                  0                 0.0             0   \n",
       "3       0.1           0                  0                 0.0             0   \n",
       "4       0.0           0                  1                 0.0             0   \n",
       "\n",
       "   trans_fat_in_g vit_a_dv vit_c_dv iron_dv calcium_dv  in_stock  \\\n",
       "0             0.0       0%       0%      0%         0%      True   \n",
       "1             0.0       0%       0%      0%         0%     False   \n",
       "2             0.0       0%       0%      0%         0%      True   \n",
       "3             0.0       0%       0%      0%         2%     False   \n",
       "4             0.0       0%       0%      0%         0%      True   \n",
       "\n",
       "   available_in_canada  \n",
       "0                 True  \n",
       "1                 True  \n",
       "2                 True  \n",
       "3                 True  \n",
       "4                 True  "
      ]
     },
     "execution_count": 16,
     "metadata": {},
     "output_type": "execute_result"
    }
   ],
   "source": [
    "sample_data.drop(columns=['beverage', 'beverage_category', 'drink_size'])"
   ]
  },
  {
   "cell_type": "markdown",
   "metadata": {},
   "source": [
    "To save this trimmed down dataframe, we would need to assign it a variable name. Alternatively, we can set the parameter `inplace=True` inside `drop()` which will permanently alter the columns of our `sample_data` dataframe."
   ]
  },
  {
   "cell_type": "markdown",
   "metadata": {},
   "source": [
    "### Removing Duplicates from a Pandas DataFrame\n",
    "\n",
    "Let's take a look at the `beverage` column. We can see that there are quite a few duplicates of \"Brewed Coffee\". Let's say we wanted to have just one entry for this beverage type. We can drop all duplicates using the [drop_duplicates()](https://pandas.pydata.org/pandas-docs/stable/reference/api/pandas.DataFrame.drop_duplicates.html) method. \n",
    "\n",
    "If we apply drop_duplicates() without specifying any parameters, it will return the same dataframe. "
   ]
  },
  {
   "cell_type": "code",
   "execution_count": 17,
   "metadata": {},
   "outputs": [
    {
     "data": {
      "text/html": [
       "<div>\n",
       "<style scoped>\n",
       "    .dataframe tbody tr th:only-of-type {\n",
       "        vertical-align: middle;\n",
       "    }\n",
       "\n",
       "    .dataframe tbody tr th {\n",
       "        vertical-align: top;\n",
       "    }\n",
       "\n",
       "    .dataframe thead th {\n",
       "        text-align: right;\n",
       "    }\n",
       "</style>\n",
       "<table border=\"1\" class=\"dataframe\">\n",
       "  <thead>\n",
       "    <tr style=\"text-align: right;\">\n",
       "      <th></th>\n",
       "      <th>beverage</th>\n",
       "      <th>beverage_category</th>\n",
       "      <th>drink_size</th>\n",
       "      <th>milk_type</th>\n",
       "      <th>calories</th>\n",
       "      <th>caffeine_in_mg</th>\n",
       "      <th>carbs_in_g</th>\n",
       "      <th>sugars_in_g</th>\n",
       "      <th>protein_in_g</th>\n",
       "      <th>fat_in_g</th>\n",
       "      <th>...</th>\n",
       "      <th>cholesterol_in_mg</th>\n",
       "      <th>saturated_fat_in_g</th>\n",
       "      <th>sodium_in_mg</th>\n",
       "      <th>trans_fat_in_g</th>\n",
       "      <th>vit_a_dv</th>\n",
       "      <th>vit_c_dv</th>\n",
       "      <th>iron_dv</th>\n",
       "      <th>calcium_dv</th>\n",
       "      <th>in_stock</th>\n",
       "      <th>available_in_canada</th>\n",
       "    </tr>\n",
       "  </thead>\n",
       "  <tbody>\n",
       "    <tr>\n",
       "      <th>0</th>\n",
       "      <td>Brewed Coffee</td>\n",
       "      <td>Coffee</td>\n",
       "      <td>Short</td>\n",
       "      <td>NaN</td>\n",
       "      <td>3</td>\n",
       "      <td>175</td>\n",
       "      <td>5</td>\n",
       "      <td>0</td>\n",
       "      <td>0.3</td>\n",
       "      <td>0.1</td>\n",
       "      <td>...</td>\n",
       "      <td>0</td>\n",
       "      <td>0.0</td>\n",
       "      <td>0</td>\n",
       "      <td>0.0</td>\n",
       "      <td>0%</td>\n",
       "      <td>0%</td>\n",
       "      <td>0%</td>\n",
       "      <td>0%</td>\n",
       "      <td>True</td>\n",
       "      <td>True</td>\n",
       "    </tr>\n",
       "    <tr>\n",
       "      <th>1</th>\n",
       "      <td>Brewed Coffee</td>\n",
       "      <td>Coffee</td>\n",
       "      <td>Tall</td>\n",
       "      <td>NaN</td>\n",
       "      <td>4</td>\n",
       "      <td>260</td>\n",
       "      <td>10</td>\n",
       "      <td>0</td>\n",
       "      <td>0.5</td>\n",
       "      <td>0.1</td>\n",
       "      <td>...</td>\n",
       "      <td>0</td>\n",
       "      <td>0.0</td>\n",
       "      <td>0</td>\n",
       "      <td>0.0</td>\n",
       "      <td>0%</td>\n",
       "      <td>0%</td>\n",
       "      <td>0%</td>\n",
       "      <td>0%</td>\n",
       "      <td>False</td>\n",
       "      <td>True</td>\n",
       "    </tr>\n",
       "    <tr>\n",
       "      <th>2</th>\n",
       "      <td>Brewed Coffee</td>\n",
       "      <td>Coffee</td>\n",
       "      <td>Grande</td>\n",
       "      <td>NaN</td>\n",
       "      <td>5</td>\n",
       "      <td>330</td>\n",
       "      <td>10</td>\n",
       "      <td>0</td>\n",
       "      <td>1.0</td>\n",
       "      <td>0.1</td>\n",
       "      <td>...</td>\n",
       "      <td>0</td>\n",
       "      <td>0.0</td>\n",
       "      <td>0</td>\n",
       "      <td>0.0</td>\n",
       "      <td>0%</td>\n",
       "      <td>0%</td>\n",
       "      <td>0%</td>\n",
       "      <td>0%</td>\n",
       "      <td>True</td>\n",
       "      <td>True</td>\n",
       "    </tr>\n",
       "    <tr>\n",
       "      <th>3</th>\n",
       "      <td>Brewed Coffee</td>\n",
       "      <td>Coffee</td>\n",
       "      <td>Venti</td>\n",
       "      <td>NaN</td>\n",
       "      <td>5</td>\n",
       "      <td>410</td>\n",
       "      <td>10</td>\n",
       "      <td>0</td>\n",
       "      <td>1.0</td>\n",
       "      <td>0.1</td>\n",
       "      <td>...</td>\n",
       "      <td>0</td>\n",
       "      <td>0.0</td>\n",
       "      <td>0</td>\n",
       "      <td>0.0</td>\n",
       "      <td>0%</td>\n",
       "      <td>0%</td>\n",
       "      <td>0%</td>\n",
       "      <td>2%</td>\n",
       "      <td>False</td>\n",
       "      <td>True</td>\n",
       "    </tr>\n",
       "    <tr>\n",
       "      <th>4</th>\n",
       "      <td>Caffè Americano</td>\n",
       "      <td>Classic Espresso Drinks</td>\n",
       "      <td>Short</td>\n",
       "      <td>NaN</td>\n",
       "      <td>5</td>\n",
       "      <td>75</td>\n",
       "      <td>5</td>\n",
       "      <td>0</td>\n",
       "      <td>0.4</td>\n",
       "      <td>0.0</td>\n",
       "      <td>...</td>\n",
       "      <td>1</td>\n",
       "      <td>0.0</td>\n",
       "      <td>0</td>\n",
       "      <td>0.0</td>\n",
       "      <td>0%</td>\n",
       "      <td>0%</td>\n",
       "      <td>0%</td>\n",
       "      <td>0%</td>\n",
       "      <td>True</td>\n",
       "      <td>True</td>\n",
       "    </tr>\n",
       "  </tbody>\n",
       "</table>\n",
       "<p>5 rows × 21 columns</p>\n",
       "</div>"
      ],
      "text/plain": [
       "          beverage        beverage_category drink_size milk_type  calories  \\\n",
       "0    Brewed Coffee                   Coffee      Short       NaN         3   \n",
       "1    Brewed Coffee                   Coffee       Tall       NaN         4   \n",
       "2    Brewed Coffee                   Coffee     Grande       NaN         5   \n",
       "3    Brewed Coffee                   Coffee      Venti       NaN         5   \n",
       "4  Caffè Americano  Classic Espresso Drinks      Short       NaN         5   \n",
       "\n",
       "  caffeine_in_mg  carbs_in_g  sugars_in_g  protein_in_g  fat_in_g  \\\n",
       "0            175           5            0           0.3       0.1   \n",
       "1            260          10            0           0.5       0.1   \n",
       "2            330          10            0           1.0       0.1   \n",
       "3            410          10            0           1.0       0.1   \n",
       "4             75           5            0           0.4       0.0   \n",
       "\n",
       "          ...           cholesterol_in_mg  saturated_fat_in_g  sodium_in_mg  \\\n",
       "0         ...                           0                 0.0             0   \n",
       "1         ...                           0                 0.0             0   \n",
       "2         ...                           0                 0.0             0   \n",
       "3         ...                           0                 0.0             0   \n",
       "4         ...                           1                 0.0             0   \n",
       "\n",
       "   trans_fat_in_g  vit_a_dv vit_c_dv iron_dv calcium_dv in_stock  \\\n",
       "0             0.0        0%       0%      0%         0%     True   \n",
       "1             0.0        0%       0%      0%         0%    False   \n",
       "2             0.0        0%       0%      0%         0%     True   \n",
       "3             0.0        0%       0%      0%         2%    False   \n",
       "4             0.0        0%       0%      0%         0%     True   \n",
       "\n",
       "   available_in_canada  \n",
       "0                 True  \n",
       "1                 True  \n",
       "2                 True  \n",
       "3                 True  \n",
       "4                 True  \n",
       "\n",
       "[5 rows x 21 columns]"
      ]
     },
     "execution_count": 17,
     "metadata": {},
     "output_type": "execute_result"
    }
   ],
   "source": [
    "sample_data.drop_duplicates()"
   ]
  },
  {
   "cell_type": "markdown",
   "metadata": {},
   "source": [
    "This is because there are no two rows that are exactly identical across all columns. However, if we specify the subset of columns, it will drop the rows that contain duplicates within that column or list of columns. When we define the subset to be [`beverage`,`beverage_category`], it will remove all duplicate rows containing the same combination of `beverage` and `beverage_category`. You can decide which rows to drop using the `keep` parameter. By default, `keep` is set to 'first' which means that the first row is considered to be unique while the rest of the same value are duplicates. \n",
    "\n",
    "In the example below, we keep the first row containing \"Brewed Coffee\" and \"Coffee\", while all subsequent rows get dropped. "
   ]
  },
  {
   "cell_type": "code",
   "execution_count": 18,
   "metadata": {},
   "outputs": [
    {
     "data": {
      "text/html": [
       "<div>\n",
       "<style scoped>\n",
       "    .dataframe tbody tr th:only-of-type {\n",
       "        vertical-align: middle;\n",
       "    }\n",
       "\n",
       "    .dataframe tbody tr th {\n",
       "        vertical-align: top;\n",
       "    }\n",
       "\n",
       "    .dataframe thead th {\n",
       "        text-align: right;\n",
       "    }\n",
       "</style>\n",
       "<table border=\"1\" class=\"dataframe\">\n",
       "  <thead>\n",
       "    <tr style=\"text-align: right;\">\n",
       "      <th></th>\n",
       "      <th>beverage</th>\n",
       "      <th>beverage_category</th>\n",
       "      <th>drink_size</th>\n",
       "      <th>milk_type</th>\n",
       "      <th>calories</th>\n",
       "      <th>caffeine_in_mg</th>\n",
       "      <th>carbs_in_g</th>\n",
       "      <th>sugars_in_g</th>\n",
       "      <th>protein_in_g</th>\n",
       "      <th>fat_in_g</th>\n",
       "      <th>...</th>\n",
       "      <th>cholesterol_in_mg</th>\n",
       "      <th>saturated_fat_in_g</th>\n",
       "      <th>sodium_in_mg</th>\n",
       "      <th>trans_fat_in_g</th>\n",
       "      <th>vit_a_dv</th>\n",
       "      <th>vit_c_dv</th>\n",
       "      <th>iron_dv</th>\n",
       "      <th>calcium_dv</th>\n",
       "      <th>in_stock</th>\n",
       "      <th>available_in_canada</th>\n",
       "    </tr>\n",
       "  </thead>\n",
       "  <tbody>\n",
       "    <tr>\n",
       "      <th>0</th>\n",
       "      <td>Brewed Coffee</td>\n",
       "      <td>Coffee</td>\n",
       "      <td>Short</td>\n",
       "      <td>NaN</td>\n",
       "      <td>3</td>\n",
       "      <td>175</td>\n",
       "      <td>5</td>\n",
       "      <td>0</td>\n",
       "      <td>0.3</td>\n",
       "      <td>0.1</td>\n",
       "      <td>...</td>\n",
       "      <td>0</td>\n",
       "      <td>0.0</td>\n",
       "      <td>0</td>\n",
       "      <td>0.0</td>\n",
       "      <td>0%</td>\n",
       "      <td>0%</td>\n",
       "      <td>0%</td>\n",
       "      <td>0%</td>\n",
       "      <td>True</td>\n",
       "      <td>True</td>\n",
       "    </tr>\n",
       "    <tr>\n",
       "      <th>4</th>\n",
       "      <td>Caffè Americano</td>\n",
       "      <td>Classic Espresso Drinks</td>\n",
       "      <td>Short</td>\n",
       "      <td>NaN</td>\n",
       "      <td>5</td>\n",
       "      <td>75</td>\n",
       "      <td>5</td>\n",
       "      <td>0</td>\n",
       "      <td>0.4</td>\n",
       "      <td>0.0</td>\n",
       "      <td>...</td>\n",
       "      <td>1</td>\n",
       "      <td>0.0</td>\n",
       "      <td>0</td>\n",
       "      <td>0.0</td>\n",
       "      <td>0%</td>\n",
       "      <td>0%</td>\n",
       "      <td>0%</td>\n",
       "      <td>0%</td>\n",
       "      <td>True</td>\n",
       "      <td>True</td>\n",
       "    </tr>\n",
       "  </tbody>\n",
       "</table>\n",
       "<p>2 rows × 21 columns</p>\n",
       "</div>"
      ],
      "text/plain": [
       "          beverage        beverage_category drink_size milk_type  calories  \\\n",
       "0    Brewed Coffee                   Coffee      Short       NaN         3   \n",
       "4  Caffè Americano  Classic Espresso Drinks      Short       NaN         5   \n",
       "\n",
       "  caffeine_in_mg  carbs_in_g  sugars_in_g  protein_in_g  fat_in_g  \\\n",
       "0            175           5            0           0.3       0.1   \n",
       "4             75           5            0           0.4       0.0   \n",
       "\n",
       "          ...           cholesterol_in_mg  saturated_fat_in_g  sodium_in_mg  \\\n",
       "0         ...                           0                 0.0             0   \n",
       "4         ...                           1                 0.0             0   \n",
       "\n",
       "   trans_fat_in_g  vit_a_dv vit_c_dv iron_dv calcium_dv in_stock  \\\n",
       "0             0.0        0%       0%      0%         0%     True   \n",
       "4             0.0        0%       0%      0%         0%     True   \n",
       "\n",
       "   available_in_canada  \n",
       "0                 True  \n",
       "4                 True  \n",
       "\n",
       "[2 rows x 21 columns]"
      ]
     },
     "execution_count": 18,
     "metadata": {},
     "output_type": "execute_result"
    }
   ],
   "source": [
    "sample_data.drop_duplicates(subset=['beverage', 'beverage_category'])"
   ]
  },
  {
   "cell_type": "markdown",
   "metadata": {},
   "source": [
    "In the example below, we set `keep` to be 'last' so we keep the last row containing \"Brewed Coffee\" and \"Coffee\" while all preceding rows get dropped."
   ]
  },
  {
   "cell_type": "code",
   "execution_count": 19,
   "metadata": {},
   "outputs": [
    {
     "data": {
      "text/html": [
       "<div>\n",
       "<style scoped>\n",
       "    .dataframe tbody tr th:only-of-type {\n",
       "        vertical-align: middle;\n",
       "    }\n",
       "\n",
       "    .dataframe tbody tr th {\n",
       "        vertical-align: top;\n",
       "    }\n",
       "\n",
       "    .dataframe thead th {\n",
       "        text-align: right;\n",
       "    }\n",
       "</style>\n",
       "<table border=\"1\" class=\"dataframe\">\n",
       "  <thead>\n",
       "    <tr style=\"text-align: right;\">\n",
       "      <th></th>\n",
       "      <th>beverage</th>\n",
       "      <th>beverage_category</th>\n",
       "      <th>drink_size</th>\n",
       "      <th>milk_type</th>\n",
       "      <th>calories</th>\n",
       "      <th>caffeine_in_mg</th>\n",
       "      <th>carbs_in_g</th>\n",
       "      <th>sugars_in_g</th>\n",
       "      <th>protein_in_g</th>\n",
       "      <th>fat_in_g</th>\n",
       "      <th>...</th>\n",
       "      <th>cholesterol_in_mg</th>\n",
       "      <th>saturated_fat_in_g</th>\n",
       "      <th>sodium_in_mg</th>\n",
       "      <th>trans_fat_in_g</th>\n",
       "      <th>vit_a_dv</th>\n",
       "      <th>vit_c_dv</th>\n",
       "      <th>iron_dv</th>\n",
       "      <th>calcium_dv</th>\n",
       "      <th>in_stock</th>\n",
       "      <th>available_in_canada</th>\n",
       "    </tr>\n",
       "  </thead>\n",
       "  <tbody>\n",
       "    <tr>\n",
       "      <th>3</th>\n",
       "      <td>Brewed Coffee</td>\n",
       "      <td>Coffee</td>\n",
       "      <td>Venti</td>\n",
       "      <td>NaN</td>\n",
       "      <td>5</td>\n",
       "      <td>410</td>\n",
       "      <td>10</td>\n",
       "      <td>0</td>\n",
       "      <td>1.0</td>\n",
       "      <td>0.1</td>\n",
       "      <td>...</td>\n",
       "      <td>0</td>\n",
       "      <td>0.0</td>\n",
       "      <td>0</td>\n",
       "      <td>0.0</td>\n",
       "      <td>0%</td>\n",
       "      <td>0%</td>\n",
       "      <td>0%</td>\n",
       "      <td>2%</td>\n",
       "      <td>False</td>\n",
       "      <td>True</td>\n",
       "    </tr>\n",
       "    <tr>\n",
       "      <th>4</th>\n",
       "      <td>Caffè Americano</td>\n",
       "      <td>Classic Espresso Drinks</td>\n",
       "      <td>Short</td>\n",
       "      <td>NaN</td>\n",
       "      <td>5</td>\n",
       "      <td>75</td>\n",
       "      <td>5</td>\n",
       "      <td>0</td>\n",
       "      <td>0.4</td>\n",
       "      <td>0.0</td>\n",
       "      <td>...</td>\n",
       "      <td>1</td>\n",
       "      <td>0.0</td>\n",
       "      <td>0</td>\n",
       "      <td>0.0</td>\n",
       "      <td>0%</td>\n",
       "      <td>0%</td>\n",
       "      <td>0%</td>\n",
       "      <td>0%</td>\n",
       "      <td>True</td>\n",
       "      <td>True</td>\n",
       "    </tr>\n",
       "  </tbody>\n",
       "</table>\n",
       "<p>2 rows × 21 columns</p>\n",
       "</div>"
      ],
      "text/plain": [
       "          beverage        beverage_category drink_size milk_type  calories  \\\n",
       "3    Brewed Coffee                   Coffee      Venti       NaN         5   \n",
       "4  Caffè Americano  Classic Espresso Drinks      Short       NaN         5   \n",
       "\n",
       "  caffeine_in_mg  carbs_in_g  sugars_in_g  protein_in_g  fat_in_g  \\\n",
       "3            410          10            0           1.0       0.1   \n",
       "4             75           5            0           0.4       0.0   \n",
       "\n",
       "          ...           cholesterol_in_mg  saturated_fat_in_g  sodium_in_mg  \\\n",
       "3         ...                           0                 0.0             0   \n",
       "4         ...                           1                 0.0             0   \n",
       "\n",
       "   trans_fat_in_g  vit_a_dv vit_c_dv iron_dv calcium_dv in_stock  \\\n",
       "3             0.0        0%       0%      0%         2%    False   \n",
       "4             0.0        0%       0%      0%         0%     True   \n",
       "\n",
       "   available_in_canada  \n",
       "3                 True  \n",
       "4                 True  \n",
       "\n",
       "[2 rows x 21 columns]"
      ]
     },
     "execution_count": 19,
     "metadata": {},
     "output_type": "execute_result"
    }
   ],
   "source": [
    "sample_data.drop_duplicates(subset=['beverage', 'beverage_category'], keep=\"last\")"
   ]
  },
  {
   "cell_type": "markdown",
   "metadata": {},
   "source": [
    "### Subsetting a Dataframe\n",
    "\n",
    "We can use [boolean indexing](https://www.dunderdata.com/blog/selecting-subsets-of-data-in-pandas-part-2) to filter entries of a dataframe based on conditions from a set of columns. Let's say we want to see which beverages have more than 450 calories. We can create a boolean condition:\n",
    "\n",
    "```\n",
    "starbucks_drink['calories'] > 450\n",
    "```\n",
    "\n",
    "which will return True for beverages that contain more than 450 calories and False for those that contain 450 calories or less. If we pass this condition inside the dataframe, it will return only the rows that meet this condition (i.e., return True). Let's try it out:"
   ]
  },
  {
   "cell_type": "code",
   "execution_count": 20,
   "metadata": {},
   "outputs": [
    {
     "data": {
      "text/html": [
       "<div>\n",
       "<style scoped>\n",
       "    .dataframe tbody tr th:only-of-type {\n",
       "        vertical-align: middle;\n",
       "    }\n",
       "\n",
       "    .dataframe tbody tr th {\n",
       "        vertical-align: top;\n",
       "    }\n",
       "\n",
       "    .dataframe thead th {\n",
       "        text-align: right;\n",
       "    }\n",
       "</style>\n",
       "<table border=\"1\" class=\"dataframe\">\n",
       "  <thead>\n",
       "    <tr style=\"text-align: right;\">\n",
       "      <th></th>\n",
       "      <th>beverage</th>\n",
       "      <th>beverage_category</th>\n",
       "      <th>drink_size</th>\n",
       "      <th>milk_type</th>\n",
       "      <th>calories</th>\n",
       "      <th>caffeine_in_mg</th>\n",
       "      <th>carbs_in_g</th>\n",
       "      <th>sugars_in_g</th>\n",
       "      <th>protein_in_g</th>\n",
       "      <th>fat_in_g</th>\n",
       "      <th>fibre_in_g</th>\n",
       "      <th>cholesterol_in_mg</th>\n",
       "      <th>saturated_fat_in_g</th>\n",
       "      <th>sodium_in_mg</th>\n",
       "      <th>trans_fat_in_g</th>\n",
       "      <th>vit_a_dv</th>\n",
       "      <th>vit_c_dv</th>\n",
       "      <th>iron_dv</th>\n",
       "      <th>calcium_dv</th>\n",
       "    </tr>\n",
       "  </thead>\n",
       "  <tbody>\n",
       "    <tr>\n",
       "      <th>138</th>\n",
       "      <td>White Chocolate Mocha (Without Whipped Cream)</td>\n",
       "      <td>Signature Espresso Drinks</td>\n",
       "      <td>venti</td>\n",
       "      <td>2% Milk</td>\n",
       "      <td>510</td>\n",
       "      <td>150</td>\n",
       "      <td>330</td>\n",
       "      <td>74</td>\n",
       "      <td>19.0</td>\n",
       "      <td>15.0</td>\n",
       "      <td>0</td>\n",
       "      <td>77</td>\n",
       "      <td>0.2</td>\n",
       "      <td>35</td>\n",
       "      <td>9.0</td>\n",
       "      <td>20%</td>\n",
       "      <td>4%</td>\n",
       "      <td>2%</td>\n",
       "      <td>60%</td>\n",
       "    </tr>\n",
       "    <tr>\n",
       "      <th>166</th>\n",
       "      <td>Java Chip (Without Whipped Cream)</td>\n",
       "      <td>Frappuccino® Blended Coffee</td>\n",
       "      <td>grande</td>\n",
       "      <td>Whole Milk</td>\n",
       "      <td>460</td>\n",
       "      <td>145</td>\n",
       "      <td>340</td>\n",
       "      <td>84</td>\n",
       "      <td>7.0</td>\n",
       "      <td>10.0</td>\n",
       "      <td>2</td>\n",
       "      <td>90</td>\n",
       "      <td>0.2</td>\n",
       "      <td>15</td>\n",
       "      <td>7.0</td>\n",
       "      <td>6%</td>\n",
       "      <td>0%</td>\n",
       "      <td>35%</td>\n",
       "      <td>15%</td>\n",
       "    </tr>\n",
       "    <tr>\n",
       "      <th>220</th>\n",
       "      <td>White Chocolate Mocha (Without Whipped Cream)</td>\n",
       "      <td>Signature Espresso Drinks</td>\n",
       "      <td>venti</td>\n",
       "      <td>Soymilk</td>\n",
       "      <td>460</td>\n",
       "      <td>150</td>\n",
       "      <td>290</td>\n",
       "      <td>64</td>\n",
       "      <td>16.0</td>\n",
       "      <td>13.0</td>\n",
       "      <td>1</td>\n",
       "      <td>70</td>\n",
       "      <td>0.0</td>\n",
       "      <td>5</td>\n",
       "      <td>6.0</td>\n",
       "      <td>15%</td>\n",
       "      <td>2%</td>\n",
       "      <td>20%</td>\n",
       "      <td>60%</td>\n",
       "    </tr>\n",
       "  </tbody>\n",
       "</table>\n",
       "</div>"
      ],
      "text/plain": [
       "                                          beverage  \\\n",
       "138  White Chocolate Mocha (Without Whipped Cream)   \n",
       "166              Java Chip (Without Whipped Cream)   \n",
       "220  White Chocolate Mocha (Without Whipped Cream)   \n",
       "\n",
       "               beverage_category drink_size   milk_type  calories  \\\n",
       "138    Signature Espresso Drinks      venti     2% Milk       510   \n",
       "166  Frappuccino® Blended Coffee     grande  Whole Milk       460   \n",
       "220    Signature Espresso Drinks      venti     Soymilk       460   \n",
       "\n",
       "    caffeine_in_mg  carbs_in_g  sugars_in_g  protein_in_g  fat_in_g  \\\n",
       "138            150         330           74          19.0      15.0   \n",
       "166            145         340           84           7.0      10.0   \n",
       "220            150         290           64          16.0      13.0   \n",
       "\n",
       "     fibre_in_g  cholesterol_in_mg  saturated_fat_in_g  sodium_in_mg  \\\n",
       "138           0                 77                 0.2            35   \n",
       "166           2                 90                 0.2            15   \n",
       "220           1                 70                 0.0             5   \n",
       "\n",
       "     trans_fat_in_g vit_a_dv vit_c_dv iron_dv calcium_dv  \n",
       "138             9.0      20%       4%      2%        60%  \n",
       "166             7.0       6%       0%     35%        15%  \n",
       "220             6.0      15%       2%     20%        60%  "
      ]
     },
     "execution_count": 20,
     "metadata": {},
     "output_type": "execute_result"
    }
   ],
   "source": [
    "starbucks_drink[starbucks_drink['calories'] > 450]"
   ]
  },
  {
   "cell_type": "markdown",
   "metadata": {},
   "source": [
    "Now, let's say we want to get all beverages that contain more than 450 calories and at least 1g of fiber. Our boolean condition will be:\n",
    "\n",
    "```\n",
    "(starbucks_drink['calories'] > 450) & (starbucks_drink['fiber_in_g'] >= 1)\n",
    "```\n",
    "\n",
    "Let's see what the results are:"
   ]
  },
  {
   "cell_type": "code",
   "execution_count": 21,
   "metadata": {},
   "outputs": [
    {
     "data": {
      "text/html": [
       "<div>\n",
       "<style scoped>\n",
       "    .dataframe tbody tr th:only-of-type {\n",
       "        vertical-align: middle;\n",
       "    }\n",
       "\n",
       "    .dataframe tbody tr th {\n",
       "        vertical-align: top;\n",
       "    }\n",
       "\n",
       "    .dataframe thead th {\n",
       "        text-align: right;\n",
       "    }\n",
       "</style>\n",
       "<table border=\"1\" class=\"dataframe\">\n",
       "  <thead>\n",
       "    <tr style=\"text-align: right;\">\n",
       "      <th></th>\n",
       "      <th>beverage</th>\n",
       "      <th>beverage_category</th>\n",
       "      <th>drink_size</th>\n",
       "      <th>milk_type</th>\n",
       "      <th>calories</th>\n",
       "      <th>caffeine_in_mg</th>\n",
       "      <th>carbs_in_g</th>\n",
       "      <th>sugars_in_g</th>\n",
       "      <th>protein_in_g</th>\n",
       "      <th>fat_in_g</th>\n",
       "      <th>fibre_in_g</th>\n",
       "      <th>cholesterol_in_mg</th>\n",
       "      <th>saturated_fat_in_g</th>\n",
       "      <th>sodium_in_mg</th>\n",
       "      <th>trans_fat_in_g</th>\n",
       "      <th>vit_a_dv</th>\n",
       "      <th>vit_c_dv</th>\n",
       "      <th>iron_dv</th>\n",
       "      <th>calcium_dv</th>\n",
       "    </tr>\n",
       "  </thead>\n",
       "  <tbody>\n",
       "    <tr>\n",
       "      <th>166</th>\n",
       "      <td>Java Chip (Without Whipped Cream)</td>\n",
       "      <td>Frappuccino® Blended Coffee</td>\n",
       "      <td>grande</td>\n",
       "      <td>Whole Milk</td>\n",
       "      <td>460</td>\n",
       "      <td>145</td>\n",
       "      <td>340</td>\n",
       "      <td>84</td>\n",
       "      <td>7.0</td>\n",
       "      <td>10.0</td>\n",
       "      <td>2</td>\n",
       "      <td>90</td>\n",
       "      <td>0.2</td>\n",
       "      <td>15</td>\n",
       "      <td>7.0</td>\n",
       "      <td>6%</td>\n",
       "      <td>0%</td>\n",
       "      <td>35%</td>\n",
       "      <td>15%</td>\n",
       "    </tr>\n",
       "    <tr>\n",
       "      <th>220</th>\n",
       "      <td>White Chocolate Mocha (Without Whipped Cream)</td>\n",
       "      <td>Signature Espresso Drinks</td>\n",
       "      <td>venti</td>\n",
       "      <td>Soymilk</td>\n",
       "      <td>460</td>\n",
       "      <td>150</td>\n",
       "      <td>290</td>\n",
       "      <td>64</td>\n",
       "      <td>16.0</td>\n",
       "      <td>13.0</td>\n",
       "      <td>1</td>\n",
       "      <td>70</td>\n",
       "      <td>0.0</td>\n",
       "      <td>5</td>\n",
       "      <td>6.0</td>\n",
       "      <td>15%</td>\n",
       "      <td>2%</td>\n",
       "      <td>20%</td>\n",
       "      <td>60%</td>\n",
       "    </tr>\n",
       "  </tbody>\n",
       "</table>\n",
       "</div>"
      ],
      "text/plain": [
       "                                          beverage  \\\n",
       "166              Java Chip (Without Whipped Cream)   \n",
       "220  White Chocolate Mocha (Without Whipped Cream)   \n",
       "\n",
       "               beverage_category drink_size   milk_type  calories  \\\n",
       "166  Frappuccino® Blended Coffee     grande  Whole Milk       460   \n",
       "220    Signature Espresso Drinks      venti     Soymilk       460   \n",
       "\n",
       "    caffeine_in_mg  carbs_in_g  sugars_in_g  protein_in_g  fat_in_g  \\\n",
       "166            145         340           84           7.0      10.0   \n",
       "220            150         290           64          16.0      13.0   \n",
       "\n",
       "     fibre_in_g  cholesterol_in_mg  saturated_fat_in_g  sodium_in_mg  \\\n",
       "166           2                 90                 0.2            15   \n",
       "220           1                 70                 0.0             5   \n",
       "\n",
       "     trans_fat_in_g vit_a_dv vit_c_dv iron_dv calcium_dv  \n",
       "166             7.0       6%       0%     35%        15%  \n",
       "220             6.0      15%       2%     20%        60%  "
      ]
     },
     "execution_count": 21,
     "metadata": {},
     "output_type": "execute_result"
    }
   ],
   "source": [
    "starbucks_drink[(starbucks_drink['calories'] > 450)&(starbucks_drink['fibre_in_g'] >= 1)]"
   ]
  },
  {
   "cell_type": "markdown",
   "metadata": {},
   "source": [
    "Great! The resulting dataframe gives us beverages that have more than 450 calories and at least 1g of fiber. "
   ]
  },
  {
   "cell_type": "markdown",
   "metadata": {},
   "source": [
    "### Cleaning a Column\n",
    "\n",
    "Some of our columns have mixed datatypes. The column `caffeine_in_mg` has mainly numerical values, but there are a few values that are \"Varies\"/\"varies\" which is of type string. We won't be able to do any numerical computations on this column until we make sure all values are either a float or integer. Let's convert these string values to `None`. We'll first convert the column to lowercase (so that \"Varies\" becomes \"varies\") then replace \"varies\" with None. Check out how it works: "
   ]
  },
  {
   "cell_type": "code",
   "execution_count": 22,
   "metadata": {},
   "outputs": [],
   "source": [
    "starbucks_drink['caffeine_in_mg'] = starbucks_drink['caffeine_in_mg'].str.lower().replace('varies', None)"
   ]
  },
  {
   "cell_type": "markdown",
   "metadata": {},
   "source": [
    "We'll convert this column to type \"float\". We can do this using `astype(float)`. If we wanted to convert it to a string, we would apply `astype(str)`."
   ]
  },
  {
   "cell_type": "code",
   "execution_count": 23,
   "metadata": {},
   "outputs": [],
   "source": [
    "starbucks_drink['caffeine_in_mg'] = starbucks_drink['caffeine_in_mg'].astype(float)"
   ]
  },
  {
   "cell_type": "markdown",
   "metadata": {},
   "source": [
    "Now that our column `caffeine_in_mg` is of type float, we can calculate the mean and max."
   ]
  },
  {
   "cell_type": "code",
   "execution_count": 24,
   "metadata": {},
   "outputs": [
    {
     "name": "stdout",
     "output_type": "stream",
     "text": [
      "Mean amount of caffeine in mg: 87.00836820083683\n",
      "Max caffeine in mg: 410.0\n"
     ]
    }
   ],
   "source": [
    "mean_caffeine = starbucks_drink['caffeine_in_mg'].mean()\n",
    "max_caffeine = starbucks_drink['caffeine_in_mg'].max()\n",
    "\n",
    "print(f\"Mean amount of caffeine in mg: {mean_caffeine}\")\n",
    "print(f\"Max caffeine in mg: {max_caffeine}\")"
   ]
  },
  {
   "cell_type": "markdown",
   "metadata": {},
   "source": [
    "The mean is a long floating point number. Let's round it down to 2 decimals."
   ]
  },
  {
   "cell_type": "code",
   "execution_count": 25,
   "metadata": {},
   "outputs": [
    {
     "name": "stdout",
     "output_type": "stream",
     "text": [
      "Mean amount of caffeine in mg: 87.01\n"
     ]
    }
   ],
   "source": [
    "print(f\"Mean amount of caffeine in mg: {round(mean_caffeine, 2)}\")"
   ]
  },
  {
   "cell_type": "markdown",
   "metadata": {},
   "source": [
    "### Applying an Operation to a Column\n",
    "\n",
    "If you take a look at the unique values in the `drinnk_size` column, you'll notice that there are duplicates because there are 2 spelling variations of a given drink size - one is lower case while the other is capitalized."
   ]
  },
  {
   "cell_type": "code",
   "execution_count": 26,
   "metadata": {},
   "outputs": [
    {
     "data": {
      "text/plain": [
       "array(['Short', 'Tall', 'Grande', 'Venti', 'short', 'tall', 'grande',\n",
       "       'venti'], dtype=object)"
      ]
     },
     "execution_count": 26,
     "metadata": {},
     "output_type": "execute_result"
    }
   ],
   "source": [
    "starbucks_drink['drink_size'].unique()"
   ]
  },
  {
   "cell_type": "markdown",
   "metadata": {},
   "source": [
    "To keep things consistent, let's make all drink size names lower case. We'll start by creating a function that passes in some text and makes it lower case."
   ]
  },
  {
   "cell_type": "code",
   "execution_count": 27,
   "metadata": {},
   "outputs": [
    {
     "data": {
      "text/plain": [
       "'tall'"
      ]
     },
     "execution_count": 27,
     "metadata": {},
     "output_type": "execute_result"
    }
   ],
   "source": [
    "def lower_case_text(text):\n",
    "    return text.lower()\n",
    "\n",
    "drink_size = 'Tall'\n",
    "lower_case_text(drink_size)"
   ]
  },
  {
   "cell_type": "markdown",
   "metadata": {},
   "source": [
    "To apply our function `lower_case_text()` to the `drink_size` column, we can use the `apply()` method which applies the operation to all rows of the column. "
   ]
  },
  {
   "cell_type": "code",
   "execution_count": 28,
   "metadata": {},
   "outputs": [],
   "source": [
    "starbucks_drink['drink_size'] = starbucks_drink['drink_size'].apply(lower_case_text)"
   ]
  },
  {
   "cell_type": "code",
   "execution_count": 29,
   "metadata": {},
   "outputs": [
    {
     "data": {
      "text/plain": [
       "array(['short', 'tall', 'grande', 'venti'], dtype=object)"
      ]
     },
     "execution_count": 29,
     "metadata": {},
     "output_type": "execute_result"
    }
   ],
   "source": [
    "starbucks_drink['drink_size'].unique()"
   ]
  },
  {
   "cell_type": "markdown",
   "metadata": {},
   "source": [
    "Awesome! Our drink size names have now been standardized. Let's take a look at the frequency counts of each drink size using `value_counts()`. "
   ]
  },
  {
   "cell_type": "code",
   "execution_count": 30,
   "metadata": {},
   "outputs": [
    {
     "data": {
      "text/plain": [
       "grande    67\n",
       "tall      64\n",
       "short     58\n",
       "venti     51\n",
       "Name: drink_size, dtype: int64"
      ]
     },
     "execution_count": 30,
     "metadata": {},
     "output_type": "execute_result"
    }
   ],
   "source": [
    "starbucks_drink['drink_size'].value_counts()"
   ]
  },
  {
   "cell_type": "markdown",
   "metadata": {},
   "source": [
    "We can see that \"grande\" is the most common size that Starbucks offers, while Venti is the least common."
   ]
  },
  {
   "cell_type": "markdown",
   "metadata": {},
   "source": [
    "### Renaming a Column \n",
    "\n",
    "We can access the list of our dataframe's column names using its \"columns\" attribute. "
   ]
  },
  {
   "cell_type": "code",
   "execution_count": 31,
   "metadata": {},
   "outputs": [
    {
     "data": {
      "text/plain": [
       "Index(['beverage', 'beverage_category', 'drink_size', 'milk_type', 'calories',\n",
       "       'caffeine_in_mg', 'carbs_in_g', 'sugars_in_g', 'protein_in_g',\n",
       "       'fat_in_g', 'fibre_in_g', 'cholesterol_in_mg', 'saturated_fat_in_g',\n",
       "       'sodium_in_mg', 'trans_fat_in_g', 'vit_a_dv', 'vit_c_dv', 'iron_dv',\n",
       "       'calcium_dv'],\n",
       "      dtype='object')"
      ]
     },
     "execution_count": 31,
     "metadata": {},
     "output_type": "execute_result"
    }
   ],
   "source": [
    "starbucks_drink.columns"
   ]
  },
  {
   "cell_type": "markdown",
   "metadata": {},
   "source": [
    "Let's say we want to change one of our columns from `fibre_in_g` (the British spelling) to `fiber_in_g` (the American spelling). There are two approaches to making this change. The first approach is to use the [rename](https://pandas.pydata.org/pandas-docs/stable/reference/api/pandas.DataFrame.rename.html) method, passing in a dictionary with the key as the current column name and the value as the new column name. "
   ]
  },
  {
   "cell_type": "code",
   "execution_count": 32,
   "metadata": {},
   "outputs": [],
   "source": [
    "starbucks_drink = starbucks_drink.rename(columns={'fibre_in_g': 'fiber_in_g'})"
   ]
  },
  {
   "cell_type": "markdown",
   "metadata": {},
   "source": [
    "The second approach is to reassign `starbucks.columns` to a new list of column names. This is useful if we want to change multiple column names. "
   ]
  },
  {
   "cell_type": "code",
   "execution_count": 33,
   "metadata": {},
   "outputs": [
    {
     "data": {
      "text/html": [
       "<div>\n",
       "<style scoped>\n",
       "    .dataframe tbody tr th:only-of-type {\n",
       "        vertical-align: middle;\n",
       "    }\n",
       "\n",
       "    .dataframe tbody tr th {\n",
       "        vertical-align: top;\n",
       "    }\n",
       "\n",
       "    .dataframe thead th {\n",
       "        text-align: right;\n",
       "    }\n",
       "</style>\n",
       "<table border=\"1\" class=\"dataframe\">\n",
       "  <thead>\n",
       "    <tr style=\"text-align: right;\">\n",
       "      <th></th>\n",
       "      <th>bev</th>\n",
       "      <th>bev_cat</th>\n",
       "      <th>drink_size</th>\n",
       "      <th>milk</th>\n",
       "      <th>cals</th>\n",
       "      <th>caffeine</th>\n",
       "      <th>carbs</th>\n",
       "      <th>sugars</th>\n",
       "      <th>protein</th>\n",
       "      <th>fat</th>\n",
       "      <th>fiber</th>\n",
       "      <th>chol</th>\n",
       "      <th>sat_fat</th>\n",
       "      <th>sodium_in_mg</th>\n",
       "      <th>trans_fat_in_g</th>\n",
       "      <th>vit_a_dv</th>\n",
       "      <th>vit_c_dv</th>\n",
       "      <th>iron_dv</th>\n",
       "      <th>calcium_dv</th>\n",
       "    </tr>\n",
       "  </thead>\n",
       "  <tbody>\n",
       "    <tr>\n",
       "      <th>104</th>\n",
       "      <td>Strawberries &amp; Crème (Without Whipped Cream)</td>\n",
       "      <td>Frappuccino® Blended Crème</td>\n",
       "      <td>grande</td>\n",
       "      <td>Nonfat Milk</td>\n",
       "      <td>230</td>\n",
       "      <td>0.0</td>\n",
       "      <td>190</td>\n",
       "      <td>52</td>\n",
       "      <td>4.0</td>\n",
       "      <td>0.2</td>\n",
       "      <td>0</td>\n",
       "      <td>53</td>\n",
       "      <td>0.0</td>\n",
       "      <td>0</td>\n",
       "      <td>0.1</td>\n",
       "      <td>8%</td>\n",
       "      <td>6%</td>\n",
       "      <td>4%</td>\n",
       "      <td>15%</td>\n",
       "    </tr>\n",
       "    <tr>\n",
       "      <th>187</th>\n",
       "      <td>Vanilla Latte (Or Other Flavoured Latte)</td>\n",
       "      <td>Classic Espresso Drinks</td>\n",
       "      <td>tall</td>\n",
       "      <td>Soymilk</td>\n",
       "      <td>160</td>\n",
       "      <td>75.0</td>\n",
       "      <td>95</td>\n",
       "      <td>20</td>\n",
       "      <td>7.0</td>\n",
       "      <td>4.0</td>\n",
       "      <td>1</td>\n",
       "      <td>23</td>\n",
       "      <td>0.0</td>\n",
       "      <td>0</td>\n",
       "      <td>0.5</td>\n",
       "      <td>10%</td>\n",
       "      <td>0%</td>\n",
       "      <td>15%</td>\n",
       "      <td>30%</td>\n",
       "    </tr>\n",
       "    <tr>\n",
       "      <th>173</th>\n",
       "      <td>Vanilla Bean (Without Whipped Cream)</td>\n",
       "      <td>Frappuccino® Blended Crème</td>\n",
       "      <td>short</td>\n",
       "      <td>Whole Milk</td>\n",
       "      <td>200</td>\n",
       "      <td>0.0</td>\n",
       "      <td>160</td>\n",
       "      <td>38</td>\n",
       "      <td>3.0</td>\n",
       "      <td>3.5</td>\n",
       "      <td>0</td>\n",
       "      <td>39</td>\n",
       "      <td>0.1</td>\n",
       "      <td>10</td>\n",
       "      <td>2.0</td>\n",
       "      <td>6%</td>\n",
       "      <td>0%</td>\n",
       "      <td>0%</td>\n",
       "      <td>10%</td>\n",
       "    </tr>\n",
       "  </tbody>\n",
       "</table>\n",
       "</div>"
      ],
      "text/plain": [
       "                                              bev                     bev_cat  \\\n",
       "104  Strawberries & Crème (Without Whipped Cream)  Frappuccino® Blended Crème   \n",
       "187      Vanilla Latte (Or Other Flavoured Latte)     Classic Espresso Drinks   \n",
       "173          Vanilla Bean (Without Whipped Cream)  Frappuccino® Blended Crème   \n",
       "\n",
       "    drink_size         milk  cals  caffeine  carbs  sugars  protein  fat  \\\n",
       "104     grande  Nonfat Milk   230       0.0    190      52      4.0  0.2   \n",
       "187       tall      Soymilk   160      75.0     95      20      7.0  4.0   \n",
       "173      short   Whole Milk   200       0.0    160      38      3.0  3.5   \n",
       "\n",
       "     fiber  chol  sat_fat  sodium_in_mg  trans_fat_in_g vit_a_dv vit_c_dv  \\\n",
       "104      0    53      0.0             0             0.1       8%       6%   \n",
       "187      1    23      0.0             0             0.5      10%       0%   \n",
       "173      0    39      0.1            10             2.0       6%       0%   \n",
       "\n",
       "    iron_dv calcium_dv  \n",
       "104      4%        15%  \n",
       "187     15%        30%  \n",
       "173      0%        10%  "
      ]
     },
     "execution_count": 33,
     "metadata": {},
     "output_type": "execute_result"
    }
   ],
   "source": [
    "sample_data = starbucks_drink.sample(n=3)\n",
    "\n",
    "sample_data.columns = ['bev', 'bev_cat', 'drink_size', 'milk', 'cals',\n",
    "       'caffeine', 'carbs', 'sugars', 'protein', 'fat', 'fiber', 'chol', 'sat_fat',\n",
    "       'sodium_in_mg', 'trans_fat_in_g', 'vit_a_dv', 'vit_c_dv', 'iron_dv', 'calcium_dv']\n",
    "\n",
    "sample_data"
   ]
  },
  {
   "cell_type": "markdown",
   "metadata": {},
   "source": [
    "### Appending Two DataFrames Together\n",
    "\n",
    "Let's say we have several dataframes with the same column format that we want to combine into a single dataframe. We can do this using a technique called [concatenation](https://pandas.pydata.org/pandas-docs/stable/user_guide/merging.html#concatenating-objects), which allows us to connect dataframes together row-wise. \n",
    "\n",
    "<img src=\"assets/imgs/concat.png\" width=\"40%\"/>\n",
    "\n",
    "Let's demonstrate this with an example. We'll create 3 small dataframes and use Pandas' [concat()](https://pandas.pydata.org/pandas-docs/stable/reference/api/pandas.concat.html#pandas.concat) function to join them together."
   ]
  },
  {
   "cell_type": "code",
   "execution_count": 34,
   "metadata": {},
   "outputs": [
    {
     "data": {
      "text/html": [
       "<div>\n",
       "<style scoped>\n",
       "    .dataframe tbody tr th:only-of-type {\n",
       "        vertical-align: middle;\n",
       "    }\n",
       "\n",
       "    .dataframe tbody tr th {\n",
       "        vertical-align: top;\n",
       "    }\n",
       "\n",
       "    .dataframe thead th {\n",
       "        text-align: right;\n",
       "    }\n",
       "</style>\n",
       "<table border=\"1\" class=\"dataframe\">\n",
       "  <thead>\n",
       "    <tr style=\"text-align: right;\">\n",
       "      <th></th>\n",
       "      <th>A</th>\n",
       "      <th>B</th>\n",
       "      <th>year</th>\n",
       "    </tr>\n",
       "  </thead>\n",
       "  <tbody>\n",
       "    <tr>\n",
       "      <th>0</th>\n",
       "      <td>1</td>\n",
       "      <td>0.10</td>\n",
       "      <td>2018</td>\n",
       "    </tr>\n",
       "    <tr>\n",
       "      <th>1</th>\n",
       "      <td>10</td>\n",
       "      <td>0.70</td>\n",
       "      <td>2018</td>\n",
       "    </tr>\n",
       "    <tr>\n",
       "      <th>2</th>\n",
       "      <td>15</td>\n",
       "      <td>0.90</td>\n",
       "      <td>2018</td>\n",
       "    </tr>\n",
       "    <tr>\n",
       "      <th>0</th>\n",
       "      <td>4</td>\n",
       "      <td>0.03</td>\n",
       "      <td>2017</td>\n",
       "    </tr>\n",
       "    <tr>\n",
       "      <th>1</th>\n",
       "      <td>18</td>\n",
       "      <td>0.80</td>\n",
       "      <td>2017</td>\n",
       "    </tr>\n",
       "    <tr>\n",
       "      <th>2</th>\n",
       "      <td>29</td>\n",
       "      <td>0.11</td>\n",
       "      <td>2017</td>\n",
       "    </tr>\n",
       "    <tr>\n",
       "      <th>0</th>\n",
       "      <td>17</td>\n",
       "      <td>0.80</td>\n",
       "      <td>2019</td>\n",
       "    </tr>\n",
       "    <tr>\n",
       "      <th>1</th>\n",
       "      <td>30</td>\n",
       "      <td>0.11</td>\n",
       "      <td>2019</td>\n",
       "    </tr>\n",
       "  </tbody>\n",
       "</table>\n",
       "</div>"
      ],
      "text/plain": [
       "    A     B  year\n",
       "0   1  0.10  2018\n",
       "1  10  0.70  2018\n",
       "2  15  0.90  2018\n",
       "0   4  0.03  2017\n",
       "1  18  0.80  2017\n",
       "2  29  0.11  2017\n",
       "0  17  0.80  2019\n",
       "1  30  0.11  2019"
      ]
     },
     "execution_count": 34,
     "metadata": {},
     "output_type": "execute_result"
    }
   ],
   "source": [
    "df1 = pd.DataFrame({'A': [1,10,15], 'B': [0.1,0.7,0.9], 'year':[2018, 2018, 2018]})\n",
    "df2 = pd.DataFrame({'A': [4,18,29], 'B': [0.03,0.8,0.11], 'year':[2017, 2017, 2017]})\n",
    "df3 = pd.DataFrame({'A': [17,30], 'B': [0.8,0.11], 'year':[2019, 2019]})\n",
    "\n",
    "result = pd.concat([df1, df2, df3])\n",
    "result"
   ]
  },
  {
   "cell_type": "markdown",
   "metadata": {},
   "source": [
    "The concatenanted dataframe has as many rows as the smaller dataframes combined."
   ]
  },
  {
   "cell_type": "markdown",
   "metadata": {},
   "source": [
    "Let's go back to our Starbucks menu. We have been focusing on the beverages, but there is also a separate dataset with food items. Can we combine the food and drink menus into a single dataframe? Let's see if it's possible. "
   ]
  },
  {
   "cell_type": "code",
   "execution_count": 35,
   "metadata": {},
   "outputs": [],
   "source": [
    "starbucks_food = pd.read_csv(\"data/starbucks_food_menu.csv\")"
   ]
  },
  {
   "cell_type": "code",
   "execution_count": 36,
   "metadata": {},
   "outputs": [
    {
     "data": {
      "text/html": [
       "<div>\n",
       "<style scoped>\n",
       "    .dataframe tbody tr th:only-of-type {\n",
       "        vertical-align: middle;\n",
       "    }\n",
       "\n",
       "    .dataframe tbody tr th {\n",
       "        vertical-align: top;\n",
       "    }\n",
       "\n",
       "    .dataframe thead th {\n",
       "        text-align: right;\n",
       "    }\n",
       "</style>\n",
       "<table border=\"1\" class=\"dataframe\">\n",
       "  <thead>\n",
       "    <tr style=\"text-align: right;\">\n",
       "      <th></th>\n",
       "      <th>item</th>\n",
       "      <th>calories</th>\n",
       "      <th>fat_in_g</th>\n",
       "      <th>carbs_in_g</th>\n",
       "      <th>fiber_in_g</th>\n",
       "      <th>protein_in_g</th>\n",
       "    </tr>\n",
       "  </thead>\n",
       "  <tbody>\n",
       "    <tr>\n",
       "      <th>0</th>\n",
       "      <td>Chonga Bagel</td>\n",
       "      <td>300</td>\n",
       "      <td>5.0</td>\n",
       "      <td>50</td>\n",
       "      <td>3</td>\n",
       "      <td>12</td>\n",
       "    </tr>\n",
       "    <tr>\n",
       "      <th>1</th>\n",
       "      <td>8-Grain Roll</td>\n",
       "      <td>380</td>\n",
       "      <td>6.0</td>\n",
       "      <td>70</td>\n",
       "      <td>7</td>\n",
       "      <td>10</td>\n",
       "    </tr>\n",
       "    <tr>\n",
       "      <th>2</th>\n",
       "      <td>Almond Croissant</td>\n",
       "      <td>410</td>\n",
       "      <td>22.0</td>\n",
       "      <td>45</td>\n",
       "      <td>3</td>\n",
       "      <td>10</td>\n",
       "    </tr>\n",
       "    <tr>\n",
       "      <th>3</th>\n",
       "      <td>Apple Fritter</td>\n",
       "      <td>460</td>\n",
       "      <td>23.0</td>\n",
       "      <td>56</td>\n",
       "      <td>2</td>\n",
       "      <td>7</td>\n",
       "    </tr>\n",
       "    <tr>\n",
       "      <th>4</th>\n",
       "      <td>Banana Nut Bread</td>\n",
       "      <td>420</td>\n",
       "      <td>22.0</td>\n",
       "      <td>52</td>\n",
       "      <td>2</td>\n",
       "      <td>6</td>\n",
       "    </tr>\n",
       "  </tbody>\n",
       "</table>\n",
       "</div>"
      ],
      "text/plain": [
       "               item  calories  fat_in_g  carbs_in_g  fiber_in_g  protein_in_g\n",
       "0      Chonga Bagel       300       5.0          50           3            12\n",
       "1      8-Grain Roll       380       6.0          70           7            10\n",
       "2  Almond Croissant       410      22.0          45           3            10\n",
       "3     Apple Fritter       460      23.0          56           2             7\n",
       "4  Banana Nut Bread       420      22.0          52           2             6"
      ]
     },
     "execution_count": 36,
     "metadata": {},
     "output_type": "execute_result"
    }
   ],
   "source": [
    "starbucks_food.head()"
   ]
  },
  {
   "cell_type": "markdown",
   "metadata": {},
   "source": [
    "We can see that there's some overlap in column names between the Starbucks food and beverage dataframes. The only column that is different is `item` in `starbucks_food`. We'll have to standardize this column name in `starbucks_drink` before proceeding to concatenation. First, we'll create a new dataframe called `sb_drink_subset` which will represent a subset of columns from our original `starbucks_drink` dataframe."
   ]
  },
  {
   "cell_type": "code",
   "execution_count": 37,
   "metadata": {},
   "outputs": [],
   "source": [
    "sb_drink_subset = starbucks_drink[['beverage','drink_size','calories','fat_in_g','carbs_in_g','fiber_in_g','protein_in_g']]"
   ]
  },
  {
   "cell_type": "markdown",
   "metadata": {},
   "source": [
    "Let's create a new column that represents \"item\" in `sb_drink_subset`. We'll do this by combining \"beverage\" and \"drink_size\". We'll format it so that it looks like this:\n",
    "\n",
    "```\n",
    "beverage/drink_size\n",
    "```\n"
   ]
  },
  {
   "cell_type": "code",
   "execution_count": 38,
   "metadata": {},
   "outputs": [],
   "source": [
    "sb_drink_subset['item'] = sb_drink_subset['beverage'] + \"/\" + sb_drink_subset['drink_size']"
   ]
  },
  {
   "cell_type": "markdown",
   "metadata": {},
   "source": [
    "We don't need our \"beverage\" and \"drink_size\" columns any more, so let's drop them from our dataframe. "
   ]
  },
  {
   "cell_type": "code",
   "execution_count": 39,
   "metadata": {},
   "outputs": [],
   "source": [
    "sb_drink_subset = sb_drink_subset.drop(columns=['beverage', 'drink_size'])"
   ]
  },
  {
   "cell_type": "markdown",
   "metadata": {},
   "source": [
    "We can now concatenate `sb_drink_subset` with `starbucks_food` to create a dataframe containing all Starbucks menu items. "
   ]
  },
  {
   "cell_type": "code",
   "execution_count": 40,
   "metadata": {},
   "outputs": [
    {
     "name": "stdout",
     "output_type": "stream",
     "text": [
      "Dataframe dimensions: (353, 6)\n"
     ]
    },
    {
     "data": {
      "text/html": [
       "<div>\n",
       "<style scoped>\n",
       "    .dataframe tbody tr th:only-of-type {\n",
       "        vertical-align: middle;\n",
       "    }\n",
       "\n",
       "    .dataframe tbody tr th {\n",
       "        vertical-align: top;\n",
       "    }\n",
       "\n",
       "    .dataframe thead th {\n",
       "        text-align: right;\n",
       "    }\n",
       "</style>\n",
       "<table border=\"1\" class=\"dataframe\">\n",
       "  <thead>\n",
       "    <tr style=\"text-align: right;\">\n",
       "      <th></th>\n",
       "      <th>calories</th>\n",
       "      <th>fat_in_g</th>\n",
       "      <th>carbs_in_g</th>\n",
       "      <th>fiber_in_g</th>\n",
       "      <th>protein_in_g</th>\n",
       "      <th>item</th>\n",
       "    </tr>\n",
       "  </thead>\n",
       "  <tbody>\n",
       "    <tr>\n",
       "      <th>0</th>\n",
       "      <td>3</td>\n",
       "      <td>0.1</td>\n",
       "      <td>5</td>\n",
       "      <td>0</td>\n",
       "      <td>0.3</td>\n",
       "      <td>Brewed Coffee/short</td>\n",
       "    </tr>\n",
       "    <tr>\n",
       "      <th>1</th>\n",
       "      <td>4</td>\n",
       "      <td>0.1</td>\n",
       "      <td>10</td>\n",
       "      <td>0</td>\n",
       "      <td>0.5</td>\n",
       "      <td>Brewed Coffee/tall</td>\n",
       "    </tr>\n",
       "    <tr>\n",
       "      <th>2</th>\n",
       "      <td>5</td>\n",
       "      <td>0.1</td>\n",
       "      <td>10</td>\n",
       "      <td>0</td>\n",
       "      <td>1.0</td>\n",
       "      <td>Brewed Coffee/grande</td>\n",
       "    </tr>\n",
       "    <tr>\n",
       "      <th>3</th>\n",
       "      <td>5</td>\n",
       "      <td>0.1</td>\n",
       "      <td>10</td>\n",
       "      <td>0</td>\n",
       "      <td>1.0</td>\n",
       "      <td>Brewed Coffee/venti</td>\n",
       "    </tr>\n",
       "    <tr>\n",
       "      <th>4</th>\n",
       "      <td>5</td>\n",
       "      <td>0.0</td>\n",
       "      <td>5</td>\n",
       "      <td>0</td>\n",
       "      <td>0.4</td>\n",
       "      <td>Caffè Americano/short</td>\n",
       "    </tr>\n",
       "  </tbody>\n",
       "</table>\n",
       "</div>"
      ],
      "text/plain": [
       "   calories  fat_in_g  carbs_in_g  fiber_in_g  protein_in_g  \\\n",
       "0         3       0.1           5           0           0.3   \n",
       "1         4       0.1          10           0           0.5   \n",
       "2         5       0.1          10           0           1.0   \n",
       "3         5       0.1          10           0           1.0   \n",
       "4         5       0.0           5           0           0.4   \n",
       "\n",
       "                    item  \n",
       "0    Brewed Coffee/short  \n",
       "1     Brewed Coffee/tall  \n",
       "2   Brewed Coffee/grande  \n",
       "3    Brewed Coffee/venti  \n",
       "4  Caffè Americano/short  "
      ]
     },
     "execution_count": 40,
     "metadata": {},
     "output_type": "execute_result"
    }
   ],
   "source": [
    "starbucks_menu = pd.concat([sb_drink_subset, starbucks_food], sort=False)\n",
    "print(f\"Dataframe dimensions: {starbucks_menu.shape}\")\n",
    "starbucks_menu.head()"
   ]
  },
  {
   "cell_type": "markdown",
   "metadata": {},
   "source": [
    "Our newly created `starbucks_menu` dataframe consists of 353 rows, suggesting that there's 353 items (both food and beverage) on the full menu. \n",
    "\n",
    "We can write this dataframe to a csv file for later use. We'll use pandas' [to_csv](https://pandas.pydata.org/pandas-docs/stable/reference/api/pandas.DataFrame.to_csv.html) to do this. We don't want to save the index as a column in our csv file, so we'll set `index` to be False."
   ]
  },
  {
   "cell_type": "code",
   "execution_count": 41,
   "metadata": {},
   "outputs": [],
   "source": [
    "starbucks_menu.to_csv(\"data/starbucks_menu.csv\", index=False)"
   ]
  }
 ],
 "metadata": {
  "kernelspec": {
   "display_name": "Python 3",
   "language": "python",
   "name": "python3"
  },
  "language_info": {
   "codemirror_mode": {
    "name": "ipython",
    "version": 3
   },
   "file_extension": ".py",
   "mimetype": "text/x-python",
   "name": "python",
   "nbconvert_exporter": "python",
   "pygments_lexer": "ipython3",
   "version": "3.7.6"
  }
 },
 "nbformat": 4,
 "nbformat_minor": 2
}
