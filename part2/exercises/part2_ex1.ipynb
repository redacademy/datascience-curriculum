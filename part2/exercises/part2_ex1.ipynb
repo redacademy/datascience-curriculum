{
 "cells": [
  {
   "cell_type": "markdown",
   "metadata": {},
   "source": [
    "# Exercise 1: Starbucks Food Menu\n",
    "\n",
    "Let's practice our data manipulation skills using the Starbucks food dataset. This notebook is also available on [Google Colab](https://colab.research.google.com/drive/1nuzPBfbADU21WT5-upFNoJmZRCcG5sRa). \n",
    "\n",
    "### Import Dependencies\n",
    "\n",
    "We'll need to import [Pandas](https://pandas.pydata.org/) so that we can represent the data as a Pandas DataFrame."
   ]
  },
  {
   "cell_type": "code",
   "execution_count": null,
   "metadata": {},
   "outputs": [],
   "source": [
    "import pandas as pd"
   ]
  },
  {
   "cell_type": "markdown",
   "metadata": {},
   "source": [
    "### Loading the Data\n",
    "\n",
    "The Starbucks food dataset is located in two places: 1) locally in the `data/` folder, and 2) on the cloud, stored on Amazon Web Services. Let's start by importing the data from the cloud."
   ]
  },
  {
   "cell_type": "code",
   "execution_count": null,
   "metadata": {},
   "outputs": [],
   "source": [
    "data = pd.read_csv(\"https://s3.us-east-2.amazonaws.com/explore.datasets/rbi/starbucks_food_menu.csv\")\n",
    "data.head()"
   ]
  },
  {
   "cell_type": "markdown",
   "metadata": {},
   "source": [
    "What are the datatypes of each column in the dataset?"
   ]
  },
  {
   "cell_type": "code",
   "execution_count": null,
   "metadata": {},
   "outputs": [],
   "source": [
    "data._____"
   ]
  },
  {
   "cell_type": "markdown",
   "metadata": {},
   "source": [
    "We have 4 columns that represent different macronutrients for a given food item in grams:\n",
    "\n",
    "- `protein_in_g`\n",
    "- `fat_in_g`\n",
    "- `carbs_in_g`\n",
    "- `fiber_in_g`\n",
    "\n",
    "Let's create new columns that convert those macronutrients from grams to calories. The calorie mapping is as follows:\n",
    "\n",
    "- `protein`: 4 calories per gram\n",
    "- `fat`: 9 calories per gram\n",
    "- `carbs`: 4 calories per gram\n",
    "- `fiber`: 4 calories per gram"
   ]
  },
  {
   "cell_type": "code",
   "execution_count": null,
   "metadata": {},
   "outputs": [],
   "source": [
    "data['protein_in_cals'] = data['protein_in_g']*4\n",
    "data['fat_in_cals'] = \n",
    "data['carbs_in_cals'] =\n",
    "data['fiber_in_cals'] = "
   ]
  },
  {
   "cell_type": "markdown",
   "metadata": {},
   "source": [
    "Now, let's create a new column that looks at the proportion of calories from fat. "
   ]
  },
  {
   "cell_type": "code",
   "execution_count": null,
   "metadata": {},
   "outputs": [],
   "source": [
    "data['calories_from_fat'] = "
   ]
  },
  {
   "cell_type": "markdown",
   "metadata": {},
   "source": [
    "We also want to create 3 new boolean columns that indicate whether:\n",
    "\n",
    "- the food item is a bagel (`is_bagel`)\n",
    "- the food item contains chocolate (`has_chocolate`)\n",
    "- the food item is a sandwich (`is_sandwich`)\n",
    "\n",
    "We'll assume that if the item contains the word \"bagel\" or \"sandwich\" then it is a bagel or sandwich. If it mentions \"chocolate\" then it contains chocolate. We can use Pandas' [str.contains](https://pandas.pydata.org/pandas-docs/stable/reference/api/pandas.Series.str.contains.html) function to look for specific words within the text. "
   ]
  },
  {
   "cell_type": "code",
   "execution_count": null,
   "metadata": {},
   "outputs": [],
   "source": [
    "data['is_bagel'] = data['item'].str.lower().str.contains('____')\n",
    "data['has_chocolate'] = \n",
    "data['is_sandwich'] = "
   ]
  },
  {
   "cell_type": "markdown",
   "metadata": {},
   "source": [
    "How many items are bagels?"
   ]
  },
  {
   "cell_type": "code",
   "execution_count": null,
   "metadata": {},
   "outputs": [],
   "source": [
    "data['is_bagel'].___"
   ]
  },
  {
   "cell_type": "markdown",
   "metadata": {},
   "source": [
    "How many items are sandwiches?"
   ]
  },
  {
   "cell_type": "code",
   "execution_count": null,
   "metadata": {},
   "outputs": [],
   "source": [
    "data['is_sandwich'].___"
   ]
  },
  {
   "cell_type": "markdown",
   "metadata": {},
   "source": [
    "How many items contain chocolate?"
   ]
  },
  {
   "cell_type": "code",
   "execution_count": null,
   "metadata": {},
   "outputs": [],
   "source": [
    "data['has_chocolate'].___"
   ]
  }
 ],
 "metadata": {
  "kernelspec": {
   "display_name": "Python 3",
   "language": "python",
   "name": "python3"
  },
  "language_info": {
   "codemirror_mode": {
    "name": "ipython",
    "version": 3
   },
   "file_extension": ".py",
   "mimetype": "text/x-python",
   "name": "python",
   "nbconvert_exporter": "python",
   "pygments_lexer": "ipython3",
   "version": "3.6.5"
  }
 },
 "nbformat": 4,
 "nbformat_minor": 2
}
