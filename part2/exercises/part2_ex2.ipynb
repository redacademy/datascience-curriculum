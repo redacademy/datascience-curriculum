{
 "cells": [
  {
   "cell_type": "markdown",
   "metadata": {},
   "source": [
    "# Exercise 2: Starbucks Drink Menu\n",
    "\n",
    "We walked through the Starbucks drink dataset in our Part 2 walkthrough. Let's revisit this dataset and make some updates to it. This notebook is also available on [Google Colab](https://colab.research.google.com/drive/1KRdIqMQIv0QZqpQQVWZCroQxoBUS5Yyy). \n",
    "\n",
    "### Importing Dependencies\n",
    "\n",
    "We'll need to import `Pandas` in order to represent the data as a Pandas DataFrame."
   ]
  },
  {
   "cell_type": "code",
   "execution_count": null,
   "metadata": {},
   "outputs": [],
   "source": [
    "import pandas as pd"
   ]
  },
  {
   "cell_type": "markdown",
   "metadata": {},
   "source": [
    "### Loading the Data\n",
    "\n",
    "We can either load the data from its local source (stored in `data/`) or its cloud source (stored on Amazon Web Services). Here, we'll load it in from the cloud."
   ]
  },
  {
   "cell_type": "code",
   "execution_count": null,
   "metadata": {},
   "outputs": [],
   "source": [
    "data = pd.read_csv(\"https://s3.us-east-2.amazonaws.com/explore.datasets/rbi/starbucks_drink_menu.csv\")\n",
    "data.head()"
   ]
  },
  {
   "cell_type": "markdown",
   "metadata": {},
   "source": [
    "Let's start by looking at how many rows and columns are in our dataset. "
   ]
  },
  {
   "cell_type": "code",
   "execution_count": null,
   "metadata": {},
   "outputs": [],
   "source": [
    "data.______"
   ]
  },
  {
   "cell_type": "markdown",
   "metadata": {},
   "source": [
    "How many missing values do we have in this dataset?"
   ]
  },
  {
   "cell_type": "code",
   "execution_count": null,
   "metadata": {},
   "outputs": [],
   "source": [
    "data.____"
   ]
  },
  {
   "cell_type": "markdown",
   "metadata": {},
   "source": [
    "We have a categorical column called `milk_type` that contains information on what kind of milk was added to the Starbucks drink. The missing values (`None`) indicate that a drink doesn't contain milk. Let's replace the `None` values with \"No milk\"."
   ]
  },
  {
   "cell_type": "code",
   "execution_count": null,
   "metadata": {},
   "outputs": [],
   "source": [
    "data['milk_type'] = data['milk_type'].fillna('____')"
   ]
  },
  {
   "cell_type": "markdown",
   "metadata": {},
   "source": [
    "Now, let's look at `beverage_category` and `drink_size` and replace values in those columns to lower case."
   ]
  },
  {
   "cell_type": "code",
   "execution_count": null,
   "metadata": {},
   "outputs": [],
   "source": [
    "data['drink_size'] = data['drink_size'].str.____\n",
    "data['beverage_category'] = data['____']"
   ]
  },
  {
   "cell_type": "markdown",
   "metadata": {},
   "source": [
    "We have 4 columns in our dataset that end with `dv`. We don't need those columns so let's drop them. "
   ]
  },
  {
   "cell_type": "code",
   "execution_count": null,
   "metadata": {},
   "outputs": [],
   "source": [
    "data"
   ]
  },
  {
   "cell_type": "markdown",
   "metadata": {},
   "source": [
    "We also only want to look at drinks that contain sugar. So let's remove all drinks in our dataset where `sugar_in_g` is 0."
   ]
  },
  {
   "cell_type": "code",
   "execution_count": null,
   "metadata": {},
   "outputs": [],
   "source": [
    "data = data[data['____']==___]"
   ]
  },
  {
   "cell_type": "markdown",
   "metadata": {},
   "source": [
    "We also only want to look at drinks that have more than 1g of protein. Let's go ahead of drop drinks that have 1g of protein or less."
   ]
  },
  {
   "cell_type": "code",
   "execution_count": null,
   "metadata": {},
   "outputs": [],
   "source": [
    "data = "
   ]
  },
  {
   "cell_type": "markdown",
   "metadata": {},
   "source": [
    "The last thing that we want to remove is any above-average calorie drinks. We'll first need to figure out what the mean calories is, then remove drinks that have fewer calories than this mean. "
   ]
  },
  {
   "cell_type": "code",
   "execution_count": null,
   "metadata": {},
   "outputs": [],
   "source": [
    "mean_calories = data['___'].___\n",
    "\n",
    "data = data[data['____']>mean_calories]"
   ]
  }
 ],
 "metadata": {
  "kernelspec": {
   "display_name": "Python 3",
   "language": "python",
   "name": "python3"
  },
  "language_info": {
   "codemirror_mode": {
    "name": "ipython",
    "version": 3
   },
   "file_extension": ".py",
   "mimetype": "text/x-python",
   "name": "python",
   "nbconvert_exporter": "python",
   "pygments_lexer": "ipython3",
   "version": "3.6.5"
  }
 },
 "nbformat": 4,
 "nbformat_minor": 2
}
