{
 "cells": [
  {
   "cell_type": "markdown",
   "metadata": {},
   "source": [
    "# Part 1: Intro to Python\n",
    "\n",
    "### Some History\n",
    "\n",
    "- created by a guy named Guido Van Rossum \n",
    "\n",
    "\n",
    "<img src=\"https://cms.qz.com/wp-content/uploads/2019/05/Guido-van-Rossum-e1558635088256.jpg?quality=75&strip=all&w=410&h=231\" align=\"right\" width=\"20%\"/>\n",
    "\n",
    "### Main Features\n",
    "\n",
    "- general purpose, the \"swiss army knife\" of programming languages\n",
    "- open source and free to use\n",
    "- contains packages (e.g., pandas, numpy, etc.) that make it easier to write code\n",
    "\n",
    "### Python 2 vs. 3\n",
    "\n",
    "- Python 2 is phasing out \n",
    "- Python 3 is currently the gold standard\n",
    "\n",
    "\n",
    "\n"
   ]
  },
  {
   "cell_type": "markdown",
   "metadata": {},
   "source": [
    "### Data Types\n",
    "\n",
    "In this tutorial, we're going to be walk through the most commonly used data types in Python:\n",
    "\n",
    "- integers\n",
    "- floats\n",
    "- booleans\n",
    "- strings\n",
    "\n",
    "If you're interested in learning more about Python's built-in data types, check out the official Python 3 documentation [here](https://docs.python.org/3/library/stdtypes.html)."
   ]
  },
  {
   "cell_type": "markdown",
   "metadata": {},
   "source": [
    "## 1. Numeric Types\n",
    "\n",
    "The most common numeric types in Python are `int` (integers) and `float` (floating point numbers). Integers are numbers without a fractional component. "
   ]
  },
  {
   "cell_type": "code",
   "execution_count": 4,
   "metadata": {},
   "outputs": [
    {
     "data": {
      "text/plain": [
       "int"
      ]
     },
     "execution_count": 4,
     "metadata": {},
     "output_type": "execute_result"
    }
   ],
   "source": [
    "x = 10\n",
    "\n",
    "type(x)"
   ]
  },
  {
   "cell_type": "markdown",
   "metadata": {},
   "source": [
    "Floats are real numbers written in scientific notation with decimals. This is useful when more precision is needed. "
   ]
  },
  {
   "cell_type": "code",
   "execution_count": null,
   "metadata": {},
   "outputs": [],
   "source": [
    "y = 3.14159\n",
    "\n",
    "type(y)"
   ]
  },
  {
   "cell_type": "markdown",
   "metadata": {},
   "source": [
    "Let's create two variables, `n_apples` and `cost`, and assign different numeric values to each variable name."
   ]
  },
  {
   "cell_type": "code",
   "execution_count": 5,
   "metadata": {},
   "outputs": [],
   "source": [
    "n_apples = 10\n",
    "\n",
    "assert type(n_apples) == int"
   ]
  },
  {
   "cell_type": "code",
   "execution_count": 9,
   "metadata": {},
   "outputs": [],
   "source": [
    "cost_per_apple = 3.55\n",
    "\n",
    "assert type(cost_per_apple) == float"
   ]
  },
  {
   "cell_type": "markdown",
   "metadata": {},
   "source": [
    "Now, let's print the value of these variables, along with their data type. We can get the data type of a value by wrapping it inside Python's built-in `type()`."
   ]
  },
  {
   "cell_type": "code",
   "execution_count": 10,
   "metadata": {},
   "outputs": [
    {
     "name": "stdout",
     "output_type": "stream",
     "text": [
      "n_apples, 10, is type <class 'int'>\n",
      "cost_per_apple, 3.55, is type <class 'float'>\n"
     ]
    }
   ],
   "source": [
    "print(f\"n_apples, {n_apples}, is type {type(n_apples)}\")\n",
    "print(f\"cost_per_apple, {cost_per_apple}, is type {type(cost_per_apple)}\")"
   ]
  },
  {
   "cell_type": "markdown",
   "metadata": {},
   "source": [
    "As expected, variable `n_apples` is an `int` while `cost_per_apple` is a `float`. \n",
    "\n",
    "The print statements above use something called f-strings. Why is it called f-string? If you notice in the code above, the string inside the print statement is preceded by an `f` - this puts it in \"f-string mode\". To embed an expression in your string, you need to wrap it inside squiggly brackets `{ }`. The f-string is only available in Python 3.6 or greater. It lets you embed Python expressions inside string literals in a readable way. Before Python 3.6, you would have to use `%-formatting` or `.format()` to embed expressions inside strings, which was much more verbose and prone to error. If you want to learn more about f-strings, check out this [link](https://realpython.com/python-f-strings/). "
   ]
  },
  {
   "cell_type": "markdown",
   "metadata": {},
   "source": [
    "If we want to convert a float to an integer (or vice versa), we can easily do so by wrapping the variable in `int()` or `float()`. Let's try this out:"
   ]
  },
  {
   "cell_type": "code",
   "execution_count": 11,
   "metadata": {},
   "outputs": [
    {
     "name": "stdout",
     "output_type": "stream",
     "text": [
      "3.55 --> 3\n",
      "10 --> 10.0\n"
     ]
    }
   ],
   "source": [
    "print(f\"{cost_per_apple} --> {int(cost_per_apple)}\")\n",
    "print(f\"{n_apples} --> {float(n_apples)}\")"
   ]
  },
  {
   "cell_type": "markdown",
   "metadata": {},
   "source": [
    "In Python, it's possible to mix integers and floats in an arithmetic operation. So you don't need to worry about converting these numeric types into a common format. Let's test it out with our variables `n_apples` (an integer) and `cost_per_apple` (a float)."
   ]
  },
  {
   "cell_type": "code",
   "execution_count": 17,
   "metadata": {},
   "outputs": [
    {
     "data": {
      "text/plain": [
       "35.5"
      ]
     },
     "execution_count": 17,
     "metadata": {},
     "output_type": "execute_result"
    }
   ],
   "source": [
    "total_cost = n_apples*cost_per_apple\n",
    "total_cost"
   ]
  },
  {
   "cell_type": "markdown",
   "metadata": {},
   "source": [
    "We can see that the output of `n_apples * cost_per_apple` is a float. This is because `n_apples`, which was originally an integer, gets converted to a `float` when it gets multiplied with `cost_per_apple`. "
   ]
  },
  {
   "cell_type": "markdown",
   "metadata": {},
   "source": [
    "Here's a complete list of arithmetic operations in Python:\n",
    "\n",
    "- **Addition:** gets the sum of the operands\n",
    "\n",
    "```\n",
    "x + y\n",
    "```\n",
    "\n",
    "- **Subtraction:** gets the difference of the operands\n",
    "\n",
    "```\n",
    "x - y\n",
    "```\n",
    "\n",
    "- **Multiplication:** gets the product of the operands\n",
    "\n",
    "```\n",
    "x * y\n",
    "```\n",
    "\n",
    "- **Division:** produces the quotient of the operands and returns a float\n",
    "\n",
    "```\n",
    "x / y\n",
    "```\n",
    "\n",
    "- **Division with floor:** produces the quotient of the operands and returns an integer (rounds down)\n",
    "\n",
    "```\n",
    "x // y\n",
    "```\n",
    "\n",
    "- **Exponent:** raises the first operand to the power of the second operand\n",
    "\n",
    "```\n",
    "x ** y\n",
    "```"
   ]
  },
  {
   "cell_type": "markdown",
   "metadata": {},
   "source": [
    "## 2. Boolean Type"
   ]
  },
  {
   "cell_type": "markdown",
   "metadata": {},
   "source": [
    "Python's boolean (`bool`) can have one of two values: `True` and `False`. "
   ]
  },
  {
   "cell_type": "code",
   "execution_count": 26,
   "metadata": {},
   "outputs": [
    {
     "data": {
      "text/plain": [
       "bool"
      ]
     },
     "execution_count": 26,
     "metadata": {},
     "output_type": "execute_result"
    }
   ],
   "source": [
    "is_vegetarian = True \n",
    "\n",
    "type(is_vegetarian)"
   ]
  },
  {
   "cell_type": "code",
   "execution_count": 27,
   "metadata": {},
   "outputs": [
    {
     "data": {
      "text/plain": [
       "bool"
      ]
     },
     "execution_count": 27,
     "metadata": {},
     "output_type": "execute_result"
    }
   ],
   "source": [
    "is_vegan = False\n",
    "\n",
    "type(is_vegan)"
   ]
  },
  {
   "cell_type": "markdown",
   "metadata": {},
   "source": [
    "A `boolean` expression evaluates a statement and results in a boolean value. For example, the operator `==` tests if two values are equal."
   ]
  },
  {
   "cell_type": "code",
   "execution_count": 28,
   "metadata": {},
   "outputs": [
    {
     "data": {
      "text/plain": [
       "False"
      ]
     },
     "execution_count": 28,
     "metadata": {},
     "output_type": "execute_result"
    }
   ],
   "source": [
    "is_vegetarian == is_vegan"
   ]
  },
  {
   "cell_type": "markdown",
   "metadata": {},
   "source": [
    "The `!=` operator tests if two values are **not** equal."
   ]
  },
  {
   "cell_type": "code",
   "execution_count": 30,
   "metadata": {},
   "outputs": [
    {
     "data": {
      "text/plain": [
       "True"
      ]
     },
     "execution_count": 30,
     "metadata": {},
     "output_type": "execute_result"
    }
   ],
   "source": [
    "is_vegetarian != is_vegan"
   ]
  },
  {
   "cell_type": "markdown",
   "metadata": {},
   "source": [
    "You can also compare two numeric values using:\n",
    " - `>` (greater than)\n",
    " - `<` (less than)\n",
    " - `>=` (greater than or equal to)\n",
    " - `<=` (less than or equal to)"
   ]
  },
  {
   "cell_type": "code",
   "execution_count": 31,
   "metadata": {},
   "outputs": [],
   "source": [
    "n_donuts = 10\n",
    "n_muffins = 5"
   ]
  },
  {
   "cell_type": "code",
   "execution_count": 37,
   "metadata": {},
   "outputs": [
    {
     "data": {
      "text/plain": [
       "True"
      ]
     },
     "execution_count": 37,
     "metadata": {},
     "output_type": "execute_result"
    }
   ],
   "source": [
    "n_donuts >= n_muffins"
   ]
  },
  {
   "cell_type": "code",
   "execution_count": 38,
   "metadata": {},
   "outputs": [
    {
     "data": {
      "text/plain": [
       "False"
      ]
     },
     "execution_count": 38,
     "metadata": {},
     "output_type": "execute_result"
    }
   ],
   "source": [
    "n_donuts < n_muffins"
   ]
  },
  {
   "cell_type": "markdown",
   "metadata": {},
   "source": [
    "Interestingly, you can also compare two strings. The evaluation goes by alphabetical order so the \"larger\" item would be higher up in the alphabet."
   ]
  },
  {
   "cell_type": "code",
   "execution_count": 39,
   "metadata": {},
   "outputs": [],
   "source": [
    "server = 'Anne'\n",
    "host = 'Jim'"
   ]
  },
  {
   "cell_type": "code",
   "execution_count": 40,
   "metadata": {},
   "outputs": [
    {
     "data": {
      "text/plain": [
       "False"
      ]
     },
     "execution_count": 40,
     "metadata": {},
     "output_type": "execute_result"
    }
   ],
   "source": [
    "server > host"
   ]
  },
  {
   "cell_type": "code",
   "execution_count": 41,
   "metadata": {},
   "outputs": [
    {
     "data": {
      "text/plain": [
       "True"
      ]
     },
     "execution_count": 41,
     "metadata": {},
     "output_type": "execute_result"
    }
   ],
   "source": [
    "server < host"
   ]
  },
  {
   "cell_type": "markdown",
   "metadata": {},
   "source": [
    "## 3. Strings\n",
    "\n",
    "Text is stored as type str (string). We think of a string as a sequence of characters. We write strings as characters enclosed with single or double quotes."
   ]
  },
  {
   "cell_type": "code",
   "execution_count": 44,
   "metadata": {},
   "outputs": [],
   "source": [
    "his_name = \"John Doe\""
   ]
  },
  {
   "cell_type": "code",
   "execution_count": 45,
   "metadata": {},
   "outputs": [],
   "source": [
    "her_name = \"Jane Smith\""
   ]
  },
  {
   "cell_type": "code",
   "execution_count": 46,
   "metadata": {},
   "outputs": [
    {
     "name": "stdout",
     "output_type": "stream",
     "text": [
      "John Doe and Jane Smith are friends.\n",
      "<class 'str'> <class 'str'>\n"
     ]
    }
   ],
   "source": [
    "print(f\"{his_name} and {her_name} are friends.\")\n",
    "print(type(his_name), type(her_name))"
   ]
  },
  {
   "cell_type": "markdown",
   "metadata": {},
   "source": [
    "If a string contains an apostrophe, we can use double quotes to define the string and use a single quote character in the string."
   ]
  },
  {
   "cell_type": "code",
   "execution_count": 28,
   "metadata": {},
   "outputs": [
    {
     "name": "stdout",
     "output_type": "stream",
     "text": [
      "It's snowing outside\n"
     ]
    }
   ],
   "source": [
    "phrase = \"It's snowing outside\"\n",
    "print(phrase)"
   ]
  },
  {
   "cell_type": "code",
   "execution_count": 20,
   "metadata": {},
   "outputs": [
    {
     "data": {
      "text/plain": [
       "'abcd'"
      ]
     },
     "execution_count": 20,
     "metadata": {},
     "output_type": "execute_result"
    }
   ],
   "source": [
    "'ab' + 'cd'"
   ]
  },
  {
   "cell_type": "markdown",
   "metadata": {},
   "source": [
    "## 4. Sequence Types"
   ]
  },
  {
   "cell_type": "markdown",
   "metadata": {},
   "source": [
    "The standard seuqence types in Python are: `list`, `tuple`, and `range`. "
   ]
  },
  {
   "cell_type": "markdown",
   "metadata": {},
   "source": [
    "Lists are constructed with square brackets, separating items with commas: [a, b, c]. Tuples are constructed by the comma operator (not within square brackets), with or without enclosing parentheses, but an empty tuple must have the enclosing parentheses, e.g., a, b, c or (). "
   ]
  },
  {
   "cell_type": "code",
   "execution_count": null,
   "metadata": {},
   "outputs": [],
   "source": []
  }
 ],
 "metadata": {
  "kernelspec": {
   "display_name": "Python 3",
   "language": "python",
   "name": "python3"
  },
  "language_info": {
   "codemirror_mode": {
    "name": "ipython",
    "version": 3
   },
   "file_extension": ".py",
   "mimetype": "text/x-python",
   "name": "python",
   "nbconvert_exporter": "python",
   "pygments_lexer": "ipython3",
   "version": "3.7.4"
  }
 },
 "nbformat": 4,
 "nbformat_minor": 2
}
