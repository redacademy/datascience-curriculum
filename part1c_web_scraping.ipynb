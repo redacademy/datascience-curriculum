{
 "cells": [
  {
   "cell_type": "markdown",
   "metadata": {},
   "source": [
    "# Part 1c: Scraping the Web with Python\n",
    "\n",
    "[Web scraping](https://en.wikipedia.org/wiki/Web_scraping) is a technique to automatically extract data from websites. It works by gathering and copying data from the web into a central local database. \n",
    "\n",
    "This process is typically carried out using a tool called a \"scraper\". First, it sends a `GET` query to a specific website. Then, it parses an HTML document based on the retrieved result. After it’s done, the scraper searches for the data you need within the document and converts it into the specified format.\n",
    "\n",
    "In Python, the two most commonly used scraping packages are [Beautiful Soup](https://www.crummy.com/software/BeautifulSoup/bs4/doc/) and [Scrapy](https://scrapy.org/). In this tutorial, we'll use Beautiful Soup to search for apartments rentals from Craigslist's Toronto [housing section](https://toronto.craigslist.org/search/apa?). \n",
    "\n",
    "We'll first need to install it which can be done with this command: \n",
    "\n",
    "```\n",
    "pip install beautifulsoup4\n",
    "```\n",
    "\n",
    "We'll also need to install [requests](https://2.python-requests.org/en/master/) which will let us make HTTP requests. With `requests`, we can easily pull HTML code from a website. To learn more about this useful package, check out this [article](https://realpython.com/python-requests/).\n",
    "\n",
    "```\n",
    "pip install requests\n",
    "```\n",
    "\n",
    "Now let's import these packages into our working Python environment:"
   ]
  },
  {
   "cell_type": "code",
   "execution_count": 1,
   "metadata": {},
   "outputs": [],
   "source": [
    "import requests \n",
    "from bs4 import BeautifulSoup"
   ]
  },
  {
   "cell_type": "markdown",
   "metadata": {},
   "source": [
    "The first thing we need to do is get the raw HTML from Craigslist's Toronto food services page:\n",
    "\n",
    "<img src=\"assets/imgs/craigslist_listings.png\" width=\"50%\"/>\n",
    "\n",
    "We'll use `requests` to do this:"
   ]
  },
  {
   "cell_type": "code",
   "execution_count": 2,
   "metadata": {},
   "outputs": [
    {
     "data": {
      "text/plain": [
       "<Response [200]>"
      ]
     },
     "execution_count": 2,
     "metadata": {},
     "output_type": "execute_result"
    }
   ],
   "source": [
    "craigslist_url = \"https://toronto.craigslist.org/search/apa\"\n",
    "\n",
    "page = requests.get(craigslist_url)\n",
    "\n",
    "page"
   ]
  },
  {
   "cell_type": "markdown",
   "metadata": {},
   "source": [
    "We get the status code `200` which means that our HTTP request was successful! If the code was 404, that would suggest the page was not found. We can access the HTML content of the page using `page.content`. It's a very large body of HTML, so let's look at the first 500 characters of the response:"
   ]
  },
  {
   "cell_type": "code",
   "execution_count": 3,
   "metadata": {},
   "outputs": [
    {
     "name": "stdout",
     "output_type": "stream",
     "text": [
      "b'\\xef\\xbb\\xbf<!DOCTYPE html>\\n<html class=\"no-js\"><head>\\n    <title>toronto apts/housing for rent  - craigslist</title>\\n\\n    <meta name=\"description\" content=\"toronto apts/housing for rent  - craigslist\">\\n    <meta http-equiv=\"X-UA-Compatible\" content=\"IE=Edge\"/>\\n    <link rel=\"canonical\" href=\"https://toronto.craigslist.org/search/apa\">\\n    <link rel=\"alternate\" type=\"application/rss+xml\" href=\"https://toronto.craigslist.org/search/apa?format=rss\" title=\"RSS feed for craigslist | toronto apts/housing for '\n"
     ]
    }
   ],
   "source": [
    "print(page.content[0:500])"
   ]
  },
  {
   "cell_type": "markdown",
   "metadata": {},
   "source": [
    "The next thing we'll do is represent Craigslist's raw HTML as a BeautifulSoup object, which parses the HTML and allows us to search through the content in an efficient way. "
   ]
  },
  {
   "cell_type": "code",
   "execution_count": 4,
   "metadata": {},
   "outputs": [],
   "source": [
    "page_content = BeautifulSoup(page.content, \"html.parser\")"
   ]
  },
  {
   "cell_type": "markdown",
   "metadata": {},
   "source": [
    "We need to find out which parts of the HTML represent the apartment listings that we're looking for. If we're using Chrome as our web browser, we can use DevTools:\n",
    "\n",
    "<img src=\"assets/imgs/html_devtools.png\" width=\"70%\">\n",
    "\n",
    "Firefox and Internet Explorer have their own versions of HTML page inspectors. \n",
    "\n",
    "If you look closely at the HTML, you'll see that each apartment listing is represented inside a `<li>` element.\n",
    "\n",
    "<img src=\"assets/imgs/html_li_element.png\" width=\"60%\"/>\n",
    "\n",
    "We can access all `<li>`'s of the page using BeautifulSoup's [find_all()](https://www.crummy.com/software/BeautifulSoup/bs4/doc/#find) method."
   ]
  },
  {
   "cell_type": "code",
   "execution_count": 5,
   "metadata": {},
   "outputs": [
    {
     "name": "stdout",
     "output_type": "stream",
     "text": [
      "There are 120 li elements on the page.\n"
     ]
    }
   ],
   "source": [
    "li_elements = page_content.find_all(\"li\", class_=\"result-row\")\n",
    "\n",
    "print(f\"There are {len(li_elements)} li elements on the page.\")"
   ]
  },
  {
   "cell_type": "markdown",
   "metadata": {},
   "source": [
    "There are 120 listings on this webpage. Let's look at the first one."
   ]
  },
  {
   "cell_type": "code",
   "execution_count": 6,
   "metadata": {},
   "outputs": [
    {
     "data": {
      "text/plain": [
       "<li class=\"result-row\" data-pid=\"7050771974\">\n",
       "<a class=\"result-image gallery\" data-ids=\"1:00t0t_aKTCHwhcXpl,1:01717_eXBQsOuBIuN,1:00x0x_1h8QkC248sV,1:00c0c_3T2XrNG7pTf,1:00D0D_f0QhnLI5tRY,1:00q0q_ZmmQscLBr2\" href=\"https://toronto.craigslist.org/tor/apa/d/downtown-toronto-1-bedroom-for-rent-at/7050771974.html\">\n",
       "<span class=\"result-price\">$2300</span>\n",
       "</a>\n",
       "<p class=\"result-info\">\n",
       "<span class=\"icon icon-star\" role=\"button\">\n",
       "<span class=\"screen-reader-text\">favorite this post</span>\n",
       "</span>\n",
       "<time class=\"result-date\" datetime=\"2020-01-09 15:14\" title=\"Thu 09 Jan 03:14:58 PM\">Jan  9</time>\n",
       "<a class=\"result-title hdrlnk\" data-id=\"7050771974\" href=\"https://toronto.craigslist.org/tor/apa/d/downtown-toronto-1-bedroom-for-rent-at/7050771974.html\">1 Bedroom for Rent at Bay &amp; Harbour Street</a>\n",
       "<span class=\"result-meta\">\n",
       "<span class=\"result-price\">$2300</span>\n",
       "<span class=\"housing\">\n",
       "                    1br -\n",
       "                    499ft<sup>2</sup> -\n",
       "                </span>\n",
       "<span class=\"result-hood\"> (City of Toronto)</span>\n",
       "<span class=\"result-tags\">\n",
       "<span class=\"pictag\">pic</span>\n",
       "</span>\n",
       "<span class=\"banish icon icon-trash\" role=\"button\">\n",
       "<span class=\"screen-reader-text\">hide this posting</span>\n",
       "</span>\n",
       "<span aria-hidden=\"true\" class=\"unbanish icon icon-trash red\" role=\"button\"></span>\n",
       "<a class=\"restore-link\" href=\"#\">\n",
       "<span class=\"restore-narrow-text\">restore</span>\n",
       "<span class=\"restore-wide-text\">restore this posting</span>\n",
       "</a>\n",
       "</span>\n",
       "</p>\n",
       "</li>"
      ]
     },
     "execution_count": 6,
     "metadata": {},
     "output_type": "execute_result"
    }
   ],
   "source": [
    "one_apartment_listing = li_elements[0]\n",
    "\n",
    "one_apartment_listing"
   ]
  },
  {
   "cell_type": "markdown",
   "metadata": {},
   "source": [
    "The HTML above represents one apartment listing. We can get information from this listing such as:\n",
    "\n",
    "- price: `<span class=\"result-price\">`\n",
    "- number of bedrooms: `<span class=\"housing\">`\n",
    "- time at which listing was posted: `<time class=\"result-date\">`\n",
    "\n",
    "In this tutorial, we want to get the price and number of bedrooms from each listing. This means we should be focusing on the HTML elements containing `result-price` and `housing`. \n",
    "\n",
    "Let's first get the price."
   ]
  },
  {
   "cell_type": "code",
   "execution_count": 7,
   "metadata": {},
   "outputs": [
    {
     "data": {
      "text/plain": [
       "<span class=\"result-price\">$2300</span>"
      ]
     },
     "execution_count": 7,
     "metadata": {},
     "output_type": "execute_result"
    }
   ],
   "source": [
    "price = one_apartment_listing.find('span', class_='result-price')\n",
    "price"
   ]
  },
  {
   "cell_type": "markdown",
   "metadata": {},
   "source": [
    "Applying `find()` to `result-price` will return the HTML containing this class name. We only want the text inside this HTML, so we'll apply `.text` to our price object. "
   ]
  },
  {
   "cell_type": "code",
   "execution_count": 8,
   "metadata": {},
   "outputs": [
    {
     "data": {
      "text/plain": [
       "'$2300'"
      ]
     },
     "execution_count": 8,
     "metadata": {},
     "output_type": "execute_result"
    }
   ],
   "source": [
    "price.text"
   ]
  },
  {
   "cell_type": "markdown",
   "metadata": {},
   "source": [
    "Great! Now let's proceed to the number of bedrooms. This is inside the HTML span element that contains the `\"housing\"` class. "
   ]
  },
  {
   "cell_type": "code",
   "execution_count": 9,
   "metadata": {},
   "outputs": [
    {
     "data": {
      "text/plain": [
       "'\\n                    1br -\\n                    499ft2 -\\n                '"
      ]
     },
     "execution_count": 9,
     "metadata": {},
     "output_type": "execute_result"
    }
   ],
   "source": [
    "n_bedrooms = one_apartment_listing.find('span', class_='housing')\n",
    "n_bedrooms.text"
   ]
  },
  {
   "cell_type": "markdown",
   "metadata": {},
   "source": [
    "This text needs to be cleaned up. We should remove the white space using the [strip()](https://www.programiz.com/python-programming/methods/string/strip) method. We will also remove the \"br\" (short for bedrooms) to get just the number. We can use a cool trick where we split the text with `br` and take the first element of the resulting list."
   ]
  },
  {
   "cell_type": "code",
   "execution_count": 10,
   "metadata": {},
   "outputs": [
    {
     "data": {
      "text/plain": [
       "'1'"
      ]
     },
     "execution_count": 10,
     "metadata": {},
     "output_type": "execute_result"
    }
   ],
   "source": [
    "n_bedrooms_text = n_bedrooms.text.strip()\n",
    "n_bedrooms_text.split('br')[0]"
   ]
  },
  {
   "cell_type": "markdown",
   "metadata": {},
   "source": [
    "We now know how to get price information and number of bedrooms from a single apartment listing. Let's loop over all listing and create two lists - one containing prices, and another containing number of bedrooms.\n",
    "\n",
    "In some listings, the `<span class=\"housing\">` element doesn't exist. So if we tried to apply `n_bedrooms.text` when `n_bedrooms` is `None`, it would fail. To avoid this error, we'll set `n_bedrooms` to -999 to represent that it's a missing value. Check out the implementation in the code below."
   ]
  },
  {
   "cell_type": "code",
   "execution_count": 11,
   "metadata": {},
   "outputs": [],
   "source": [
    "all_prices = []\n",
    "all_n_bedrooms = []\n",
    "\n",
    "for listing  in li_elements:\n",
    "    # get price info\n",
    "    price = listing.find('span', class_='result-price')\n",
    "    price = price.text.replace('$', '')\n",
    "    all_prices.append(int(price))\n",
    "    \n",
    "    # get number of bedroom info\n",
    "    n_bedrooms = listing.find('span', class_='housing')\n",
    "    if n_bedrooms and 'br' in n_bedrooms.text:\n",
    "        n_bedrooms_text = n_bedrooms.text.strip().split('br')[0]\n",
    "    else: \n",
    "        n_bedrooms_text = -999\n",
    "    all_n_bedrooms.append(int(n_bedrooms_text))"
   ]
  },
  {
   "cell_type": "markdown",
   "metadata": {},
   "source": [
    "We have two lists containing information about aparmtnet rentals on Craigslist. Let's see what they look like. "
   ]
  },
  {
   "cell_type": "code",
   "execution_count": 23,
   "metadata": {},
   "outputs": [
    {
     "name": "stdout",
     "output_type": "stream",
     "text": [
      "Apartment prices: [2300, 2400, 2700, 2950, 2600, 825, 1990, 1150, 2400, 1899, 1299, 1700, 1600, 2550, 1600, 500, 1700, 2300, 2600, 4250, 3495, 5995, 4995, 2300, 2100, 3695, 4795, 13995, 7995, 4995, 24995, 8495, 2995, 2795, 19995, 4595, 4195, 2995, 3495, 3495, 1750, 2895, 4495, 2050, 2599, 2695, 4250, 6995, 5995, 2695, 4995, 3995, 2695, 2195, 2695, 3995, 7995, 2595, 7495, 3300, 3495, 2495, 3350, 2695, 5195, 5995, 7260, 5595, 4995, 7450, 2395, 3495, 3795, 2895, 3495, 2495, 3095, 3495, 3295, 4995, 4695, 3195, 1950, 2995, 7995, 3495, 3150, 3650, 4995, 5495, 2395, 3545, 2995, 2095, 2495, 11995, 3795, 1625, 3295, 3995, 5795, 1350, 800, 3600, 2400, 800, 2200, 2200, 1600, 2500, 2300, 3500, 2345, 3700, 780, 790, 755, 3499, 1495, 3400]\n"
     ]
    }
   ],
   "source": [
    "print(\"Apartment prices:\", all_prices)"
   ]
  },
  {
   "cell_type": "code",
   "execution_count": 22,
   "metadata": {},
   "outputs": [
    {
     "name": "stdout",
     "output_type": "stream",
     "text": [
      "Number of bedrooms: [1, 1, 2, 2, 2, 1, 1, 1, -999, 1, 1, 1, 2, 2, 2, 2, 2, 2, 2, 1, 1, 2, 3, 1, 1, 1, 1, 3, 4, 2, 3, 2, 1, 2, 4, 3, 3, 2, 1, 3, 1, 1, 2, 2, 1, 1, 1, 5, 3, 1, 2, 2, 1, 1, 1, 1, 2, 1, 2, 1, 2, 1, -999, 3, 2, 3, 2, 2, 2, 3, 1, 1, 2, 1, 1, 1, 1, 1, 1, 1, 1, 1, 1, 2, 4, 1, 1, 1, 2, 3, 1, 1, 1, 1, 1, 4, 2, 1, 1, 2, 2, 1, 1, 3, 2, 1, 2, 1, 2, 2, 2, 2, 2, 2, -999, -999, -999, 2, 1, 2]\n"
     ]
    }
   ],
   "source": [
    "print(\"Number of bedrooms:\", all_n_bedrooms)"
   ]
  },
  {
   "cell_type": "markdown",
   "metadata": {},
   "source": [
    "As you can see in the list above, there are some listings that have number of bedrooms missing. These are represented by -999. \n",
    "\n",
    "Our next steps is to represent these two lists in the form of a pandas dataframe, which will give us a better visualization of the data we collected. We'll be covering pandas dataframes in Part 2 of the series, so don't worry about the syntax for now."
   ]
  },
  {
   "cell_type": "code",
   "execution_count": 14,
   "metadata": {},
   "outputs": [
    {
     "name": "stdout",
     "output_type": "stream",
     "text": [
      "Shape: (120, 2)\n"
     ]
    },
    {
     "data": {
      "text/html": [
       "<div>\n",
       "<style scoped>\n",
       "    .dataframe tbody tr th:only-of-type {\n",
       "        vertical-align: middle;\n",
       "    }\n",
       "\n",
       "    .dataframe tbody tr th {\n",
       "        vertical-align: top;\n",
       "    }\n",
       "\n",
       "    .dataframe thead th {\n",
       "        text-align: right;\n",
       "    }\n",
       "</style>\n",
       "<table border=\"1\" class=\"dataframe\">\n",
       "  <thead>\n",
       "    <tr style=\"text-align: right;\">\n",
       "      <th></th>\n",
       "      <th>price</th>\n",
       "      <th>n_bedrooms</th>\n",
       "    </tr>\n",
       "  </thead>\n",
       "  <tbody>\n",
       "    <tr>\n",
       "      <th>0</th>\n",
       "      <td>2300</td>\n",
       "      <td>1</td>\n",
       "    </tr>\n",
       "    <tr>\n",
       "      <th>1</th>\n",
       "      <td>2400</td>\n",
       "      <td>1</td>\n",
       "    </tr>\n",
       "    <tr>\n",
       "      <th>2</th>\n",
       "      <td>2700</td>\n",
       "      <td>2</td>\n",
       "    </tr>\n",
       "    <tr>\n",
       "      <th>3</th>\n",
       "      <td>2950</td>\n",
       "      <td>2</td>\n",
       "    </tr>\n",
       "    <tr>\n",
       "      <th>4</th>\n",
       "      <td>2600</td>\n",
       "      <td>2</td>\n",
       "    </tr>\n",
       "  </tbody>\n",
       "</table>\n",
       "</div>"
      ],
      "text/plain": [
       "   price  n_bedrooms\n",
       "0   2300           1\n",
       "1   2400           1\n",
       "2   2700           2\n",
       "3   2950           2\n",
       "4   2600           2"
      ]
     },
     "execution_count": 14,
     "metadata": {},
     "output_type": "execute_result"
    }
   ],
   "source": [
    "import pandas as pd\n",
    "\n",
    "apartment_listings = pd.DataFrame({\n",
    "    'price': all_prices,\n",
    "    'n_bedrooms': all_n_bedrooms\n",
    "})\n",
    "\n",
    "print(f\"Shape: {apartment_listings.shape}\")\n",
    "apartment_listings.head()"
   ]
  },
  {
   "cell_type": "code",
   "execution_count": 15,
   "metadata": {},
   "outputs": [
    {
     "data": {
      "text/plain": [
       "(115, 2)"
      ]
     },
     "execution_count": 15,
     "metadata": {},
     "output_type": "execute_result"
    }
   ],
   "source": [
    "apartment_listings = apartment_listings[apartment_listings['n_bedrooms']>=0]\n",
    "\n",
    "apartment_listings.shape"
   ]
  },
  {
   "cell_type": "code",
   "execution_count": 18,
   "metadata": {},
   "outputs": [
    {
     "data": {
      "text/plain": [
       "<matplotlib.axes._subplots.AxesSubplot at 0x111620550>"
      ]
     },
     "execution_count": 18,
     "metadata": {},
     "output_type": "execute_result"
    },
    {
     "data": {
      "image/png": "[encoded data removed]",
      "text/plain": [
       "<Figure size 432x288 with 1 Axes>"
      ]
     },
     "metadata": {
      "needs_background": "light"
     },
     "output_type": "display_data"
    }
   ],
   "source": [
    "import seaborn as sns\n",
    "\n",
    "sns.countplot(apartment_listings['n_bedrooms'], palette='Blues')"
   ]
  },
  {
   "cell_type": "code",
   "execution_count": 19,
   "metadata": {},
   "outputs": [
    {
     "data": {
      "text/plain": [
       "<matplotlib.axes._subplots.AxesSubplot at 0x1216a8590>"
      ]
     },
     "execution_count": 19,
     "metadata": {},
     "output_type": "execute_result"
    },
    {
     "data": {
      "image/png": "[encoded data removed]",
      "text/plain": [
       "<Figure size 432x288 with 1 Axes>"
      ]
     },
     "metadata": {
      "needs_background": "light"
     },
     "output_type": "display_data"
    }
   ],
   "source": [
    "sns.lineplot(x='n_bedrooms', y='price', data=apartment_listings)"
   ]
  },
  {
   "cell_type": "markdown",
   "metadata": {},
   "source": [
    "### Scraping Etiquette\n",
    "\n",
    "Web scraping can also overload a server, if you are making a large amount of requests, and scraping large amounts of data."
   ]
  },
  {
   "cell_type": "markdown",
   "metadata": {},
   "source": [
    "### Next Steps\n",
    "\n",
    "- **Pagination**\n",
    "    - We implemented a scraper that only looks at the first page of Craigslist's housing section. Expand on this scraper by adding pagination. This [tutorial](https://blog.floydhub.com/web-scraping-with-python/) explains how to incorporate pagination into a Beautiful Soup scraper.\n",
    "- **Nested pages**\n",
    "    - We looked at the information provided on the overview page of Craigslist. If you click on an apartment listing link, it'll redirect to a page with more information about that apartment listing. Try implementing logic in your scraper that goes to each apartment rental page and gets more information from that listing (e.g., GPS coordinates).\n",
    "- **Build another scraper from scratch**\n",
    "    - Follow this [tutorial](https://realpython.com/beautiful-soup-web-scraper-python/) to build a job site scraper with Beautiful Soup"
   ]
  },
  {
   "cell_type": "markdown",
   "metadata": {},
   "source": [
    "### Resources\n",
    "\n",
    "- A Guide to Python's Requests Library - [link](https://realpython.com/python-requests/)\n",
    "- Practical Introduction to Web Scraping in Python - [link](https://realpython.com/python-web-scraping-practical-introduction/)"
   ]
  }
 ],
 "metadata": {
  "kernelspec": {
   "display_name": "Python 3",
   "language": "python",
   "name": "python3"
  },
  "language_info": {
   "codemirror_mode": {
    "name": "ipython",
    "version": 3
   },
   "file_extension": ".py",
   "mimetype": "text/x-python",
   "name": "python",
   "nbconvert_exporter": "python",
   "pygments_lexer": "ipython3",
   "version": "3.7.4"
  }
 },
 "nbformat": 4,
 "nbformat_minor": 2
}
